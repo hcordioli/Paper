{
 "cells": [
  {
   "cell_type": "markdown",
   "id": "35cdb27f",
   "metadata": {},
   "source": [
    "# Versionamento"
   ]
  },
  {
   "cell_type": "markdown",
   "id": "a64b68d1",
   "metadata": {},
   "source": [
    "V2: \n",
    "<ul>\n",
    "    <li>Inclusão da variável categórica x28 que está relacionada com o tipo de papel em produção</li>\n",
    "    <li>Feature Selection</li>\n",
    "    <li>Feature Scalling</li>\n",
    "</ul>"
   ]
  },
  {
   "cell_type": "markdown",
   "id": "ab4d4236",
   "metadata": {},
   "source": [
    "V3:\n",
    "<ul>\n",
    "    <li>Ajuste de parâmetros dos modelos</li>\n",
    "    <li> V2: correção da função lstm_data_transform para pegar o target correto</li>\n",
    "</ul>"
   ]
  },
  {
   "cell_type": "markdown",
   "id": "8af147a2",
   "metadata": {},
   "source": [
    "# O problema"
   ]
  },
  {
   "cell_type": "markdown",
   "id": "a5640d24",
   "metadata": {},
   "source": [
    "Paper manufacturing can be viewed as a continuous rolling process. During this process, sometimes the paper breaks. If a break happens, the entire process is stopped, the reel is taken out, any found problem is fixed, and the production is resumed. The resumption can take more than an hour.\n",
    "\n",
    "The cost of this lost production time is significant for a mill. Even a 5% reduction in the break events will give a significant cost saving for a mill. The objective of the given problem is to predict such breaks in advance (early prediction) and identify the potential cause(s) to prevent the break. \n",
    "\n",
    "To build such a prediction model, we will use the data collected from the network of sensors in a mill."
   ]
  },
  {
   "cell_type": "markdown",
   "id": "da647642",
   "metadata": {},
   "source": [
    "This is a multivariate time series data with break as the response (a\n",
    "binary variable).\n",
    "The provided data has,\n",
    "<ul>\n",
    "    <li>18,398 records.</li>\n",
    "    <li>Columns:</li>\n",
    "        <ul>\n",
    "        <li>time: the timestamp of the row</li>\n",
    "        <li>y: the binary response variable. There are only 124 rows with y = 1, rest are y = 0.</li>\n",
    "        <li>x1-x61: predictor variables. All the predictors are continuous variables, except x28 and x61. x61 is a binary variable, and x28 is a\n",
    "        categorical variable. All the predictors are centered. Besides, the predictors are a mixture of raw materials and process variables. Their descriptions are omitted for data anonymity.\n",
    "            Several sensors are placed in different parts of the machine along its length\n",
    "and breadth. These sensors measure both raw materials (e.g. amount of pulp\n",
    "fiber, chemicals, etc.) and process variables (e.g. blade type, couch vacuum,\n",
    "rotor speed, etc.).</li>\n",
    "        </ul>\n",
    "</ul>"
   ]
  },
  {
   "cell_type": "markdown",
   "id": "b2e887af",
   "metadata": {},
   "source": [
    "# Setup"
   ]
  },
  {
   "cell_type": "code",
   "execution_count": 1,
   "id": "bc68ad8b",
   "metadata": {},
   "outputs": [],
   "source": [
    "import pandas as pd\n",
    "import numpy as np\n",
    "import seaborn as sns\n",
    "import matplotlib.pyplot as plt\n",
    "from matplotlib.pyplot import figure\n",
    "from sklearn.metrics import confusion_matrix, recall_score, precision_score\n",
    "import datetime"
   ]
  },
  {
   "cell_type": "markdown",
   "id": "fb011b14",
   "metadata": {},
   "source": [
    "# Load Data"
   ]
  },
  {
   "cell_type": "code",
   "execution_count": 2,
   "id": "6d0806f3",
   "metadata": {},
   "outputs": [],
   "source": [
    "pwbdatafile = '..\\\\data\\\\processminer-rare-event-mts-data.csv'\n",
    "pwbds = pd.read_csv(pwbdatafile)"
   ]
  },
  {
   "cell_type": "code",
   "execution_count": 3,
   "id": "54b202b0",
   "metadata": {},
   "outputs": [
    {
     "data": {
      "text/html": [
       "<div>\n",
       "<style scoped>\n",
       "    .dataframe tbody tr th:only-of-type {\n",
       "        vertical-align: middle;\n",
       "    }\n",
       "\n",
       "    .dataframe tbody tr th {\n",
       "        vertical-align: top;\n",
       "    }\n",
       "\n",
       "    .dataframe thead th {\n",
       "        text-align: right;\n",
       "    }\n",
       "</style>\n",
       "<table border=\"1\" class=\"dataframe\">\n",
       "  <thead>\n",
       "    <tr style=\"text-align: right;\">\n",
       "      <th></th>\n",
       "      <th>time</th>\n",
       "      <th>y</th>\n",
       "      <th>x1</th>\n",
       "      <th>x2</th>\n",
       "      <th>x3</th>\n",
       "      <th>x4</th>\n",
       "      <th>x5</th>\n",
       "      <th>x6</th>\n",
       "      <th>x7</th>\n",
       "      <th>x8</th>\n",
       "      <th>...</th>\n",
       "      <th>x52</th>\n",
       "      <th>x53</th>\n",
       "      <th>x54</th>\n",
       "      <th>x55</th>\n",
       "      <th>x56</th>\n",
       "      <th>x57</th>\n",
       "      <th>x58</th>\n",
       "      <th>x59</th>\n",
       "      <th>x60</th>\n",
       "      <th>x61</th>\n",
       "    </tr>\n",
       "  </thead>\n",
       "  <tbody>\n",
       "    <tr>\n",
       "      <th>0</th>\n",
       "      <td>5/1/99 0:00</td>\n",
       "      <td>0</td>\n",
       "      <td>0.376665</td>\n",
       "      <td>-4.596435</td>\n",
       "      <td>-4.095756</td>\n",
       "      <td>13.497687</td>\n",
       "      <td>-0.118830</td>\n",
       "      <td>-20.669883</td>\n",
       "      <td>0.000732</td>\n",
       "      <td>-0.061114</td>\n",
       "      <td>...</td>\n",
       "      <td>10.091721</td>\n",
       "      <td>0.053279</td>\n",
       "      <td>-4.936434</td>\n",
       "      <td>-24.590146</td>\n",
       "      <td>18.515436</td>\n",
       "      <td>3.473400</td>\n",
       "      <td>0.033444</td>\n",
       "      <td>0.953219</td>\n",
       "      <td>0.006076</td>\n",
       "      <td>0</td>\n",
       "    </tr>\n",
       "    <tr>\n",
       "      <th>1</th>\n",
       "      <td>5/1/99 0:02</td>\n",
       "      <td>0</td>\n",
       "      <td>0.475720</td>\n",
       "      <td>-4.542502</td>\n",
       "      <td>-4.018359</td>\n",
       "      <td>16.230659</td>\n",
       "      <td>-0.128733</td>\n",
       "      <td>-18.758079</td>\n",
       "      <td>0.000732</td>\n",
       "      <td>-0.061114</td>\n",
       "      <td>...</td>\n",
       "      <td>10.095871</td>\n",
       "      <td>0.062801</td>\n",
       "      <td>-4.937179</td>\n",
       "      <td>-32.413266</td>\n",
       "      <td>22.760065</td>\n",
       "      <td>2.682933</td>\n",
       "      <td>0.033536</td>\n",
       "      <td>1.090502</td>\n",
       "      <td>0.006083</td>\n",
       "      <td>0</td>\n",
       "    </tr>\n",
       "    <tr>\n",
       "      <th>2</th>\n",
       "      <td>5/1/99 0:04</td>\n",
       "      <td>0</td>\n",
       "      <td>0.363848</td>\n",
       "      <td>-4.681394</td>\n",
       "      <td>-4.353147</td>\n",
       "      <td>14.127998</td>\n",
       "      <td>-0.138636</td>\n",
       "      <td>-17.836632</td>\n",
       "      <td>0.010803</td>\n",
       "      <td>-0.061114</td>\n",
       "      <td>...</td>\n",
       "      <td>10.100265</td>\n",
       "      <td>0.072322</td>\n",
       "      <td>-4.937924</td>\n",
       "      <td>-34.183774</td>\n",
       "      <td>27.004663</td>\n",
       "      <td>3.537487</td>\n",
       "      <td>0.033629</td>\n",
       "      <td>1.840540</td>\n",
       "      <td>0.006090</td>\n",
       "      <td>0</td>\n",
       "    </tr>\n",
       "    <tr>\n",
       "      <th>3</th>\n",
       "      <td>5/1/99 0:06</td>\n",
       "      <td>0</td>\n",
       "      <td>0.301590</td>\n",
       "      <td>-4.758934</td>\n",
       "      <td>-4.023612</td>\n",
       "      <td>13.161567</td>\n",
       "      <td>-0.148142</td>\n",
       "      <td>-18.517601</td>\n",
       "      <td>0.002075</td>\n",
       "      <td>-0.061114</td>\n",
       "      <td>...</td>\n",
       "      <td>10.104660</td>\n",
       "      <td>0.081600</td>\n",
       "      <td>-4.938669</td>\n",
       "      <td>-35.954281</td>\n",
       "      <td>21.672449</td>\n",
       "      <td>3.986095</td>\n",
       "      <td>0.033721</td>\n",
       "      <td>2.554880</td>\n",
       "      <td>0.006097</td>\n",
       "      <td>0</td>\n",
       "    </tr>\n",
       "    <tr>\n",
       "      <th>4</th>\n",
       "      <td>5/1/99 0:08</td>\n",
       "      <td>0</td>\n",
       "      <td>0.265578</td>\n",
       "      <td>-4.749928</td>\n",
       "      <td>-4.333150</td>\n",
       "      <td>15.267340</td>\n",
       "      <td>-0.155314</td>\n",
       "      <td>-17.505913</td>\n",
       "      <td>0.000732</td>\n",
       "      <td>-0.061114</td>\n",
       "      <td>...</td>\n",
       "      <td>10.109054</td>\n",
       "      <td>0.091121</td>\n",
       "      <td>-4.939414</td>\n",
       "      <td>-37.724789</td>\n",
       "      <td>21.907251</td>\n",
       "      <td>3.601573</td>\n",
       "      <td>0.033777</td>\n",
       "      <td>1.410494</td>\n",
       "      <td>0.006105</td>\n",
       "      <td>0</td>\n",
       "    </tr>\n",
       "  </tbody>\n",
       "</table>\n",
       "<p>5 rows × 63 columns</p>\n",
       "</div>"
      ],
      "text/plain": [
       "          time  y        x1        x2        x3         x4        x5  \\\n",
       "0  5/1/99 0:00  0  0.376665 -4.596435 -4.095756  13.497687 -0.118830   \n",
       "1  5/1/99 0:02  0  0.475720 -4.542502 -4.018359  16.230659 -0.128733   \n",
       "2  5/1/99 0:04  0  0.363848 -4.681394 -4.353147  14.127998 -0.138636   \n",
       "3  5/1/99 0:06  0  0.301590 -4.758934 -4.023612  13.161567 -0.148142   \n",
       "4  5/1/99 0:08  0  0.265578 -4.749928 -4.333150  15.267340 -0.155314   \n",
       "\n",
       "          x6        x7        x8  ...        x52       x53       x54  \\\n",
       "0 -20.669883  0.000732 -0.061114  ...  10.091721  0.053279 -4.936434   \n",
       "1 -18.758079  0.000732 -0.061114  ...  10.095871  0.062801 -4.937179   \n",
       "2 -17.836632  0.010803 -0.061114  ...  10.100265  0.072322 -4.937924   \n",
       "3 -18.517601  0.002075 -0.061114  ...  10.104660  0.081600 -4.938669   \n",
       "4 -17.505913  0.000732 -0.061114  ...  10.109054  0.091121 -4.939414   \n",
       "\n",
       "         x55        x56       x57       x58       x59       x60  x61  \n",
       "0 -24.590146  18.515436  3.473400  0.033444  0.953219  0.006076    0  \n",
       "1 -32.413266  22.760065  2.682933  0.033536  1.090502  0.006083    0  \n",
       "2 -34.183774  27.004663  3.537487  0.033629  1.840540  0.006090    0  \n",
       "3 -35.954281  21.672449  3.986095  0.033721  2.554880  0.006097    0  \n",
       "4 -37.724789  21.907251  3.601573  0.033777  1.410494  0.006105    0  \n",
       "\n",
       "[5 rows x 63 columns]"
      ]
     },
     "execution_count": 3,
     "metadata": {},
     "output_type": "execute_result"
    }
   ],
   "source": [
    "pwbds.head()"
   ]
  },
  {
   "cell_type": "code",
   "execution_count": 4,
   "id": "1556e815",
   "metadata": {},
   "outputs": [
    {
     "data": {
      "text/plain": [
       "(18009, 63)"
      ]
     },
     "execution_count": 4,
     "metadata": {},
     "output_type": "execute_result"
    }
   ],
   "source": [
    "pwbds.shape"
   ]
  },
  {
   "cell_type": "code",
   "execution_count": 5,
   "id": "db180f5d",
   "metadata": {},
   "outputs": [
    {
     "data": {
      "text/html": [
       "<div>\n",
       "<style scoped>\n",
       "    .dataframe tbody tr th:only-of-type {\n",
       "        vertical-align: middle;\n",
       "    }\n",
       "\n",
       "    .dataframe tbody tr th {\n",
       "        vertical-align: top;\n",
       "    }\n",
       "\n",
       "    .dataframe thead th {\n",
       "        text-align: right;\n",
       "    }\n",
       "</style>\n",
       "<table border=\"1\" class=\"dataframe\">\n",
       "  <thead>\n",
       "    <tr style=\"text-align: right;\">\n",
       "      <th></th>\n",
       "      <th>y</th>\n",
       "      <th>x1</th>\n",
       "      <th>x2</th>\n",
       "      <th>x3</th>\n",
       "      <th>x4</th>\n",
       "      <th>x5</th>\n",
       "      <th>x6</th>\n",
       "      <th>x7</th>\n",
       "      <th>x8</th>\n",
       "      <th>x9</th>\n",
       "      <th>...</th>\n",
       "      <th>x52</th>\n",
       "      <th>x53</th>\n",
       "      <th>x54</th>\n",
       "      <th>x55</th>\n",
       "      <th>x56</th>\n",
       "      <th>x57</th>\n",
       "      <th>x58</th>\n",
       "      <th>x59</th>\n",
       "      <th>x60</th>\n",
       "      <th>x61</th>\n",
       "    </tr>\n",
       "  </thead>\n",
       "  <tbody>\n",
       "    <tr>\n",
       "      <th>count</th>\n",
       "      <td>18009.000000</td>\n",
       "      <td>18009.000000</td>\n",
       "      <td>18009.000000</td>\n",
       "      <td>18009.000000</td>\n",
       "      <td>18009.000000</td>\n",
       "      <td>18009.000000</td>\n",
       "      <td>18009.000000</td>\n",
       "      <td>18009.000000</td>\n",
       "      <td>18009.000000</td>\n",
       "      <td>18009.000000</td>\n",
       "      <td>...</td>\n",
       "      <td>18009.000000</td>\n",
       "      <td>18009.000000</td>\n",
       "      <td>18009.000000</td>\n",
       "      <td>18009.000000</td>\n",
       "      <td>18009.000000</td>\n",
       "      <td>18009.000000</td>\n",
       "      <td>18009.000000</td>\n",
       "      <td>18009.000000</td>\n",
       "      <td>18009.000000</td>\n",
       "      <td>18009.000000</td>\n",
       "    </tr>\n",
       "    <tr>\n",
       "      <th>mean</th>\n",
       "      <td>0.006830</td>\n",
       "      <td>0.035331</td>\n",
       "      <td>0.103388</td>\n",
       "      <td>0.502687</td>\n",
       "      <td>-12.573059</td>\n",
       "      <td>0.008110</td>\n",
       "      <td>2.316316</td>\n",
       "      <td>0.004256</td>\n",
       "      <td>-0.005172</td>\n",
       "      <td>-0.005156</td>\n",
       "      <td>...</td>\n",
       "      <td>0.413040</td>\n",
       "      <td>0.400073</td>\n",
       "      <td>0.119113</td>\n",
       "      <td>2.375554</td>\n",
       "      <td>10.559560</td>\n",
       "      <td>0.263504</td>\n",
       "      <td>-0.002106</td>\n",
       "      <td>-0.066821</td>\n",
       "      <td>0.001513</td>\n",
       "      <td>0.001055</td>\n",
       "    </tr>\n",
       "    <tr>\n",
       "      <th>std</th>\n",
       "      <td>0.082363</td>\n",
       "      <td>0.730243</td>\n",
       "      <td>4.957904</td>\n",
       "      <td>5.953075</td>\n",
       "      <td>130.997830</td>\n",
       "      <td>0.639591</td>\n",
       "      <td>37.224167</td>\n",
       "      <td>0.108337</td>\n",
       "      <td>0.075598</td>\n",
       "      <td>0.145683</td>\n",
       "      <td>...</td>\n",
       "      <td>6.274133</td>\n",
       "      <td>14.323519</td>\n",
       "      <td>3.038758</td>\n",
       "      <td>68.610467</td>\n",
       "      <td>81.552661</td>\n",
       "      <td>2.341876</td>\n",
       "      <td>0.049119</td>\n",
       "      <td>10.451196</td>\n",
       "      <td>0.004433</td>\n",
       "      <td>0.032465</td>\n",
       "    </tr>\n",
       "    <tr>\n",
       "      <th>min</th>\n",
       "      <td>0.000000</td>\n",
       "      <td>-3.787279</td>\n",
       "      <td>-17.316550</td>\n",
       "      <td>-18.198509</td>\n",
       "      <td>-322.781610</td>\n",
       "      <td>-1.623988</td>\n",
       "      <td>-279.408440</td>\n",
       "      <td>-0.429273</td>\n",
       "      <td>-0.451141</td>\n",
       "      <td>-0.120087</td>\n",
       "      <td>...</td>\n",
       "      <td>-187.943440</td>\n",
       "      <td>-1817.595500</td>\n",
       "      <td>-8.210370</td>\n",
       "      <td>-230.574030</td>\n",
       "      <td>-269.039500</td>\n",
       "      <td>-12.640370</td>\n",
       "      <td>-0.149790</td>\n",
       "      <td>-100.810500</td>\n",
       "      <td>-0.007467</td>\n",
       "      <td>0.000000</td>\n",
       "    </tr>\n",
       "    <tr>\n",
       "      <th>25%</th>\n",
       "      <td>0.000000</td>\n",
       "      <td>-0.359034</td>\n",
       "      <td>-2.242758</td>\n",
       "      <td>-3.610612</td>\n",
       "      <td>-112.090980</td>\n",
       "      <td>-0.452250</td>\n",
       "      <td>-24.595360</td>\n",
       "      <td>-0.049319</td>\n",
       "      <td>-0.051043</td>\n",
       "      <td>-0.059966</td>\n",
       "      <td>...</td>\n",
       "      <td>-3.804520</td>\n",
       "      <td>-1.893986</td>\n",
       "      <td>0.471525</td>\n",
       "      <td>-41.054135</td>\n",
       "      <td>-45.360800</td>\n",
       "      <td>-1.653737</td>\n",
       "      <td>0.000747</td>\n",
       "      <td>0.293452</td>\n",
       "      <td>-0.001699</td>\n",
       "      <td>0.000000</td>\n",
       "    </tr>\n",
       "    <tr>\n",
       "      <th>50%</th>\n",
       "      <td>0.000000</td>\n",
       "      <td>0.140347</td>\n",
       "      <td>-0.129576</td>\n",
       "      <td>-0.353550</td>\n",
       "      <td>-17.172632</td>\n",
       "      <td>-0.121546</td>\n",
       "      <td>10.111336</td>\n",
       "      <td>0.000732</td>\n",
       "      <td>-0.011064</td>\n",
       "      <td>-0.030057</td>\n",
       "      <td>...</td>\n",
       "      <td>0.294846</td>\n",
       "      <td>0.163143</td>\n",
       "      <td>0.654139</td>\n",
       "      <td>18.547672</td>\n",
       "      <td>3.833948</td>\n",
       "      <td>0.085826</td>\n",
       "      <td>0.013077</td>\n",
       "      <td>0.736788</td>\n",
       "      <td>0.000964</td>\n",
       "      <td>0.000000</td>\n",
       "    </tr>\n",
       "    <tr>\n",
       "      <th>75%</th>\n",
       "      <td>0.000000</td>\n",
       "      <td>0.427898</td>\n",
       "      <td>2.277959</td>\n",
       "      <td>3.365069</td>\n",
       "      <td>84.982124</td>\n",
       "      <td>0.336385</td>\n",
       "      <td>32.676766</td>\n",
       "      <td>0.060853</td>\n",
       "      <td>0.038986</td>\n",
       "      <td>-0.000149</td>\n",
       "      <td>...</td>\n",
       "      <td>5.312424</td>\n",
       "      <td>3.533260</td>\n",
       "      <td>2.665483</td>\n",
       "      <td>44.583805</td>\n",
       "      <td>64.510522</td>\n",
       "      <td>2.222118</td>\n",
       "      <td>0.021056</td>\n",
       "      <td>1.272997</td>\n",
       "      <td>0.004291</td>\n",
       "      <td>0.000000</td>\n",
       "    </tr>\n",
       "    <tr>\n",
       "      <th>max</th>\n",
       "      <td>1.000000</td>\n",
       "      <td>3.054156</td>\n",
       "      <td>16.742105</td>\n",
       "      <td>15.900116</td>\n",
       "      <td>334.694098</td>\n",
       "      <td>4.239385</td>\n",
       "      <td>96.060768</td>\n",
       "      <td>1.705590</td>\n",
       "      <td>0.788826</td>\n",
       "      <td>3.206675</td>\n",
       "      <td>...</td>\n",
       "      <td>14.180588</td>\n",
       "      <td>11.148006</td>\n",
       "      <td>6.475137</td>\n",
       "      <td>287.252017</td>\n",
       "      <td>252.147455</td>\n",
       "      <td>6.922008</td>\n",
       "      <td>0.060264</td>\n",
       "      <td>6.985460</td>\n",
       "      <td>0.020510</td>\n",
       "      <td>1.000000</td>\n",
       "    </tr>\n",
       "  </tbody>\n",
       "</table>\n",
       "<p>8 rows × 62 columns</p>\n",
       "</div>"
      ],
      "text/plain": [
       "                  y            x1            x2            x3            x4  \\\n",
       "count  18009.000000  18009.000000  18009.000000  18009.000000  18009.000000   \n",
       "mean       0.006830      0.035331      0.103388      0.502687    -12.573059   \n",
       "std        0.082363      0.730243      4.957904      5.953075    130.997830   \n",
       "min        0.000000     -3.787279    -17.316550    -18.198509   -322.781610   \n",
       "25%        0.000000     -0.359034     -2.242758     -3.610612   -112.090980   \n",
       "50%        0.000000      0.140347     -0.129576     -0.353550    -17.172632   \n",
       "75%        0.000000      0.427898      2.277959      3.365069     84.982124   \n",
       "max        1.000000      3.054156     16.742105     15.900116    334.694098   \n",
       "\n",
       "                 x5            x6            x7            x8            x9  \\\n",
       "count  18009.000000  18009.000000  18009.000000  18009.000000  18009.000000   \n",
       "mean       0.008110      2.316316      0.004256     -0.005172     -0.005156   \n",
       "std        0.639591     37.224167      0.108337      0.075598      0.145683   \n",
       "min       -1.623988   -279.408440     -0.429273     -0.451141     -0.120087   \n",
       "25%       -0.452250    -24.595360     -0.049319     -0.051043     -0.059966   \n",
       "50%       -0.121546     10.111336      0.000732     -0.011064     -0.030057   \n",
       "75%        0.336385     32.676766      0.060853      0.038986     -0.000149   \n",
       "max        4.239385     96.060768      1.705590      0.788826      3.206675   \n",
       "\n",
       "       ...           x52           x53           x54           x55  \\\n",
       "count  ...  18009.000000  18009.000000  18009.000000  18009.000000   \n",
       "mean   ...      0.413040      0.400073      0.119113      2.375554   \n",
       "std    ...      6.274133     14.323519      3.038758     68.610467   \n",
       "min    ...   -187.943440  -1817.595500     -8.210370   -230.574030   \n",
       "25%    ...     -3.804520     -1.893986      0.471525    -41.054135   \n",
       "50%    ...      0.294846      0.163143      0.654139     18.547672   \n",
       "75%    ...      5.312424      3.533260      2.665483     44.583805   \n",
       "max    ...     14.180588     11.148006      6.475137    287.252017   \n",
       "\n",
       "                x56           x57           x58           x59           x60  \\\n",
       "count  18009.000000  18009.000000  18009.000000  18009.000000  18009.000000   \n",
       "mean      10.559560      0.263504     -0.002106     -0.066821      0.001513   \n",
       "std       81.552661      2.341876      0.049119     10.451196      0.004433   \n",
       "min     -269.039500    -12.640370     -0.149790   -100.810500     -0.007467   \n",
       "25%      -45.360800     -1.653737      0.000747      0.293452     -0.001699   \n",
       "50%        3.833948      0.085826      0.013077      0.736788      0.000964   \n",
       "75%       64.510522      2.222118      0.021056      1.272997      0.004291   \n",
       "max      252.147455      6.922008      0.060264      6.985460      0.020510   \n",
       "\n",
       "                x61  \n",
       "count  18009.000000  \n",
       "mean       0.001055  \n",
       "std        0.032465  \n",
       "min        0.000000  \n",
       "25%        0.000000  \n",
       "50%        0.000000  \n",
       "75%        0.000000  \n",
       "max        1.000000  \n",
       "\n",
       "[8 rows x 62 columns]"
      ]
     },
     "execution_count": 5,
     "metadata": {},
     "output_type": "execute_result"
    }
   ],
   "source": [
    "pwbds.describe()"
   ]
  },
  {
   "cell_type": "code",
   "execution_count": 6,
   "id": "91d21878",
   "metadata": {},
   "outputs": [
    {
     "name": "stdout",
     "output_type": "stream",
     "text": [
      "<class 'pandas.core.frame.DataFrame'>\n",
      "RangeIndex: 18009 entries, 0 to 18008\n",
      "Data columns (total 63 columns):\n",
      "time    18009 non-null object\n",
      "y       18009 non-null int64\n",
      "x1      18009 non-null float64\n",
      "x2      18009 non-null float64\n",
      "x3      18009 non-null float64\n",
      "x4      18009 non-null float64\n",
      "x5      18009 non-null float64\n",
      "x6      18009 non-null float64\n",
      "x7      18009 non-null float64\n",
      "x8      18009 non-null float64\n",
      "x9      18009 non-null float64\n",
      "x10     18009 non-null float64\n",
      "x11     18009 non-null float64\n",
      "x12     18009 non-null float64\n",
      "x13     18009 non-null float64\n",
      "x14     18009 non-null float64\n",
      "x15     18009 non-null float64\n",
      "x16     18009 non-null float64\n",
      "x17     18009 non-null float64\n",
      "x18     18009 non-null float64\n",
      "x19     18009 non-null float64\n",
      "x20     18009 non-null float64\n",
      "x21     18009 non-null float64\n",
      "x22     18009 non-null float64\n",
      "x23     18009 non-null float64\n",
      "x24     18009 non-null float64\n",
      "x25     18009 non-null float64\n",
      "x26     18009 non-null float64\n",
      "x27     18009 non-null float64\n",
      "x28     18009 non-null int64\n",
      "x29     18009 non-null float64\n",
      "x30     18009 non-null float64\n",
      "x31     18009 non-null float64\n",
      "x32     18009 non-null float64\n",
      "x33     18009 non-null float64\n",
      "x34     18009 non-null float64\n",
      "x35     18009 non-null float64\n",
      "x36     18009 non-null float64\n",
      "x37     18009 non-null float64\n",
      "x38     18009 non-null float64\n",
      "x39     18009 non-null float64\n",
      "x40     18009 non-null float64\n",
      "x41     18009 non-null float64\n",
      "x42     18009 non-null float64\n",
      "x43     18009 non-null float64\n",
      "x44     18009 non-null float64\n",
      "x45     18009 non-null float64\n",
      "x46     18009 non-null float64\n",
      "x47     18009 non-null float64\n",
      "x48     18009 non-null float64\n",
      "x49     18009 non-null float64\n",
      "x50     18009 non-null float64\n",
      "x51     18009 non-null float64\n",
      "x52     18009 non-null float64\n",
      "x53     18009 non-null float64\n",
      "x54     18009 non-null float64\n",
      "x55     18009 non-null float64\n",
      "x56     18009 non-null float64\n",
      "x57     18009 non-null float64\n",
      "x58     18009 non-null float64\n",
      "x59     18009 non-null float64\n",
      "x60     18009 non-null float64\n",
      "x61     18009 non-null int64\n",
      "dtypes: float64(59), int64(3), object(1)\n",
      "memory usage: 8.7+ MB\n"
     ]
    }
   ],
   "source": [
    "pwbds.info()"
   ]
  },
  {
   "cell_type": "markdown",
   "id": "4de18b57",
   "metadata": {},
   "source": [
    "# Exploratory Analysis"
   ]
  },
  {
   "cell_type": "code",
   "execution_count": 7,
   "id": "9b1969d3",
   "metadata": {},
   "outputs": [],
   "source": [
    "def displayCategorical(yvar):   \n",
    "    fig, ax = plt.subplots()\n",
    "    plt.rcParams['font.sans-serif'] = 'Arial'\n",
    "    plt.rcParams['font.family'] = 'sans-serif'\n",
    "    plt.rcParams['text.color'] = '#909090'\n",
    "    plt.rcParams['axes.labelcolor']= '#909090'\n",
    "    plt.rcParams['xtick.color'] = '#909090'\n",
    "    plt.rcParams['ytick.color'] = '#909090'\n",
    "    plt.rcParams['font.size']=12\n",
    "    labels = yvar.value_counts().keys()\n",
    "    percentages = list (map(lambda x:round(x*100,2),yvar.value_counts().values/pwbds.shape[0]))\n",
    "    ax.pie(percentages, labels=labels,  \n",
    "           autopct='%1.0f%%', \n",
    "           shadow=False, startangle=0,   \n",
    "           pctdistance=1.2,labeldistance=1.4)\n",
    "    ax.axis('equal')\n",
    "    ax.set_title(\"Distribution\")\n",
    "    ax.legend(frameon=False, bbox_to_anchor=(1.5,0.8))"
   ]
  },
  {
   "cell_type": "markdown",
   "id": "c50c4c9a",
   "metadata": {},
   "source": [
    "The change in the level of the categorical variable, x28, may be more important than its actual value. This variable is related to the type of paper produced at that time. For this prediction model, it might be more important to capture any change in the paper type instead of the actual type of the paper.\n",
    "May consider adding a feature capturing the change in x28, e.g. x28t − x28t−1."
   ]
  },
  {
   "cell_type": "code",
   "execution_count": 8,
   "id": "074bfda1",
   "metadata": {},
   "outputs": [
    {
     "data": {
      "image/png": "[encoded data removed]",
      "text/plain": [
       "<Figure size 432x288 with 1 Axes>"
      ]
     },
     "metadata": {},
     "output_type": "display_data"
    }
   ],
   "source": [
    "displayCategorical(pwbds['x28'])"
   ]
  },
  {
   "cell_type": "code",
   "execution_count": 9,
   "id": "63ffde87",
   "metadata": {},
   "outputs": [
    {
     "data": {
      "image/png": "[encoded data removed]",
      "text/plain": [
       "<Figure size 432x288 with 1 Axes>"
      ]
     },
     "metadata": {},
     "output_type": "display_data"
    }
   ],
   "source": [
    "displayCategorical(pwbds['x61'])"
   ]
  },
  {
   "cell_type": "code",
   "execution_count": 10,
   "id": "23b8d0de",
   "metadata": {},
   "outputs": [],
   "source": [
    "# A distribuição de x61 indica que podemos descartá-la no processo\n",
    "pwbds.drop('x61',axis='columns', inplace=True)"
   ]
  },
  {
   "cell_type": "code",
   "execution_count": 11,
   "id": "ae918d69",
   "metadata": {},
   "outputs": [
    {
     "data": {
      "text/plain": [
       "0    17886\n",
       "1      123\n",
       "Name: y, dtype: int64"
      ]
     },
     "execution_count": 11,
     "metadata": {},
     "output_type": "execute_result"
    }
   ],
   "source": [
    "# Now, the target\n",
    "pwbds.y.value_counts()"
   ]
  },
  {
   "cell_type": "markdown",
   "id": "bb0f8111",
   "metadata": {},
   "source": [
    "123 registros de quebra da teia"
   ]
  },
  {
   "cell_type": "code",
   "execution_count": 12,
   "id": "c839ee2e",
   "metadata": {},
   "outputs": [
    {
     "data": {
      "text/plain": [
       "(array([0, 1], dtype=int64), array([3568,   34], dtype=int64))"
      ]
     },
     "execution_count": 12,
     "metadata": {},
     "output_type": "execute_result"
    }
   ],
   "source": [
    "train_ind = int(0.8 * pwbds.shape[0])\n",
    "y_test = pwbds.y[train_ind:]\n",
    "np.unique(y_test,return_counts=True)"
   ]
  },
  {
   "cell_type": "markdown",
   "id": "7f76c591",
   "metadata": {},
   "source": [
    "Haverá 34 eventos de quebra no conjunto de teste"
   ]
  },
  {
   "cell_type": "markdown",
   "id": "b4c55648",
   "metadata": {},
   "source": [
    "## Verifica features nos momentos de quebra"
   ]
  },
  {
   "cell_type": "code",
   "execution_count": 13,
   "id": "cbece684",
   "metadata": {},
   "outputs": [
    {
     "data": {
      "text/html": [
       "<div>\n",
       "<style scoped>\n",
       "    .dataframe tbody tr th:only-of-type {\n",
       "        vertical-align: middle;\n",
       "    }\n",
       "\n",
       "    .dataframe tbody tr th {\n",
       "        vertical-align: top;\n",
       "    }\n",
       "\n",
       "    .dataframe thead th {\n",
       "        text-align: right;\n",
       "    }\n",
       "</style>\n",
       "<table border=\"1\" class=\"dataframe\">\n",
       "  <thead>\n",
       "    <tr style=\"text-align: right;\">\n",
       "      <th></th>\n",
       "      <th>y</th>\n",
       "      <th>x1</th>\n",
       "      <th>x2</th>\n",
       "      <th>x3</th>\n",
       "      <th>x4</th>\n",
       "      <th>x5</th>\n",
       "      <th>x6</th>\n",
       "      <th>x7</th>\n",
       "      <th>x8</th>\n",
       "      <th>x9</th>\n",
       "      <th>...</th>\n",
       "      <th>x51</th>\n",
       "      <th>x52</th>\n",
       "      <th>x53</th>\n",
       "      <th>x54</th>\n",
       "      <th>x55</th>\n",
       "      <th>x56</th>\n",
       "      <th>x57</th>\n",
       "      <th>x58</th>\n",
       "      <th>x59</th>\n",
       "      <th>x60</th>\n",
       "    </tr>\n",
       "  </thead>\n",
       "  <tbody>\n",
       "    <tr>\n",
       "      <th>count</th>\n",
       "      <td>18009.000000</td>\n",
       "      <td>18009.000000</td>\n",
       "      <td>18009.000000</td>\n",
       "      <td>18009.000000</td>\n",
       "      <td>18009.000000</td>\n",
       "      <td>18009.000000</td>\n",
       "      <td>18009.000000</td>\n",
       "      <td>18009.000000</td>\n",
       "      <td>18009.000000</td>\n",
       "      <td>18009.000000</td>\n",
       "      <td>...</td>\n",
       "      <td>18009.000000</td>\n",
       "      <td>18009.000000</td>\n",
       "      <td>18009.000000</td>\n",
       "      <td>18009.000000</td>\n",
       "      <td>18009.000000</td>\n",
       "      <td>18009.000000</td>\n",
       "      <td>18009.000000</td>\n",
       "      <td>18009.000000</td>\n",
       "      <td>18009.000000</td>\n",
       "      <td>18009.000000</td>\n",
       "    </tr>\n",
       "    <tr>\n",
       "      <th>mean</th>\n",
       "      <td>0.006830</td>\n",
       "      <td>0.035331</td>\n",
       "      <td>0.103388</td>\n",
       "      <td>0.502687</td>\n",
       "      <td>-12.573059</td>\n",
       "      <td>0.008110</td>\n",
       "      <td>2.316316</td>\n",
       "      <td>0.004256</td>\n",
       "      <td>-0.005172</td>\n",
       "      <td>-0.005156</td>\n",
       "      <td>...</td>\n",
       "      <td>-3.873028</td>\n",
       "      <td>0.413040</td>\n",
       "      <td>0.400073</td>\n",
       "      <td>0.119113</td>\n",
       "      <td>2.375554</td>\n",
       "      <td>10.559560</td>\n",
       "      <td>0.263504</td>\n",
       "      <td>-0.002106</td>\n",
       "      <td>-0.066821</td>\n",
       "      <td>0.001513</td>\n",
       "    </tr>\n",
       "    <tr>\n",
       "      <th>std</th>\n",
       "      <td>0.082363</td>\n",
       "      <td>0.730243</td>\n",
       "      <td>4.957904</td>\n",
       "      <td>5.953075</td>\n",
       "      <td>130.997830</td>\n",
       "      <td>0.639591</td>\n",
       "      <td>37.224167</td>\n",
       "      <td>0.108337</td>\n",
       "      <td>0.075598</td>\n",
       "      <td>0.145683</td>\n",
       "      <td>...</td>\n",
       "      <td>350.911316</td>\n",
       "      <td>6.274133</td>\n",
       "      <td>14.323519</td>\n",
       "      <td>3.038758</td>\n",
       "      <td>68.610467</td>\n",
       "      <td>81.552661</td>\n",
       "      <td>2.341876</td>\n",
       "      <td>0.049119</td>\n",
       "      <td>10.451196</td>\n",
       "      <td>0.004433</td>\n",
       "    </tr>\n",
       "    <tr>\n",
       "      <th>min</th>\n",
       "      <td>0.000000</td>\n",
       "      <td>-3.787279</td>\n",
       "      <td>-17.316550</td>\n",
       "      <td>-18.198509</td>\n",
       "      <td>-322.781610</td>\n",
       "      <td>-1.623988</td>\n",
       "      <td>-279.408440</td>\n",
       "      <td>-0.429273</td>\n",
       "      <td>-0.451141</td>\n",
       "      <td>-0.120087</td>\n",
       "      <td>...</td>\n",
       "      <td>-3652.989000</td>\n",
       "      <td>-187.943440</td>\n",
       "      <td>-1817.595500</td>\n",
       "      <td>-8.210370</td>\n",
       "      <td>-230.574030</td>\n",
       "      <td>-269.039500</td>\n",
       "      <td>-12.640370</td>\n",
       "      <td>-0.149790</td>\n",
       "      <td>-100.810500</td>\n",
       "      <td>-0.007467</td>\n",
       "    </tr>\n",
       "    <tr>\n",
       "      <th>25%</th>\n",
       "      <td>0.000000</td>\n",
       "      <td>-0.359034</td>\n",
       "      <td>-2.242758</td>\n",
       "      <td>-3.610612</td>\n",
       "      <td>-112.090980</td>\n",
       "      <td>-0.452250</td>\n",
       "      <td>-24.595360</td>\n",
       "      <td>-0.049319</td>\n",
       "      <td>-0.051043</td>\n",
       "      <td>-0.059966</td>\n",
       "      <td>...</td>\n",
       "      <td>29.984624</td>\n",
       "      <td>-3.804520</td>\n",
       "      <td>-1.893986</td>\n",
       "      <td>0.471525</td>\n",
       "      <td>-41.054135</td>\n",
       "      <td>-45.360800</td>\n",
       "      <td>-1.653737</td>\n",
       "      <td>0.000747</td>\n",
       "      <td>0.293452</td>\n",
       "      <td>-0.001699</td>\n",
       "    </tr>\n",
       "    <tr>\n",
       "      <th>50%</th>\n",
       "      <td>0.000000</td>\n",
       "      <td>0.140347</td>\n",
       "      <td>-0.129576</td>\n",
       "      <td>-0.353550</td>\n",
       "      <td>-17.172632</td>\n",
       "      <td>-0.121546</td>\n",
       "      <td>10.111336</td>\n",
       "      <td>0.000732</td>\n",
       "      <td>-0.011064</td>\n",
       "      <td>-0.030057</td>\n",
       "      <td>...</td>\n",
       "      <td>29.984624</td>\n",
       "      <td>0.294846</td>\n",
       "      <td>0.163143</td>\n",
       "      <td>0.654139</td>\n",
       "      <td>18.547672</td>\n",
       "      <td>3.833948</td>\n",
       "      <td>0.085826</td>\n",
       "      <td>0.013077</td>\n",
       "      <td>0.736788</td>\n",
       "      <td>0.000964</td>\n",
       "    </tr>\n",
       "    <tr>\n",
       "      <th>75%</th>\n",
       "      <td>0.000000</td>\n",
       "      <td>0.427898</td>\n",
       "      <td>2.277959</td>\n",
       "      <td>3.365069</td>\n",
       "      <td>84.982124</td>\n",
       "      <td>0.336385</td>\n",
       "      <td>32.676766</td>\n",
       "      <td>0.060853</td>\n",
       "      <td>0.038986</td>\n",
       "      <td>-0.000149</td>\n",
       "      <td>...</td>\n",
       "      <td>29.984624</td>\n",
       "      <td>5.312424</td>\n",
       "      <td>3.533260</td>\n",
       "      <td>2.665483</td>\n",
       "      <td>44.583805</td>\n",
       "      <td>64.510522</td>\n",
       "      <td>2.222118</td>\n",
       "      <td>0.021056</td>\n",
       "      <td>1.272997</td>\n",
       "      <td>0.004291</td>\n",
       "    </tr>\n",
       "    <tr>\n",
       "      <th>max</th>\n",
       "      <td>1.000000</td>\n",
       "      <td>3.054156</td>\n",
       "      <td>16.742105</td>\n",
       "      <td>15.900116</td>\n",
       "      <td>334.694098</td>\n",
       "      <td>4.239385</td>\n",
       "      <td>96.060768</td>\n",
       "      <td>1.705590</td>\n",
       "      <td>0.788826</td>\n",
       "      <td>3.206675</td>\n",
       "      <td>...</td>\n",
       "      <td>40.152348</td>\n",
       "      <td>14.180588</td>\n",
       "      <td>11.148006</td>\n",
       "      <td>6.475137</td>\n",
       "      <td>287.252017</td>\n",
       "      <td>252.147455</td>\n",
       "      <td>6.922008</td>\n",
       "      <td>0.060264</td>\n",
       "      <td>6.985460</td>\n",
       "      <td>0.020510</td>\n",
       "    </tr>\n",
       "  </tbody>\n",
       "</table>\n",
       "<p>8 rows × 61 columns</p>\n",
       "</div>"
      ],
      "text/plain": [
       "                  y            x1            x2            x3            x4  \\\n",
       "count  18009.000000  18009.000000  18009.000000  18009.000000  18009.000000   \n",
       "mean       0.006830      0.035331      0.103388      0.502687    -12.573059   \n",
       "std        0.082363      0.730243      4.957904      5.953075    130.997830   \n",
       "min        0.000000     -3.787279    -17.316550    -18.198509   -322.781610   \n",
       "25%        0.000000     -0.359034     -2.242758     -3.610612   -112.090980   \n",
       "50%        0.000000      0.140347     -0.129576     -0.353550    -17.172632   \n",
       "75%        0.000000      0.427898      2.277959      3.365069     84.982124   \n",
       "max        1.000000      3.054156     16.742105     15.900116    334.694098   \n",
       "\n",
       "                 x5            x6            x7            x8            x9  \\\n",
       "count  18009.000000  18009.000000  18009.000000  18009.000000  18009.000000   \n",
       "mean       0.008110      2.316316      0.004256     -0.005172     -0.005156   \n",
       "std        0.639591     37.224167      0.108337      0.075598      0.145683   \n",
       "min       -1.623988   -279.408440     -0.429273     -0.451141     -0.120087   \n",
       "25%       -0.452250    -24.595360     -0.049319     -0.051043     -0.059966   \n",
       "50%       -0.121546     10.111336      0.000732     -0.011064     -0.030057   \n",
       "75%        0.336385     32.676766      0.060853      0.038986     -0.000149   \n",
       "max        4.239385     96.060768      1.705590      0.788826      3.206675   \n",
       "\n",
       "       ...           x51           x52           x53           x54  \\\n",
       "count  ...  18009.000000  18009.000000  18009.000000  18009.000000   \n",
       "mean   ...     -3.873028      0.413040      0.400073      0.119113   \n",
       "std    ...    350.911316      6.274133     14.323519      3.038758   \n",
       "min    ...  -3652.989000   -187.943440  -1817.595500     -8.210370   \n",
       "25%    ...     29.984624     -3.804520     -1.893986      0.471525   \n",
       "50%    ...     29.984624      0.294846      0.163143      0.654139   \n",
       "75%    ...     29.984624      5.312424      3.533260      2.665483   \n",
       "max    ...     40.152348     14.180588     11.148006      6.475137   \n",
       "\n",
       "                x55           x56           x57           x58           x59  \\\n",
       "count  18009.000000  18009.000000  18009.000000  18009.000000  18009.000000   \n",
       "mean       2.375554     10.559560      0.263504     -0.002106     -0.066821   \n",
       "std       68.610467     81.552661      2.341876      0.049119     10.451196   \n",
       "min     -230.574030   -269.039500    -12.640370     -0.149790   -100.810500   \n",
       "25%      -41.054135    -45.360800     -1.653737      0.000747      0.293452   \n",
       "50%       18.547672      3.833948      0.085826      0.013077      0.736788   \n",
       "75%       44.583805     64.510522      2.222118      0.021056      1.272997   \n",
       "max      287.252017    252.147455      6.922008      0.060264      6.985460   \n",
       "\n",
       "                x60  \n",
       "count  18009.000000  \n",
       "mean       0.001513  \n",
       "std        0.004433  \n",
       "min       -0.007467  \n",
       "25%       -0.001699  \n",
       "50%        0.000964  \n",
       "75%        0.004291  \n",
       "max        0.020510  \n",
       "\n",
       "[8 rows x 61 columns]"
      ]
     },
     "execution_count": 13,
     "metadata": {},
     "output_type": "execute_result"
    }
   ],
   "source": [
    "pwbds.describe()"
   ]
  },
  {
   "cell_type": "code",
   "execution_count": 14,
   "id": "888cf7bd",
   "metadata": {},
   "outputs": [
    {
     "data": {
      "text/html": [
       "<div>\n",
       "<style scoped>\n",
       "    .dataframe tbody tr th:only-of-type {\n",
       "        vertical-align: middle;\n",
       "    }\n",
       "\n",
       "    .dataframe tbody tr th {\n",
       "        vertical-align: top;\n",
       "    }\n",
       "\n",
       "    .dataframe thead th {\n",
       "        text-align: right;\n",
       "    }\n",
       "</style>\n",
       "<table border=\"1\" class=\"dataframe\">\n",
       "  <thead>\n",
       "    <tr style=\"text-align: right;\">\n",
       "      <th></th>\n",
       "      <th>feature</th>\n",
       "      <th>max_no</th>\n",
       "      <th>min_no</th>\n",
       "    </tr>\n",
       "  </thead>\n",
       "  <tbody>\n",
       "    <tr>\n",
       "      <th>0</th>\n",
       "      <td>x1</td>\n",
       "      <td>1</td>\n",
       "      <td>29</td>\n",
       "    </tr>\n",
       "    <tr>\n",
       "      <th>1</th>\n",
       "      <td>x2</td>\n",
       "      <td>0</td>\n",
       "      <td>77</td>\n",
       "    </tr>\n",
       "    <tr>\n",
       "      <th>2</th>\n",
       "      <td>x3</td>\n",
       "      <td>1</td>\n",
       "      <td>104</td>\n",
       "    </tr>\n",
       "    <tr>\n",
       "      <th>3</th>\n",
       "      <td>x4</td>\n",
       "      <td>1</td>\n",
       "      <td>55</td>\n",
       "    </tr>\n",
       "    <tr>\n",
       "      <th>4</th>\n",
       "      <td>x5</td>\n",
       "      <td>1</td>\n",
       "      <td>62</td>\n",
       "    </tr>\n",
       "    <tr>\n",
       "      <th>5</th>\n",
       "      <td>x6</td>\n",
       "      <td>0</td>\n",
       "      <td>47</td>\n",
       "    </tr>\n",
       "    <tr>\n",
       "      <th>6</th>\n",
       "      <td>x7</td>\n",
       "      <td>0</td>\n",
       "      <td>34</td>\n",
       "    </tr>\n",
       "    <tr>\n",
       "      <th>7</th>\n",
       "      <td>x8</td>\n",
       "      <td>1</td>\n",
       "      <td>42</td>\n",
       "    </tr>\n",
       "    <tr>\n",
       "      <th>8</th>\n",
       "      <td>x9</td>\n",
       "      <td>0</td>\n",
       "      <td>72</td>\n",
       "    </tr>\n",
       "    <tr>\n",
       "      <th>9</th>\n",
       "      <td>x10</td>\n",
       "      <td>0</td>\n",
       "      <td>66</td>\n",
       "    </tr>\n",
       "    <tr>\n",
       "      <th>10</th>\n",
       "      <td>x11</td>\n",
       "      <td>0</td>\n",
       "      <td>15</td>\n",
       "    </tr>\n",
       "    <tr>\n",
       "      <th>11</th>\n",
       "      <td>x12</td>\n",
       "      <td>0</td>\n",
       "      <td>1</td>\n",
       "    </tr>\n",
       "    <tr>\n",
       "      <th>12</th>\n",
       "      <td>x13</td>\n",
       "      <td>0</td>\n",
       "      <td>65</td>\n",
       "    </tr>\n",
       "    <tr>\n",
       "      <th>13</th>\n",
       "      <td>x14</td>\n",
       "      <td>0</td>\n",
       "      <td>103</td>\n",
       "    </tr>\n",
       "    <tr>\n",
       "      <th>14</th>\n",
       "      <td>x15</td>\n",
       "      <td>1</td>\n",
       "      <td>15</td>\n",
       "    </tr>\n",
       "    <tr>\n",
       "      <th>15</th>\n",
       "      <td>x16</td>\n",
       "      <td>0</td>\n",
       "      <td>1</td>\n",
       "    </tr>\n",
       "    <tr>\n",
       "      <th>16</th>\n",
       "      <td>x17</td>\n",
       "      <td>1</td>\n",
       "      <td>37</td>\n",
       "    </tr>\n",
       "    <tr>\n",
       "      <th>17</th>\n",
       "      <td>x18</td>\n",
       "      <td>1</td>\n",
       "      <td>24</td>\n",
       "    </tr>\n",
       "    <tr>\n",
       "      <th>18</th>\n",
       "      <td>x19</td>\n",
       "      <td>5</td>\n",
       "      <td>8</td>\n",
       "    </tr>\n",
       "    <tr>\n",
       "      <th>19</th>\n",
       "      <td>x20</td>\n",
       "      <td>1</td>\n",
       "      <td>22</td>\n",
       "    </tr>\n",
       "    <tr>\n",
       "      <th>20</th>\n",
       "      <td>x21</td>\n",
       "      <td>0</td>\n",
       "      <td>26</td>\n",
       "    </tr>\n",
       "    <tr>\n",
       "      <th>21</th>\n",
       "      <td>x22</td>\n",
       "      <td>5</td>\n",
       "      <td>48</td>\n",
       "    </tr>\n",
       "    <tr>\n",
       "      <th>22</th>\n",
       "      <td>x23</td>\n",
       "      <td>1</td>\n",
       "      <td>1</td>\n",
       "    </tr>\n",
       "    <tr>\n",
       "      <th>23</th>\n",
       "      <td>x24</td>\n",
       "      <td>1</td>\n",
       "      <td>47</td>\n",
       "    </tr>\n",
       "    <tr>\n",
       "      <th>24</th>\n",
       "      <td>x25</td>\n",
       "      <td>4</td>\n",
       "      <td>0</td>\n",
       "    </tr>\n",
       "    <tr>\n",
       "      <th>25</th>\n",
       "      <td>x26</td>\n",
       "      <td>0</td>\n",
       "      <td>77</td>\n",
       "    </tr>\n",
       "    <tr>\n",
       "      <th>26</th>\n",
       "      <td>x27</td>\n",
       "      <td>0</td>\n",
       "      <td>55</td>\n",
       "    </tr>\n",
       "    <tr>\n",
       "      <th>27</th>\n",
       "      <td>x29</td>\n",
       "      <td>1</td>\n",
       "      <td>71</td>\n",
       "    </tr>\n",
       "    <tr>\n",
       "      <th>28</th>\n",
       "      <td>x30</td>\n",
       "      <td>0</td>\n",
       "      <td>49</td>\n",
       "    </tr>\n",
       "    <tr>\n",
       "      <th>29</th>\n",
       "      <td>x31</td>\n",
       "      <td>0</td>\n",
       "      <td>45</td>\n",
       "    </tr>\n",
       "    <tr>\n",
       "      <th>30</th>\n",
       "      <td>x32</td>\n",
       "      <td>0</td>\n",
       "      <td>0</td>\n",
       "    </tr>\n",
       "    <tr>\n",
       "      <th>31</th>\n",
       "      <td>x33</td>\n",
       "      <td>12</td>\n",
       "      <td>46</td>\n",
       "    </tr>\n",
       "    <tr>\n",
       "      <th>32</th>\n",
       "      <td>x34</td>\n",
       "      <td>0</td>\n",
       "      <td>46</td>\n",
       "    </tr>\n",
       "    <tr>\n",
       "      <th>33</th>\n",
       "      <td>x35</td>\n",
       "      <td>0</td>\n",
       "      <td>63</td>\n",
       "    </tr>\n",
       "    <tr>\n",
       "      <th>34</th>\n",
       "      <td>x36</td>\n",
       "      <td>0</td>\n",
       "      <td>59</td>\n",
       "    </tr>\n",
       "    <tr>\n",
       "      <th>35</th>\n",
       "      <td>x37</td>\n",
       "      <td>0</td>\n",
       "      <td>52</td>\n",
       "    </tr>\n",
       "    <tr>\n",
       "      <th>36</th>\n",
       "      <td>x38</td>\n",
       "      <td>0</td>\n",
       "      <td>79</td>\n",
       "    </tr>\n",
       "    <tr>\n",
       "      <th>37</th>\n",
       "      <td>x39</td>\n",
       "      <td>0</td>\n",
       "      <td>82</td>\n",
       "    </tr>\n",
       "    <tr>\n",
       "      <th>38</th>\n",
       "      <td>x40</td>\n",
       "      <td>0</td>\n",
       "      <td>41</td>\n",
       "    </tr>\n",
       "    <tr>\n",
       "      <th>39</th>\n",
       "      <td>x41</td>\n",
       "      <td>0</td>\n",
       "      <td>15</td>\n",
       "    </tr>\n",
       "    <tr>\n",
       "      <th>40</th>\n",
       "      <td>x42</td>\n",
       "      <td>2</td>\n",
       "      <td>55</td>\n",
       "    </tr>\n",
       "    <tr>\n",
       "      <th>41</th>\n",
       "      <td>x43</td>\n",
       "      <td>0</td>\n",
       "      <td>119</td>\n",
       "    </tr>\n",
       "    <tr>\n",
       "      <th>42</th>\n",
       "      <td>x44</td>\n",
       "      <td>0</td>\n",
       "      <td>39</td>\n",
       "    </tr>\n",
       "    <tr>\n",
       "      <th>43</th>\n",
       "      <td>x45</td>\n",
       "      <td>0</td>\n",
       "      <td>79</td>\n",
       "    </tr>\n",
       "    <tr>\n",
       "      <th>44</th>\n",
       "      <td>x46</td>\n",
       "      <td>2</td>\n",
       "      <td>54</td>\n",
       "    </tr>\n",
       "    <tr>\n",
       "      <th>45</th>\n",
       "      <td>x47</td>\n",
       "      <td>1</td>\n",
       "      <td>44</td>\n",
       "    </tr>\n",
       "    <tr>\n",
       "      <th>46</th>\n",
       "      <td>x48</td>\n",
       "      <td>4</td>\n",
       "      <td>17</td>\n",
       "    </tr>\n",
       "    <tr>\n",
       "      <th>47</th>\n",
       "      <td>x49</td>\n",
       "      <td>0</td>\n",
       "      <td>32</td>\n",
       "    </tr>\n",
       "    <tr>\n",
       "      <th>48</th>\n",
       "      <td>x50</td>\n",
       "      <td>0</td>\n",
       "      <td>55</td>\n",
       "    </tr>\n",
       "    <tr>\n",
       "      <th>49</th>\n",
       "      <td>x51</td>\n",
       "      <td>1</td>\n",
       "      <td>0</td>\n",
       "    </tr>\n",
       "    <tr>\n",
       "      <th>50</th>\n",
       "      <td>x52</td>\n",
       "      <td>0</td>\n",
       "      <td>1</td>\n",
       "    </tr>\n",
       "    <tr>\n",
       "      <th>51</th>\n",
       "      <td>x53</td>\n",
       "      <td>2</td>\n",
       "      <td>1</td>\n",
       "    </tr>\n",
       "    <tr>\n",
       "      <th>52</th>\n",
       "      <td>x54</td>\n",
       "      <td>0</td>\n",
       "      <td>58</td>\n",
       "    </tr>\n",
       "    <tr>\n",
       "      <th>53</th>\n",
       "      <td>x55</td>\n",
       "      <td>1</td>\n",
       "      <td>62</td>\n",
       "    </tr>\n",
       "    <tr>\n",
       "      <th>54</th>\n",
       "      <td>x56</td>\n",
       "      <td>1</td>\n",
       "      <td>64</td>\n",
       "    </tr>\n",
       "    <tr>\n",
       "      <th>55</th>\n",
       "      <td>x57</td>\n",
       "      <td>0</td>\n",
       "      <td>46</td>\n",
       "    </tr>\n",
       "    <tr>\n",
       "      <th>56</th>\n",
       "      <td>x58</td>\n",
       "      <td>0</td>\n",
       "      <td>10</td>\n",
       "    </tr>\n",
       "    <tr>\n",
       "      <th>57</th>\n",
       "      <td>x59</td>\n",
       "      <td>0</td>\n",
       "      <td>0</td>\n",
       "    </tr>\n",
       "    <tr>\n",
       "      <th>58</th>\n",
       "      <td>x60</td>\n",
       "      <td>1</td>\n",
       "      <td>30</td>\n",
       "    </tr>\n",
       "  </tbody>\n",
       "</table>\n",
       "</div>"
      ],
      "text/plain": [
       "   feature  max_no  min_no\n",
       "0       x1       1      29\n",
       "1       x2       0      77\n",
       "2       x3       1     104\n",
       "3       x4       1      55\n",
       "4       x5       1      62\n",
       "5       x6       0      47\n",
       "6       x7       0      34\n",
       "7       x8       1      42\n",
       "8       x9       0      72\n",
       "9      x10       0      66\n",
       "10     x11       0      15\n",
       "11     x12       0       1\n",
       "12     x13       0      65\n",
       "13     x14       0     103\n",
       "14     x15       1      15\n",
       "15     x16       0       1\n",
       "16     x17       1      37\n",
       "17     x18       1      24\n",
       "18     x19       5       8\n",
       "19     x20       1      22\n",
       "20     x21       0      26\n",
       "21     x22       5      48\n",
       "22     x23       1       1\n",
       "23     x24       1      47\n",
       "24     x25       4       0\n",
       "25     x26       0      77\n",
       "26     x27       0      55\n",
       "27     x29       1      71\n",
       "28     x30       0      49\n",
       "29     x31       0      45\n",
       "30     x32       0       0\n",
       "31     x33      12      46\n",
       "32     x34       0      46\n",
       "33     x35       0      63\n",
       "34     x36       0      59\n",
       "35     x37       0      52\n",
       "36     x38       0      79\n",
       "37     x39       0      82\n",
       "38     x40       0      41\n",
       "39     x41       0      15\n",
       "40     x42       2      55\n",
       "41     x43       0     119\n",
       "42     x44       0      39\n",
       "43     x45       0      79\n",
       "44     x46       2      54\n",
       "45     x47       1      44\n",
       "46     x48       4      17\n",
       "47     x49       0      32\n",
       "48     x50       0      55\n",
       "49     x51       1       0\n",
       "50     x52       0       1\n",
       "51     x53       2       1\n",
       "52     x54       0      58\n",
       "53     x55       1      62\n",
       "54     x56       1      64\n",
       "55     x57       0      46\n",
       "56     x58       0      10\n",
       "57     x59       0       0\n",
       "58     x60       1      30"
      ]
     },
     "execution_count": 14,
     "metadata": {},
     "output_type": "execute_result"
    }
   ],
   "source": [
    "desc = pwbds.describe()\n",
    "brkcols = [\n",
    "    'x1','x2','x3','x4','x5','x6','x7','x8','x9','x10','x11','x12','x13','x14','x15','x16','x17','x18','x19','x20',\n",
    "    'x21','x22','x23','x24','x25','x26','x27','x29','x30','x31','x32','x33','x34','x35','x36','x37','x38','x39','x40',\n",
    "    'x41','x42','x43','x44','x45','x46','x47','x48','x49','x50','x51','x52','x53','x54','x55','x56','x57','x58','x59','x60',\n",
    "    ]\n",
    "\n",
    "dicts_list=[]\n",
    "for col in brkcols:\n",
    "#    print (col, ':',(pwbds.loc[pwbds.y==1][col] > desc.loc['max',col]*0.9).sum())\n",
    "    dict_row = {'feature':col,\n",
    "         'max_no':(pwbds.loc[pwbds.y==1][col] >= desc.loc['max',col]*0.9).sum(),\n",
    "         'min_no':(pwbds.loc[pwbds.y==1][col] <= desc.loc['min',col]*0.1).sum()\n",
    "    }\n",
    "    dicts_list.append(dict_row)\n",
    "\n",
    "anomalies = pd.DataFrame(dicts_list)\n",
    "anomalies"
   ]
  },
  {
   "cell_type": "code",
   "execution_count": 15,
   "id": "4f2e21ac",
   "metadata": {},
   "outputs": [],
   "source": [
    "#pwbds['date'] = pwbds['time'].str.split(' ').str[0]\n",
    "#pwbds['time'] = pwbds['time'].str.split(' ').str[1]\n",
    "pwbds['time']= pd.to_datetime(pwbds['time'])"
   ]
  },
  {
   "cell_type": "markdown",
   "id": "06e8b63a",
   "metadata": {},
   "source": [
    "## Check total downtime"
   ]
  },
  {
   "cell_type": "code",
   "execution_count": 16,
   "id": "365c3855",
   "metadata": {},
   "outputs": [],
   "source": [
    "def calcDownTime(ds):\n",
    "    dstmp = ds.copy()\n",
    "    dstmp[\"next_measure\"] = dstmp[\"time\"].shift(-1)\n",
    "    dstmp['downtime'] = dstmp['next_measure'] - dstmp['time']\n",
    "    downtimes = dstmp.loc[dstmp['y']==1][['time', 'downtime']].copy()\n",
    "    return (dstmp.groupby(['y'])['downtime'].agg('sum').iloc[1,],downtimes)"
   ]
  },
  {
   "cell_type": "code",
   "execution_count": 17,
   "id": "8ab366b5",
   "metadata": {},
   "outputs": [
    {
     "name": "stdout",
     "output_type": "stream",
     "text": [
      "Downtime total de: 1 days 21:40:00 num período de:  27 days 10:48:00 correspondendo a:  6.93 %\n"
     ]
    }
   ],
   "source": [
    "totalPeriod = pwbds.tail(1)['time'].iloc[0,] - pwbds.head(1)['time'].iloc[0,]\n",
    "totalDowntime,dtds = calcDownTime(pwbds)\n",
    "perc = round ((totalDowntime/totalPeriod)*100,2)\n",
    "print ('Downtime total de:', totalDowntime, 'num período de: ', totalPeriod, 'correspondendo a: ',perc,'%')"
   ]
  },
  {
   "cell_type": "markdown",
   "id": "628aeaa8",
   "metadata": {},
   "source": [
    "## Breaks per day"
   ]
  },
  {
   "cell_type": "code",
   "execution_count": 18,
   "id": "e243a2c9",
   "metadata": {},
   "outputs": [],
   "source": [
    "dtds['time'] = dtds['time'].astype(str)\n",
    "dtds['time'] = dtds['time'].str.split(' ').str[0]"
   ]
  },
  {
   "cell_type": "code",
   "execution_count": 19,
   "id": "6bcb1f43",
   "metadata": {},
   "outputs": [],
   "source": [
    "# Determine max_slots\n",
    "max_slots = dtds.time.value_counts().max()\n",
    "slot_size = len(dtds.time.value_counts()) "
   ]
  },
  {
   "cell_type": "code",
   "execution_count": 20,
   "id": "f7b9ac57",
   "metadata": {},
   "outputs": [],
   "source": [
    "dtds['downtime']=dtds['downtime'].dt.total_seconds()/60"
   ]
  },
  {
   "cell_type": "code",
   "execution_count": 21,
   "id": "b56ce9e7",
   "metadata": {},
   "outputs": [],
   "source": [
    "# Monta numero de listas correspondentes à max_slots, de tamanho correspondente ao número de dias\n",
    "downtime_matrix = np.zeros([max_slots,slot_size])\n",
    "day_idx=0\n",
    "reg_idx=0\n",
    "lista_idx=-1\n",
    "last_day = dtds['time'].iloc[0,]\n",
    "for day in dtds['time'].tolist():\n",
    "    if (day != last_day):\n",
    "        lista_idx=0\n",
    "        last_day = day\n",
    "        day_idx+=1\n",
    "    else:\n",
    "        lista_idx+=1\n",
    "    downtime_matrix[lista_idx,day_idx]=dtds.downtime.iloc[reg_idx,]\n",
    "    reg_idx+=1"
   ]
  },
  {
   "cell_type": "code",
   "execution_count": 22,
   "id": "45c21496",
   "metadata": {},
   "outputs": [],
   "source": [
    "downtimedf = pd.DataFrame (downtime_matrix.T)\n",
    "downtimedf['day'] = dtds.time.value_counts().sort_index().index"
   ]
  },
  {
   "cell_type": "code",
   "execution_count": 23,
   "id": "ad569e44",
   "metadata": {},
   "outputs": [],
   "source": [
    "downtimedf = downtimedf.set_index('day')"
   ]
  },
  {
   "cell_type": "code",
   "execution_count": 24,
   "id": "3e38fed7",
   "metadata": {
    "scrolled": true
   },
   "outputs": [
    {
     "data": {
      "text/plain": [
       "Text(0, 0.5, 'Downtime minutes')"
      ]
     },
     "execution_count": 24,
     "metadata": {},
     "output_type": "execute_result"
    },
    {
     "data": {
      "image/png": "[encoded data removed]",
      "text/plain": [
       "<Figure size 1440x720 with 1 Axes>"
      ]
     },
     "metadata": {
      "needs_background": "dark"
     },
     "output_type": "display_data"
    }
   ],
   "source": [
    "downtimedf.plot(kind=\"bar\",stacked=True, legend=None,figsize=(20, 10))\n",
    "plt.title(\"Downtime Occurencies\")\n",
    "plt.xlabel(\"Day\")\n",
    "plt.ylabel(\"Downtime minutes\")"
   ]
  },
  {
   "cell_type": "markdown",
   "id": "00f6bbed",
   "metadata": {},
   "source": [
    "## Comportamento de cada feature no tempo"
   ]
  },
  {
   "cell_type": "code",
   "execution_count": 25,
   "id": "e6672f3e",
   "metadata": {},
   "outputs": [],
   "source": [
    "cols = [\n",
    "    'y','x1','x2','x3','x4','x5','x6','x7','x8','x9','x10','x11','x12','x13','x14','x15','x16','x17','x18','x19','x20',\n",
    "    'x21','x22','x23','x24','x25','x26','x27','x29','x30','x31','x32','x33','x34','x35','x36','x37','x38','x39','x40',\n",
    "    'x41','x42','x43','x44','x45','x46','x47','x48','x49','x50','x51','x52','x53','x54','x55','x56','x57','x58','x59','x60',\n",
    "    ]\n",
    "#sns.set_theme(style=\"darkgrid\")\n",
    "\n",
    "\n",
    "# Retirar comentários na versão definitiva\n",
    "#for col in cols:\n",
    "#    fig, ax = plt.subplots()\n",
    "#    fig.set_size_inches(18, 2)\n",
    "#    sns.lineplot(x=\"time\", y=col, data=pwbds, ax=ax)"
   ]
  },
  {
   "cell_type": "markdown",
   "id": "c75c014a",
   "metadata": {},
   "source": [
    "## Cálculo do Remaining Usefull Lifecycle (RUL)"
   ]
  },
  {
   "cell_type": "code",
   "execution_count": 26,
   "id": "1ef667a8",
   "metadata": {},
   "outputs": [],
   "source": [
    "# Dates whith break\n",
    "df_sub = sorted(pwbds[pwbds['y'] == 1]['time'].tolist())"
   ]
  },
  {
   "cell_type": "code",
   "execution_count": 27,
   "id": "c87afe51",
   "metadata": {},
   "outputs": [],
   "source": [
    "# variable to store all days\n",
    "breakSubIdx=0\n",
    "breakLstIdx=0\n",
    "breakList = pwbds['y'].tolist()\n",
    "nextbreak = []\n",
    "for v1 in pwbds['time'].tolist():\n",
    "    if((breakList[breakLstIdx] == 1)):\n",
    "#        print ('1')\n",
    "        nextbreak.append(v1)\n",
    "        breakSubIdx = breakSubIdx+1\n",
    "    else:\n",
    "#        print('0')\n",
    "        if (breakSubIdx < len(df_sub)):\n",
    "            nextbreak.append(df_sub[breakSubIdx])\n",
    "        else:\n",
    "            nextbreak.append(df_sub[breakSubIdx-1])\n",
    "    breakLstIdx = breakLstIdx+1\n",
    "pwbds['nextbreaktime'] = pd.Series(nextbreak)"
   ]
  },
  {
   "cell_type": "code",
   "execution_count": 28,
   "id": "700b77e4",
   "metadata": {},
   "outputs": [],
   "source": [
    "pwbds['RUL']=round((pwbds['nextbreaktime']-pwbds['time']).dt.total_seconds()/60,2)\n",
    "pwbds.drop(pwbds[pwbds.RUL < 0].index, inplace=True)\n",
    "pwbds.drop(['time','nextbreaktime'], axis=1, inplace=True)"
   ]
  },
  {
   "cell_type": "markdown",
   "id": "386c0a62",
   "metadata": {},
   "source": [
    "## Marcação de falha no próximo período (próxima hora)"
   ]
  },
  {
   "cell_type": "markdown",
   "id": "11757518",
   "metadata": {},
   "source": [
    "Using RUL, we can create a label indicating time to failure. We define a boolean (True\\False) value for NEXT_H indicating the engine will fail within 60 minutes (RUL  <=60 ). \n",
    "\n",
    "We can also define a multiclass MULTI  ∈{0,1,2}  indicating {Healthy, RUL <=60, RUL <=120} minutes."
   ]
  },
  {
   "cell_type": "code",
   "execution_count": 29,
   "id": "4b70995b",
   "metadata": {},
   "outputs": [],
   "source": [
    "pwbds['NEXT_H'] = np.where(pwbds['RUL'] <= 60, 1, 0 )"
   ]
  },
  {
   "cell_type": "code",
   "execution_count": 30,
   "id": "bcfeb089",
   "metadata": {},
   "outputs": [
    {
     "data": {
      "text/plain": [
       "0    14877\n",
       "1     3017\n",
       "Name: NEXT_H, dtype: int64"
      ]
     },
     "execution_count": 30,
     "metadata": {},
     "output_type": "execute_result"
    }
   ],
   "source": [
    "pwbds['NEXT_H'].value_counts()"
   ]
  },
  {
   "cell_type": "code",
   "execution_count": 31,
   "id": "f3392bd1",
   "metadata": {},
   "outputs": [],
   "source": [
    "rul0 = pwbds['RUL'] == 0"
   ]
  },
  {
   "cell_type": "code",
   "execution_count": 32,
   "id": "28b51383",
   "metadata": {},
   "outputs": [
    {
     "data": {
      "text/plain": [
       "False    17771\n",
       "True       123\n",
       "Name: RUL, dtype: int64"
      ]
     },
     "execution_count": 32,
     "metadata": {},
     "output_type": "execute_result"
    }
   ],
   "source": [
    "rul0.value_counts()"
   ]
  },
  {
   "cell_type": "markdown",
   "id": "4a1bb14a",
   "metadata": {},
   "source": [
    "# Feature Selection and Scaling"
   ]
  },
  {
   "cell_type": "code",
   "execution_count": 33,
   "id": "8183c485",
   "metadata": {},
   "outputs": [
    {
     "data": {
      "text/html": [
       "<div>\n",
       "<style scoped>\n",
       "    .dataframe tbody tr th:only-of-type {\n",
       "        vertical-align: middle;\n",
       "    }\n",
       "\n",
       "    .dataframe tbody tr th {\n",
       "        vertical-align: top;\n",
       "    }\n",
       "\n",
       "    .dataframe thead th {\n",
       "        text-align: right;\n",
       "    }\n",
       "</style>\n",
       "<table border=\"1\" class=\"dataframe\">\n",
       "  <thead>\n",
       "    <tr style=\"text-align: right;\">\n",
       "      <th></th>\n",
       "      <th>x1</th>\n",
       "      <th>x2</th>\n",
       "      <th>x3</th>\n",
       "      <th>x4</th>\n",
       "      <th>x5</th>\n",
       "      <th>x6</th>\n",
       "      <th>x7</th>\n",
       "      <th>x8</th>\n",
       "      <th>x9</th>\n",
       "      <th>x10</th>\n",
       "      <th>...</th>\n",
       "      <th>x46</th>\n",
       "      <th>x47</th>\n",
       "      <th>x48</th>\n",
       "      <th>x49</th>\n",
       "      <th>x50</th>\n",
       "      <th>x54</th>\n",
       "      <th>x55</th>\n",
       "      <th>x56</th>\n",
       "      <th>x57</th>\n",
       "      <th>x60</th>\n",
       "    </tr>\n",
       "  </thead>\n",
       "  <tbody>\n",
       "    <tr>\n",
       "      <th>17889</th>\n",
       "      <td>0.051116</td>\n",
       "      <td>2.476604</td>\n",
       "      <td>1.527155</td>\n",
       "      <td>161.052222</td>\n",
       "      <td>0.046178</td>\n",
       "      <td>41.906197</td>\n",
       "      <td>-0.009339</td>\n",
       "      <td>-0.000993</td>\n",
       "      <td>0.110023</td>\n",
       "      <td>0.021628</td>\n",
       "      <td>...</td>\n",
       "      <td>0.251298</td>\n",
       "      <td>67.346772</td>\n",
       "      <td>0.012697</td>\n",
       "      <td>9.200203</td>\n",
       "      <td>-2.986095</td>\n",
       "      <td>1.897396</td>\n",
       "      <td>84.523014</td>\n",
       "      <td>-30.168570</td>\n",
       "      <td>-1.348561</td>\n",
       "      <td>-0.005688</td>\n",
       "    </tr>\n",
       "    <tr>\n",
       "      <th>17890</th>\n",
       "      <td>0.122141</td>\n",
       "      <td>2.360784</td>\n",
       "      <td>1.540863</td>\n",
       "      <td>170.833289</td>\n",
       "      <td>-0.025370</td>\n",
       "      <td>48.537056</td>\n",
       "      <td>-0.009339</td>\n",
       "      <td>-0.000993</td>\n",
       "      <td>0.110023</td>\n",
       "      <td>0.011557</td>\n",
       "      <td>...</td>\n",
       "      <td>0.065130</td>\n",
       "      <td>54.753144</td>\n",
       "      <td>0.012987</td>\n",
       "      <td>9.072731</td>\n",
       "      <td>-2.986095</td>\n",
       "      <td>2.444188</td>\n",
       "      <td>82.112857</td>\n",
       "      <td>-28.508627</td>\n",
       "      <td>-0.982289</td>\n",
       "      <td>-0.005702</td>\n",
       "    </tr>\n",
       "    <tr>\n",
       "      <th>17891</th>\n",
       "      <td>0.068225</td>\n",
       "      <td>2.513360</td>\n",
       "      <td>1.259075</td>\n",
       "      <td>173.774878</td>\n",
       "      <td>-0.096919</td>\n",
       "      <td>51.046517</td>\n",
       "      <td>-0.009339</td>\n",
       "      <td>-0.000993</td>\n",
       "      <td>0.110023</td>\n",
       "      <td>0.011557</td>\n",
       "      <td>...</td>\n",
       "      <td>0.023382</td>\n",
       "      <td>58.629975</td>\n",
       "      <td>0.013277</td>\n",
       "      <td>8.391762</td>\n",
       "      <td>-2.986095</td>\n",
       "      <td>2.446941</td>\n",
       "      <td>75.939762</td>\n",
       "      <td>-20.985724</td>\n",
       "      <td>-1.165393</td>\n",
       "      <td>-0.005717</td>\n",
       "    </tr>\n",
       "    <tr>\n",
       "      <th>17892</th>\n",
       "      <td>0.193702</td>\n",
       "      <td>2.404968</td>\n",
       "      <td>1.115587</td>\n",
       "      <td>175.885504</td>\n",
       "      <td>-0.168452</td>\n",
       "      <td>52.827950</td>\n",
       "      <td>-0.009339</td>\n",
       "      <td>-0.000993</td>\n",
       "      <td>0.119788</td>\n",
       "      <td>0.011557</td>\n",
       "      <td>...</td>\n",
       "      <td>0.109628</td>\n",
       "      <td>57.240815</td>\n",
       "      <td>0.013567</td>\n",
       "      <td>7.710823</td>\n",
       "      <td>-2.986095</td>\n",
       "      <td>2.449692</td>\n",
       "      <td>71.452701</td>\n",
       "      <td>-20.228964</td>\n",
       "      <td>-0.664906</td>\n",
       "      <td>-0.005731</td>\n",
       "    </tr>\n",
       "    <tr>\n",
       "      <th>17893</th>\n",
       "      <td>0.075007</td>\n",
       "      <td>-13.796615</td>\n",
       "      <td>-16.995079</td>\n",
       "      <td>177.938849</td>\n",
       "      <td>-0.240000</td>\n",
       "      <td>57.281533</td>\n",
       "      <td>-0.009339</td>\n",
       "      <td>-0.000993</td>\n",
       "      <td>0.119788</td>\n",
       "      <td>0.011557</td>\n",
       "      <td>...</td>\n",
       "      <td>-0.264514</td>\n",
       "      <td>55.707185</td>\n",
       "      <td>0.013857</td>\n",
       "      <td>28.817513</td>\n",
       "      <td>-2.986095</td>\n",
       "      <td>2.452444</td>\n",
       "      <td>80.604312</td>\n",
       "      <td>-19.472189</td>\n",
       "      <td>-1.226490</td>\n",
       "      <td>-0.005746</td>\n",
       "    </tr>\n",
       "  </tbody>\n",
       "</table>\n",
       "<p>5 rows × 50 columns</p>\n",
       "</div>"
      ],
      "text/plain": [
       "             x1         x2         x3          x4        x5         x6  \\\n",
       "17889  0.051116   2.476604   1.527155  161.052222  0.046178  41.906197   \n",
       "17890  0.122141   2.360784   1.540863  170.833289 -0.025370  48.537056   \n",
       "17891  0.068225   2.513360   1.259075  173.774878 -0.096919  51.046517   \n",
       "17892  0.193702   2.404968   1.115587  175.885504 -0.168452  52.827950   \n",
       "17893  0.075007 -13.796615 -16.995079  177.938849 -0.240000  57.281533   \n",
       "\n",
       "             x7        x8        x9       x10  ...       x46        x47  \\\n",
       "17889 -0.009339 -0.000993  0.110023  0.021628  ...  0.251298  67.346772   \n",
       "17890 -0.009339 -0.000993  0.110023  0.011557  ...  0.065130  54.753144   \n",
       "17891 -0.009339 -0.000993  0.110023  0.011557  ...  0.023382  58.629975   \n",
       "17892 -0.009339 -0.000993  0.119788  0.011557  ...  0.109628  57.240815   \n",
       "17893 -0.009339 -0.000993  0.119788  0.011557  ... -0.264514  55.707185   \n",
       "\n",
       "            x48        x49       x50       x54        x55        x56  \\\n",
       "17889  0.012697   9.200203 -2.986095  1.897396  84.523014 -30.168570   \n",
       "17890  0.012987   9.072731 -2.986095  2.444188  82.112857 -28.508627   \n",
       "17891  0.013277   8.391762 -2.986095  2.446941  75.939762 -20.985724   \n",
       "17892  0.013567   7.710823 -2.986095  2.449692  71.452701 -20.228964   \n",
       "17893  0.013857  28.817513 -2.986095  2.452444  80.604312 -19.472189   \n",
       "\n",
       "            x57       x60  \n",
       "17889 -1.348561 -0.005688  \n",
       "17890 -0.982289 -0.005702  \n",
       "17891 -1.165393 -0.005717  \n",
       "17892 -0.664906 -0.005731  \n",
       "17893 -1.226490 -0.005746  \n",
       "\n",
       "[5 rows x 50 columns]"
      ]
     },
     "execution_count": 33,
     "metadata": {},
     "output_type": "execute_result"
    }
   ],
   "source": [
    "# Feature Selection\n",
    "# List of considered Features\n",
    "# Descartando o Grupo A (variáveis que caem abrubtamente)\n",
    "FEATURES = [\n",
    "    'x1','x2','x3','x4','x5','x6','x7','x8','x9','x10','x11','x13','x14','x15','x17','x18','x19','x20',\n",
    "    'x21','x22','x24','x26','x27','x28','x29','x30','x32','x33','x34','x35','x36','x37','x38','x39','x40',\n",
    "    'x41','x42','x43','x44','x45','x46','x47','x48','x49','x50','x54','x55','x56','x57','x60',\n",
    "    ]\n",
    "\n",
    "# Create the dataset with features and filter the data to the list of FEATURES\n",
    "pwbds_filtered = pwbds[FEATURES]\n",
    "\n",
    "# Print the tail of the dataframe\n",
    "pwbds_filtered.tail()"
   ]
  },
  {
   "cell_type": "code",
   "execution_count": 34,
   "id": "65250f0f",
   "metadata": {},
   "outputs": [
    {
     "name": "stdout",
     "output_type": "stream",
     "text": [
      "(17894, 50)\n"
     ]
    }
   ],
   "source": [
    "# This Scaler removes the median and scales the data according to the quantile range to normalize the price data \n",
    "from sklearn.preprocessing import RobustScaler, MinMaxScaler \n",
    "\n",
    "# Get the number of rows in the data\n",
    "nrows = pwbds_filtered.shape[0]\n",
    "\n",
    "# Convert the data to numpy values\n",
    "np_data_unscaled = np.array(pwbds_filtered)\n",
    "np_data = np.reshape(np_data_unscaled, (nrows, -1))\n",
    "print(np_data.shape)\n",
    "\n",
    "# Transform the data by scaling each feature to a range between 0 and 1\n",
    "scaler = MinMaxScaler()\n",
    "np_data_scaled = scaler.fit_transform(np_data_unscaled)\n",
    "pwbds_scaled = pd.DataFrame(\n",
    "    np_data_scaled,\n",
    "    columns=FEATURES\n",
    ")\n",
    "pwbds_scaled['RUL'] = pwbds['RUL']"
   ]
  },
  {
   "cell_type": "markdown",
   "id": "fd709b30",
   "metadata": {},
   "source": [
    "# Shaping & Splitting"
   ]
  },
  {
   "cell_type": "code",
   "execution_count": 35,
   "id": "8936176d",
   "metadata": {},
   "outputs": [],
   "source": [
    "def lstm_data_transform(x_data, y_data, num_steps=5):\n",
    "    \"\"\" Changes data to the format for LSTM training for sliding window approach \"\"\"\n",
    "    # Prepare the list for the transformed data\n",
    "    X, y = list(), list()\n",
    "    # Loop of the entire data set\n",
    "    for i in range(x_data.shape[0]):\n",
    "        # compute a new (sliding window) index\n",
    "        end_ix = i + num_steps\n",
    "        \n",
    "        # if index is larger than the size of the dataset, we stop\n",
    "        if end_ix >= x_data.shape[0]:\n",
    "            break\n",
    "        \n",
    "        # Get a sequence of data for x\n",
    "        seq_X = x_data[i:end_ix]\n",
    "        \n",
    "        # Get only the last element of the sequency for y\n",
    "        seq_y = y_data[end_ix-1]\n",
    "        \n",
    "        # Append the list with sequencies\n",
    "        X.append(seq_X)\n",
    "        y.append(seq_y)\n",
    "    \n",
    "    # Make final arrays\n",
    "    x_array = np.array(X)\n",
    "    y_array = np.array(y)\n",
    "    return x_array, y_array"
   ]
  },
  {
   "cell_type": "markdown",
   "id": "8490e1cb",
   "metadata": {},
   "source": [
    "## Dataset for Model 1"
   ]
  },
  {
   "cell_type": "code",
   "execution_count": 36,
   "id": "439c4c2f",
   "metadata": {},
   "outputs": [],
   "source": [
    "pwbds_m1 = pwbds_scaled.copy()\n",
    "#pwbds_m1.drop('NEXT_H',axis='columns', inplace=True)\n",
    "yds_m1 = pwbds_m1.pop('RUL')"
   ]
  },
  {
   "cell_type": "code",
   "execution_count": 37,
   "id": "14f2b141",
   "metadata": {},
   "outputs": [
    {
     "name": "stdout",
     "output_type": "stream",
     "text": [
      "The new shape of x is (17864, 30, 50)\n"
     ]
    }
   ],
   "source": [
    "num_steps = 30 # Intervalo entre medições é de 2 segundos\n",
    "x_new, y_new = lstm_data_transform(pwbds_m1, yds_m1, num_steps=num_steps)\n",
    "print (\"The new shape of x is\", x_new.shape)"
   ]
  },
  {
   "cell_type": "code",
   "execution_count": 38,
   "id": "0f59c7ae",
   "metadata": {},
   "outputs": [],
   "source": [
    "train_ind = int(0.8 * pwbds.shape[0])\n",
    "x_train = x_new[:train_ind]\n",
    "y_train = y_new[:train_ind]\n",
    "x_test = x_new[train_ind:]\n",
    "y_test = y_new[train_ind:]"
   ]
  },
  {
   "cell_type": "markdown",
   "id": "cdaf4056",
   "metadata": {},
   "source": [
    "# Modeling 1: Regression - Predict RUL"
   ]
  },
  {
   "cell_type": "code",
   "execution_count": 39,
   "id": "287fa9d7",
   "metadata": {},
   "outputs": [
    {
     "name": "stderr",
     "output_type": "stream",
     "text": [
      "C:\\Users\\hcord\\anaconda3\\envs\\paper3\\lib\\site-packages\\tensorflow\\python\\framework\\dtypes.py:516: FutureWarning: Passing (type, 1) or '1type' as a synonym of type is deprecated; in a future version of numpy, it will be understood as (type, (1,)) / '(1,)type'.\n",
      "  _np_qint8 = np.dtype([(\"qint8\", np.int8, 1)])\n",
      "C:\\Users\\hcord\\anaconda3\\envs\\paper3\\lib\\site-packages\\tensorflow\\python\\framework\\dtypes.py:517: FutureWarning: Passing (type, 1) or '1type' as a synonym of type is deprecated; in a future version of numpy, it will be understood as (type, (1,)) / '(1,)type'.\n",
      "  _np_quint8 = np.dtype([(\"quint8\", np.uint8, 1)])\n",
      "C:\\Users\\hcord\\anaconda3\\envs\\paper3\\lib\\site-packages\\tensorflow\\python\\framework\\dtypes.py:518: FutureWarning: Passing (type, 1) or '1type' as a synonym of type is deprecated; in a future version of numpy, it will be understood as (type, (1,)) / '(1,)type'.\n",
      "  _np_qint16 = np.dtype([(\"qint16\", np.int16, 1)])\n",
      "C:\\Users\\hcord\\anaconda3\\envs\\paper3\\lib\\site-packages\\tensorflow\\python\\framework\\dtypes.py:519: FutureWarning: Passing (type, 1) or '1type' as a synonym of type is deprecated; in a future version of numpy, it will be understood as (type, (1,)) / '(1,)type'.\n",
      "  _np_quint16 = np.dtype([(\"quint16\", np.uint16, 1)])\n",
      "C:\\Users\\hcord\\anaconda3\\envs\\paper3\\lib\\site-packages\\tensorflow\\python\\framework\\dtypes.py:520: FutureWarning: Passing (type, 1) or '1type' as a synonym of type is deprecated; in a future version of numpy, it will be understood as (type, (1,)) / '(1,)type'.\n",
      "  _np_qint32 = np.dtype([(\"qint32\", np.int32, 1)])\n",
      "C:\\Users\\hcord\\anaconda3\\envs\\paper3\\lib\\site-packages\\tensorflow\\python\\framework\\dtypes.py:525: FutureWarning: Passing (type, 1) or '1type' as a synonym of type is deprecated; in a future version of numpy, it will be understood as (type, (1,)) / '(1,)type'.\n",
      "  np_resource = np.dtype([(\"resource\", np.ubyte, 1)])\n",
      "C:\\Users\\hcord\\anaconda3\\envs\\paper3\\lib\\site-packages\\tensorboard\\compat\\tensorflow_stub\\dtypes.py:541: FutureWarning: Passing (type, 1) or '1type' as a synonym of type is deprecated; in a future version of numpy, it will be understood as (type, (1,)) / '(1,)type'.\n",
      "  _np_qint8 = np.dtype([(\"qint8\", np.int8, 1)])\n",
      "C:\\Users\\hcord\\anaconda3\\envs\\paper3\\lib\\site-packages\\tensorboard\\compat\\tensorflow_stub\\dtypes.py:542: FutureWarning: Passing (type, 1) or '1type' as a synonym of type is deprecated; in a future version of numpy, it will be understood as (type, (1,)) / '(1,)type'.\n",
      "  _np_quint8 = np.dtype([(\"quint8\", np.uint8, 1)])\n",
      "C:\\Users\\hcord\\anaconda3\\envs\\paper3\\lib\\site-packages\\tensorboard\\compat\\tensorflow_stub\\dtypes.py:543: FutureWarning: Passing (type, 1) or '1type' as a synonym of type is deprecated; in a future version of numpy, it will be understood as (type, (1,)) / '(1,)type'.\n",
      "  _np_qint16 = np.dtype([(\"qint16\", np.int16, 1)])\n",
      "C:\\Users\\hcord\\anaconda3\\envs\\paper3\\lib\\site-packages\\tensorboard\\compat\\tensorflow_stub\\dtypes.py:544: FutureWarning: Passing (type, 1) or '1type' as a synonym of type is deprecated; in a future version of numpy, it will be understood as (type, (1,)) / '(1,)type'.\n",
      "  _np_quint16 = np.dtype([(\"quint16\", np.uint16, 1)])\n",
      "C:\\Users\\hcord\\anaconda3\\envs\\paper3\\lib\\site-packages\\tensorboard\\compat\\tensorflow_stub\\dtypes.py:545: FutureWarning: Passing (type, 1) or '1type' as a synonym of type is deprecated; in a future version of numpy, it will be understood as (type, (1,)) / '(1,)type'.\n",
      "  _np_qint32 = np.dtype([(\"qint32\", np.int32, 1)])\n",
      "C:\\Users\\hcord\\anaconda3\\envs\\paper3\\lib\\site-packages\\tensorboard\\compat\\tensorflow_stub\\dtypes.py:550: FutureWarning: Passing (type, 1) or '1type' as a synonym of type is deprecated; in a future version of numpy, it will be understood as (type, (1,)) / '(1,)type'.\n",
      "  np_resource = np.dtype([(\"resource\", np.ubyte, 1)])\n"
     ]
    }
   ],
   "source": [
    "import tensorflow as tf\n",
    "from tensorflow import keras\n",
    "from tensorflow.keras import layers"
   ]
  },
  {
   "cell_type": "code",
   "execution_count": 40,
   "id": "f7521c4d",
   "metadata": {},
   "outputs": [
    {
     "name": "stdout",
     "output_type": "stream",
     "text": [
      "WARNING:tensorflow:From C:\\Users\\hcord\\anaconda3\\envs\\paper3\\lib\\site-packages\\tensorflow\\python\\ops\\init_ops.py:1251: calling VarianceScaling.__init__ (from tensorflow.python.ops.init_ops) with dtype is deprecated and will be removed in a future version.\n",
      "Instructions for updating:\n",
      "Call initializer instance with the dtype argument instead of passing it to the constructor\n"
     ]
    }
   ],
   "source": [
    "model_1 = keras.Sequential()\n",
    "model_1.add(layers.LSTM(120, activation='tanh', input_shape=(num_steps, x_train.shape[2]), \n",
    "               return_sequences=True))\n",
    "# Plus a 20% dropout rate\n",
    "model_1.add(layers.Dropout(0.2))\n",
    "\n",
    "# The second layer\n",
    "model_1.add(layers.LSTM(\n",
    "          units=60,\n",
    "          return_sequences=False))\n",
    "\n",
    "# Plus a 20% dropout rate\n",
    "model_1.add(layers.Dropout(0.2))\n",
    "model_1.add(layers.Dense(units=60, activation='relu'))\n",
    "model_1.add(layers.Dropout(0.2))\n",
    "model_1.add(layers.Dense(units=30, activation='relu'))\n",
    "model_1.add(layers.Dropout(0.2))\n",
    "model_1.add(layers.Dense(units=1, activation='linear'))\n",
    "adam = keras.optimizers.Adam(lr=0.0001)\n",
    "model_1.compile(optimizer=adam, loss='mse')"
   ]
  },
  {
   "cell_type": "code",
   "execution_count": 41,
   "id": "5eb08496",
   "metadata": {},
   "outputs": [
    {
     "name": "stdout",
     "output_type": "stream",
     "text": [
      "Model: \"sequential\"\n",
      "_________________________________________________________________\n",
      "Layer (type)                 Output Shape              Param #   \n",
      "=================================================================\n",
      "lstm (LSTM)                  (None, 30, 120)           82080     \n",
      "_________________________________________________________________\n",
      "dropout (Dropout)            (None, 30, 120)           0         \n",
      "_________________________________________________________________\n",
      "lstm_1 (LSTM)                (None, 60)                43440     \n",
      "_________________________________________________________________\n",
      "dropout_1 (Dropout)          (None, 60)                0         \n",
      "_________________________________________________________________\n",
      "dense (Dense)                (None, 60)                3660      \n",
      "_________________________________________________________________\n",
      "dropout_2 (Dropout)          (None, 60)                0         \n",
      "_________________________________________________________________\n",
      "dense_1 (Dense)              (None, 30)                1830      \n",
      "_________________________________________________________________\n",
      "dropout_3 (Dropout)          (None, 30)                0         \n",
      "_________________________________________________________________\n",
      "dense_2 (Dense)              (None, 1)                 31        \n",
      "=================================================================\n",
      "Total params: 131,041\n",
      "Trainable params: 131,041\n",
      "Non-trainable params: 0\n",
      "_________________________________________________________________\n",
      "None\n"
     ]
    }
   ],
   "source": [
    "# Verify the architecture \n",
    "print(model_1.summary())"
   ]
  },
  {
   "cell_type": "code",
   "execution_count": 42,
   "id": "5073f8e7",
   "metadata": {},
   "outputs": [
    {
     "name": "stdout",
     "output_type": "stream",
     "text": [
      "WARNING:tensorflow:From C:\\Users\\hcord\\anaconda3\\envs\\paper3\\lib\\site-packages\\tensorflow\\python\\ops\\math_grad.py:1250: add_dispatch_support.<locals>.wrapper (from tensorflow.python.ops.array_ops) is deprecated and will be removed in a future version.\n",
      "Instructions for updating:\n",
      "Use tf.where in 2.0, which has the same broadcast rule as np.where\n",
      "Epoch 1/40\n",
      "14315/14315 [==============================] - 22s 2ms/sample - loss: 275996.9719\n",
      "Epoch 2/40\n",
      "14315/14315 [==============================] - 25s 2ms/sample - loss: 204891.2228\n",
      "Epoch 3/40\n",
      "14315/14315 [==============================] - 24s 2ms/sample - loss: 141930.7680\n",
      "Epoch 4/40\n",
      "14315/14315 [==============================] - 25s 2ms/sample - loss: 131788.8861\n",
      "Epoch 5/40\n",
      "14315/14315 [==============================] - 25s 2ms/sample - loss: 118736.4069\n",
      "Epoch 6/40\n",
      "14315/14315 [==============================] - 24s 2ms/sample - loss: 102971.4155\n",
      "Epoch 7/40\n",
      "14315/14315 [==============================] - 25s 2ms/sample - loss: 93577.4948\n",
      "Epoch 8/40\n",
      "14315/14315 [==============================] - 24s 2ms/sample - loss: 88265.3242\n",
      "Epoch 9/40\n",
      "14315/14315 [==============================] - 24s 2ms/sample - loss: 82034.6736\n",
      "Epoch 10/40\n",
      "14315/14315 [==============================] - 24s 2ms/sample - loss: 72696.8714\n",
      "Epoch 11/40\n",
      "14315/14315 [==============================] - 24s 2ms/sample - loss: 60761.0679\n",
      "Epoch 12/40\n",
      "14315/14315 [==============================] - 24s 2ms/sample - loss: 49603.9426\n",
      "Epoch 13/40\n",
      "14315/14315 [==============================] - 24s 2ms/sample - loss: 41840.0544\n",
      "Epoch 14/40\n",
      "14315/14315 [==============================] - 24s 2ms/sample - loss: 38919.3247\n",
      "Epoch 15/40\n",
      "14315/14315 [==============================] - 25s 2ms/sample - loss: 35609.8592\n",
      "Epoch 16/40\n",
      "14315/14315 [==============================] - 24s 2ms/sample - loss: 33523.1436\n",
      "Epoch 17/40\n",
      "14315/14315 [==============================] - 24s 2ms/sample - loss: 32507.6437\n",
      "Epoch 18/40\n",
      "14315/14315 [==============================] - 24s 2ms/sample - loss: 31108.0545\n",
      "Epoch 19/40\n",
      "14315/14315 [==============================] - 24s 2ms/sample - loss: 29750.0985\n",
      "Epoch 20/40\n",
      "14315/14315 [==============================] - 25s 2ms/sample - loss: 27405.9376\n",
      "Epoch 21/40\n",
      "14315/14315 [==============================] - 24s 2ms/sample - loss: 26874.8494\n",
      "Epoch 22/40\n",
      "14315/14315 [==============================] - 24s 2ms/sample - loss: 26967.9671\n",
      "Epoch 23/40\n",
      "14315/14315 [==============================] - 23s 2ms/sample - loss: 25377.9884\n",
      "Epoch 24/40\n",
      "14315/14315 [==============================] - 23s 2ms/sample - loss: 27421.8796\n",
      "Epoch 25/40\n",
      "14315/14315 [==============================] - 23s 2ms/sample - loss: 26813.9004\n",
      "Epoch 26/40\n",
      "14315/14315 [==============================] - 23s 2ms/sample - loss: 25034.3655\n",
      "Epoch 27/40\n",
      "14315/14315 [==============================] - 23s 2ms/sample - loss: 23869.3866\n",
      "Epoch 28/40\n",
      "14315/14315 [==============================] - 24s 2ms/sample - loss: 27820.6130\n",
      "Epoch 29/40\n",
      "14315/14315 [==============================] - 24s 2ms/sample - loss: 23625.8960\n",
      "Epoch 30/40\n",
      "14315/14315 [==============================] - 24s 2ms/sample - loss: 22231.8096\n",
      "Epoch 31/40\n",
      "14315/14315 [==============================] - 24s 2ms/sample - loss: 24485.9061\n",
      "Epoch 32/40\n",
      "14315/14315 [==============================] - 24s 2ms/sample - loss: 23760.3261\n",
      "Epoch 33/40\n",
      "14315/14315 [==============================] - 24s 2ms/sample - loss: 23056.3825\n"
     ]
    }
   ],
   "source": [
    "# EarlyStopping Callback\n",
    "callback = tf.keras.callbacks.EarlyStopping(monitor='loss', patience=3)\n",
    "\n",
    "history_m1 = model_1.fit(\n",
    "    x_train, \n",
    "    y_train, \n",
    "    epochs=40,\n",
    "    callbacks=[callback]\n",
    "#    batch_size=200, \n",
    "#    validation_split=0.10 # Use 10% of data to evaluate the loss. (val_loss)\n",
    ")"
   ]
  },
  {
   "cell_type": "code",
   "execution_count": 43,
   "id": "a90c1a6f",
   "metadata": {},
   "outputs": [
    {
     "data": {
      "text/plain": [
       "Text(0.5, 0, 'epochs')"
      ]
     },
     "execution_count": 43,
     "metadata": {},
     "output_type": "execute_result"
    },
    {
     "data": {
      "image/png": "[encoded data removed]",
      "text/plain": [
       "<Figure size 432x288 with 1 Axes>"
      ]
     },
     "metadata": {
      "needs_background": "dark"
     },
     "output_type": "display_data"
    }
   ],
   "source": [
    "# Plot History\n",
    "pd.DataFrame(history_m1.history).plot()\n",
    "plt.ylabel('loss')\n",
    "plt.xlabel('epochs')"
   ]
  },
  {
   "cell_type": "code",
   "execution_count": 44,
   "id": "fc693072",
   "metadata": {},
   "outputs": [],
   "source": [
    "test_predict = model_1.predict(x_test)"
   ]
  },
  {
   "cell_type": "code",
   "execution_count": 45,
   "id": "cd63cf6b",
   "metadata": {},
   "outputs": [
    {
     "data": {
      "text/plain": [
       "[<matplotlib.lines.Line2D at 0x294e22539e8>]"
      ]
     },
     "execution_count": 45,
     "metadata": {},
     "output_type": "execute_result"
    },
    {
     "data": {
      "image/png": "[encoded data removed]",
      "text/plain": [
       "<Figure size 1200x480 with 1 Axes>"
      ]
     },
     "metadata": {
      "needs_background": "dark"
     },
     "output_type": "display_data"
    }
   ],
   "source": [
    "figure(figsize=(15, 6), dpi=80)\n",
    "plt.plot(y_test,'r+')\n",
    "plt.plot(test_predict,'b+')"
   ]
  },
  {
   "cell_type": "code",
   "execution_count": 46,
   "id": "e4afba3c",
   "metadata": {},
   "outputs": [],
   "source": [
    "import shap  # package used to calculate Shap values\n",
    "\n",
    "# use Deep SHAP to explain test set predictions\n",
    "#deep_explainer = shap.DeepExplainer(model_1.predict_proba, x_train)\n",
    "#deep_shap_values = deep_explainer.shap_values(x_test)\n",
    "#shap.force_plot(deep_explainer.expected_value[1], deep_shap_values[1], x_test)"
   ]
  },
  {
   "cell_type": "markdown",
   "id": "d5b977ab",
   "metadata": {},
   "source": [
    "## Truth"
   ]
  },
  {
   "cell_type": "markdown",
   "id": "b341ea13",
   "metadata": {},
   "source": [
    "### Quantas quebras realmente ocorreram?"
   ]
  },
  {
   "cell_type": "code",
   "execution_count": 47,
   "id": "fe590437",
   "metadata": {},
   "outputs": [
    {
     "data": {
      "text/plain": [
       "(array([False,  True]), array([3516,   33], dtype=int64))"
      ]
     },
     "execution_count": 47,
     "metadata": {},
     "output_type": "execute_result"
    }
   ],
   "source": [
    "# Registro de quebras são aqueles onde RUL==0 (y_test==0)\n",
    "np.unique(y_test==0,return_counts=True)"
   ]
  },
  {
   "cell_type": "markdown",
   "id": "f70555c4",
   "metadata": {},
   "source": [
    "### Quando ocorreram?"
   ]
  },
  {
   "cell_type": "code",
   "execution_count": 48,
   "id": "a378a555",
   "metadata": {},
   "outputs": [],
   "source": [
    "break_moments= np.where(y_test == 0)"
   ]
  },
  {
   "cell_type": "code",
   "execution_count": 49,
   "id": "07f977fe",
   "metadata": {},
   "outputs": [
    {
     "data": {
      "text/plain": [
       "[array([ 172,  570,  752,  950, 1069, 1092, 1112, 1139, 1176, 1182, 1187,\n",
       "        1223, 1246, 1300, 1303, 1319, 1325, 1361, 1365, 1395, 1426, 1462,\n",
       "        1582, 1915, 2349, 2579, 2689, 2838, 2861, 2949, 3132, 3261, 3522],\n",
       "       dtype=int64)]"
      ]
     },
     "execution_count": 49,
     "metadata": {},
     "output_type": "execute_result"
    }
   ],
   "source": [
    "list(break_moments)"
   ]
  },
  {
   "cell_type": "markdown",
   "id": "66c317b2",
   "metadata": {},
   "source": [
    "## Previsões"
   ]
  },
  {
   "cell_type": "markdown",
   "id": "2612a8e3",
   "metadata": {},
   "source": [
    "### Quantas indicações abaixo de x minutos? "
   ]
  },
  {
   "cell_type": "code",
   "execution_count": 50,
   "id": "b0bf7ffe",
   "metadata": {},
   "outputs": [
    {
     "data": {
      "text/plain": [
       "(array([False,  True]), array([2342, 1207], dtype=int64))"
      ]
     },
     "execution_count": 50,
     "metadata": {},
     "output_type": "execute_result"
    }
   ],
   "source": [
    "np.unique(test_predict < 90 ,return_counts=True)"
   ]
  },
  {
   "cell_type": "markdown",
   "id": "c94421ec",
   "metadata": {},
   "source": [
    "### Quando ocorreram?"
   ]
  },
  {
   "cell_type": "code",
   "execution_count": 51,
   "id": "95c7d2b7",
   "metadata": {},
   "outputs": [
    {
     "data": {
      "text/plain": [
       "array([ 139,  140,  141, ..., 3380, 3381, 3382], dtype=int64)"
      ]
     },
     "execution_count": 51,
     "metadata": {},
     "output_type": "execute_result"
    }
   ],
   "source": [
    "np.where(test_predict < 90)[0]"
   ]
  },
  {
   "cell_type": "markdown",
   "id": "bfc437a5",
   "metadata": {},
   "source": [
    "## Acertos\n",
    "### Quantos e quando?"
   ]
  },
  {
   "cell_type": "code",
   "execution_count": 52,
   "id": "0e5f5fc0",
   "metadata": {},
   "outputs": [],
   "source": [
    "when_pred = np.where(test_predict < 90)[0].tolist()\n",
    "when_true = np.where(y_test == 0)[0].tolist()"
   ]
  },
  {
   "cell_type": "code",
   "execution_count": 53,
   "id": "284540b4",
   "metadata": {},
   "outputs": [],
   "source": [
    "commonalities = set(when_pred) - (set(when_pred) - set(when_true))"
   ]
  },
  {
   "cell_type": "code",
   "execution_count": 54,
   "id": "684ab104",
   "metadata": {},
   "outputs": [
    {
     "data": {
      "text/plain": [
       "20"
      ]
     },
     "execution_count": 54,
     "metadata": {},
     "output_type": "execute_result"
    }
   ],
   "source": [
    "len(commonalities)"
   ]
  },
  {
   "cell_type": "code",
   "execution_count": 55,
   "id": "20ef34fe",
   "metadata": {},
   "outputs": [
    {
     "data": {
      "text/plain": [
       "{172,\n",
       " 570,\n",
       " 752,\n",
       " 950,\n",
       " 1069,\n",
       " 1112,\n",
       " 1139,\n",
       " 1176,\n",
       " 1182,\n",
       " 1187,\n",
       " 1223,\n",
       " 1246,\n",
       " 1300,\n",
       " 1303,\n",
       " 1319,\n",
       " 1325,\n",
       " 1361,\n",
       " 1365,\n",
       " 1395,\n",
       " 1426}"
      ]
     },
     "execution_count": 55,
     "metadata": {},
     "output_type": "execute_result"
    }
   ],
   "source": [
    "commonalities"
   ]
  }
 ],
 "metadata": {
  "kernelspec": {
   "display_name": "paper3",
   "language": "python",
   "name": "paper3"
  },
  "language_info": {
   "codemirror_mode": {
    "name": "ipython",
    "version": 3
   },
   "file_extension": ".py",
   "mimetype": "text/x-python",
   "name": "python",
   "nbconvert_exporter": "python",
   "pygments_lexer": "ipython3",
   "version": "3.6.9"
  }
 },
 "nbformat": 4,
 "nbformat_minor": 5
}

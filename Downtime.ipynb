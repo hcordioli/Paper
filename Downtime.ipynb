{
 "cells": [
  {
   "cell_type": "code",
   "execution_count": 41,
   "id": "010e20e8",
   "metadata": {},
   "outputs": [],
   "source": [
    "import pandas as pd\n",
    "import numpy as np"
   ]
  },
  {
   "cell_type": "code",
   "execution_count": 42,
   "id": "c2aeffe7",
   "metadata": {},
   "outputs": [],
   "source": [
    "ds = pd.DataFrame([\n",
    "    ['1999-05-01 00:00:00',0],\n",
    "    ['1999-05-01 00:02:00',0],\n",
    "    ['1999-05-01 00:04:00',0],\n",
    "    ['1999-05-01 00:06:00',0],\n",
    "    ['1999-05-01 00:08:00',0],\n",
    "    ['1999-05-01 00:10:00',1],\n",
    "    ['1999-05-01 10:10:00',0],\n",
    "    ['1999-05-01 10:12:00',0],\n",
    "    ['1999-05-01 10:14:00',0],\n",
    "    ['1999-05-01 10:16:00',0],\n",
    "    ['1999-05-01 10:18:00',0],\n",
    "    ['1999-05-01 10:20:00',1],\n",
    "    ['1999-05-01 12:20:00',0],    \n",
    "],\n",
    "columns=['time','y'])"
   ]
  },
  {
   "cell_type": "code",
   "execution_count": 44,
   "id": "e46ef84f",
   "metadata": {},
   "outputs": [],
   "source": [
    "ds['time']= pd.to_datetime(ds['time'])"
   ]
  },
  {
   "cell_type": "code",
   "execution_count": 45,
   "id": "34d042de",
   "metadata": {},
   "outputs": [],
   "source": [
    "ds[\"next_measure\"] = ds[\"time\"].shift(-1)"
   ]
  },
  {
   "cell_type": "code",
   "execution_count": 46,
   "id": "9ef013ce",
   "metadata": {},
   "outputs": [],
   "source": [
    "ds['downtime'] = ds['next_measure'] - ds['time']"
   ]
  },
  {
   "cell_type": "code",
   "execution_count": 54,
   "id": "db1ebe45",
   "metadata": {},
   "outputs": [
    {
     "data": {
      "text/plain": [
       "Timedelta('0 days 12:00:00')"
      ]
     },
     "execution_count": 54,
     "metadata": {},
     "output_type": "execute_result"
    }
   ],
   "source": [
    "ds.groupby(['y'])['downtime'].agg('sum').iloc[1,]"
   ]
  },
  {
   "cell_type": "code",
   "execution_count": 56,
   "id": "76856b2c",
   "metadata": {},
   "outputs": [],
   "source": [
    "def calcDownTime(ds):\n",
    "    dstmp = ds.copy()\n",
    "    dstmp[\"next_measure\"] = dstmp[\"time\"].shift(-1)\n",
    "    dstmp['downtime'] = dstmp['next_measure'] - dstmp['time']\n",
    "    return (dstmp.groupby(['y'])['downtime'].agg('sum').iloc[1,])"
   ]
  },
  {
   "cell_type": "code",
   "execution_count": 57,
   "id": "227efcca",
   "metadata": {},
   "outputs": [
    {
     "data": {
      "text/plain": [
       "Timedelta('0 days 12:00:00')"
      ]
     },
     "execution_count": 57,
     "metadata": {},
     "output_type": "execute_result"
    }
   ],
   "source": [
    "calcDownTime(ds)"
   ]
  },
  {
   "cell_type": "code",
   "execution_count": null,
   "id": "3fcbd476",
   "metadata": {},
   "outputs": [],
   "source": []
  }
 ],
 "metadata": {
  "kernelspec": {
   "display_name": "base",
   "language": "python",
   "name": "base"
  },
  "language_info": {
   "codemirror_mode": {
    "name": "ipython",
    "version": 3
   },
   "file_extension": ".py",
   "mimetype": "text/x-python",
   "name": "python",
   "nbconvert_exporter": "python",
   "pygments_lexer": "ipython3",
   "version": "3.8.8"
  }
 },
 "nbformat": 4,
 "nbformat_minor": 5
}

{
 "cells": [
  {
   "cell_type": "markdown",
   "id": "35cdb27f",
   "metadata": {},
   "source": [
    "# Versionamento"
   ]
  },
  {
   "cell_type": "markdown",
   "id": "a64b68d1",
   "metadata": {},
   "source": [
    "V2: \n",
    "<ul>\n",
    "    <li>Inclusão da variável categórica x28 que está relacionada com o tipo de papel em produção</li>\n",
    "    <li>Feature Selection</li>\n",
    "    <li>Feature Scalling</li>\n",
    "</ul>"
   ]
  },
  {
   "cell_type": "markdown",
   "id": "ab4d4236",
   "metadata": {},
   "source": [
    "V3:\n",
    "<ul>\n",
    "    <li>Ajuste de parâmetros dos modelos</li>\n",
    "</ul>"
   ]
  },
  {
   "cell_type": "markdown",
   "id": "8af147a2",
   "metadata": {},
   "source": [
    "# O problema"
   ]
  },
  {
   "cell_type": "markdown",
   "id": "a5640d24",
   "metadata": {},
   "source": [
    "Paper manufacturing can be viewed as a continuous rolling process. During this process, sometimes the paper breaks. If a break happens, the entire process is stopped, the reel is taken out, any found problem is fixed, and the production is resumed. The resumption can take more than an hour.\n",
    "\n",
    "The cost of this lost production time is significant for a mill. Even a 5% reduction in the break events will give a significant cost saving for a mill. The objective of the given problem is to predict such breaks in advance (early prediction) and identify the potential cause(s) to prevent the break. \n",
    "\n",
    "To build such a prediction model, we will use the data collected from the network of sensors in a mill."
   ]
  },
  {
   "cell_type": "markdown",
   "id": "da647642",
   "metadata": {},
   "source": [
    "This is a multivariate time series data with break as the response (a\n",
    "binary variable).\n",
    "The provided data has,\n",
    "<ul>\n",
    "    <li>18,398 records.</li>\n",
    "    <li>Columns:</li>\n",
    "        <ul>\n",
    "        <li>time: the timestamp of the row</li>\n",
    "        <li>y: the binary response variable. There are only 124 rows with y = 1, rest are y = 0.</li>\n",
    "        <li>x1-x61: predictor variables. All the predictors are continuous variables, except x28 and x61. x61 is a binary variable, and x28 is a\n",
    "        categorical variable. All the predictors are centered. Besides, the predictors are a mixture of raw materials and process variables. Their descriptions are omitted for data anonymity.\n",
    "            Several sensors are placed in different parts of the machine along its length\n",
    "and breadth. These sensors measure both raw materials (e.g. amount of pulp\n",
    "fiber, chemicals, etc.) and process variables (e.g. blade type, couch vacuum,\n",
    "rotor speed, etc.).</li>\n",
    "        </ul>\n",
    "</ul>"
   ]
  },
  {
   "cell_type": "markdown",
   "id": "b2e887af",
   "metadata": {},
   "source": [
    "# Setup"
   ]
  },
  {
   "cell_type": "code",
   "execution_count": 1,
   "id": "bc68ad8b",
   "metadata": {},
   "outputs": [],
   "source": [
    "import pandas as pd\n",
    "import numpy as np\n",
    "import seaborn as sns\n",
    "import matplotlib.pyplot as plt\n",
    "from matplotlib.pyplot import figure\n",
    "from sklearn.metrics import confusion_matrix, recall_score, precision_score\n",
    "import datetime"
   ]
  },
  {
   "cell_type": "markdown",
   "id": "fb011b14",
   "metadata": {},
   "source": [
    "# Load Data"
   ]
  },
  {
   "cell_type": "code",
   "execution_count": 31,
   "id": "6d0806f3",
   "metadata": {},
   "outputs": [],
   "source": [
    "pwbdatafile = '..\\\\data\\\\processminer-rare-event-mts-data.csv'\n",
    "pwbds = pd.read_csv(pwbdatafile)"
   ]
  },
  {
   "cell_type": "code",
   "execution_count": 32,
   "id": "bef4b2bb",
   "metadata": {},
   "outputs": [],
   "source": [
    "pwbds['time']= pd.to_datetime(pwbds['time'])"
   ]
  },
  {
   "cell_type": "markdown",
   "id": "c75c014a",
   "metadata": {},
   "source": [
    "## Cálculo do Remaining Usefull Lifecycle (RUL)"
   ]
  },
  {
   "cell_type": "code",
   "execution_count": 33,
   "id": "1ef667a8",
   "metadata": {},
   "outputs": [],
   "source": [
    "# Dates whith break\n",
    "df_sub = sorted(pwbds[pwbds['y'] == 1]['time'].tolist())"
   ]
  },
  {
   "cell_type": "code",
   "execution_count": 34,
   "id": "c87afe51",
   "metadata": {},
   "outputs": [],
   "source": [
    "# variable to store all days\n",
    "breakSubIdx=0\n",
    "breakLstIdx=0\n",
    "breakList = pwbds['y'].tolist()\n",
    "nextbreak = []\n",
    "for v1 in pwbds['time'].tolist():\n",
    "    if((breakList[breakLstIdx] == 1)):\n",
    "#        print ('1')\n",
    "        nextbreak.append(v1)\n",
    "        breakSubIdx = breakSubIdx+1\n",
    "    else:\n",
    "#        print('0')\n",
    "        if (breakSubIdx < len(df_sub)):\n",
    "            nextbreak.append(df_sub[breakSubIdx])\n",
    "        else:\n",
    "            nextbreak.append(df_sub[breakSubIdx-1])\n",
    "    breakLstIdx = breakLstIdx+1\n",
    "pwbds['nextbreaktime'] = pd.Series(nextbreak)"
   ]
  },
  {
   "cell_type": "code",
   "execution_count": 35,
   "id": "700b77e4",
   "metadata": {},
   "outputs": [],
   "source": [
    "pwbds['RUL']=round((pwbds['nextbreaktime']-pwbds['time']).dt.total_seconds()/60,2)\n",
    "pwbds.drop(pwbds[pwbds.RUL < 0].index, inplace=True)\n",
    "pwbds.drop(['time','nextbreaktime'], axis=1, inplace=True)"
   ]
  },
  {
   "cell_type": "markdown",
   "id": "386c0a62",
   "metadata": {},
   "source": [
    "## Marcação de falha no próximo período (próxima hora)"
   ]
  },
  {
   "cell_type": "markdown",
   "id": "11757518",
   "metadata": {},
   "source": [
    "Using RUL, we can create a label indicating time to failure. We define a boolean (True\\False) value for NEXT_H indicating the engine will fail within 60 minutes (RUL  <=60 ). \n",
    "\n",
    "We can also define a multiclass MULTI  ∈{0,1,2}  indicating {Healthy, RUL <=60, RUL <=120} minutes."
   ]
  },
  {
   "cell_type": "code",
   "execution_count": 36,
   "id": "4b70995b",
   "metadata": {},
   "outputs": [],
   "source": [
    "pwbds['NEXT_H'] = np.where(pwbds['RUL'] <= 60, 1, 0 )"
   ]
  },
  {
   "cell_type": "code",
   "execution_count": 37,
   "id": "bcfeb089",
   "metadata": {},
   "outputs": [
    {
     "data": {
      "text/plain": [
       "0    14877\n",
       "1     3017\n",
       "Name: NEXT_H, dtype: int64"
      ]
     },
     "execution_count": 37,
     "metadata": {},
     "output_type": "execute_result"
    }
   ],
   "source": [
    "pwbds['NEXT_H'].value_counts()"
   ]
  },
  {
   "cell_type": "markdown",
   "id": "4a1bb14a",
   "metadata": {},
   "source": [
    "# Feature Selection and Scaling"
   ]
  },
  {
   "cell_type": "code",
   "execution_count": 38,
   "id": "8183c485",
   "metadata": {},
   "outputs": [
    {
     "data": {
      "text/html": [
       "<div>\n",
       "<style scoped>\n",
       "    .dataframe tbody tr th:only-of-type {\n",
       "        vertical-align: middle;\n",
       "    }\n",
       "\n",
       "    .dataframe tbody tr th {\n",
       "        vertical-align: top;\n",
       "    }\n",
       "\n",
       "    .dataframe thead th {\n",
       "        text-align: right;\n",
       "    }\n",
       "</style>\n",
       "<table border=\"1\" class=\"dataframe\">\n",
       "  <thead>\n",
       "    <tr style=\"text-align: right;\">\n",
       "      <th></th>\n",
       "      <th>x1</th>\n",
       "      <th>x2</th>\n",
       "      <th>x3</th>\n",
       "      <th>x4</th>\n",
       "      <th>x5</th>\n",
       "      <th>x6</th>\n",
       "      <th>x7</th>\n",
       "      <th>x8</th>\n",
       "      <th>x9</th>\n",
       "      <th>x10</th>\n",
       "      <th>...</th>\n",
       "      <th>x46</th>\n",
       "      <th>x47</th>\n",
       "      <th>x48</th>\n",
       "      <th>x49</th>\n",
       "      <th>x50</th>\n",
       "      <th>x54</th>\n",
       "      <th>x55</th>\n",
       "      <th>x56</th>\n",
       "      <th>x57</th>\n",
       "      <th>x60</th>\n",
       "    </tr>\n",
       "  </thead>\n",
       "  <tbody>\n",
       "    <tr>\n",
       "      <th>17889</th>\n",
       "      <td>0.051116</td>\n",
       "      <td>2.476604</td>\n",
       "      <td>1.527155</td>\n",
       "      <td>161.052222</td>\n",
       "      <td>0.046178</td>\n",
       "      <td>41.906197</td>\n",
       "      <td>-0.009339</td>\n",
       "      <td>-0.000993</td>\n",
       "      <td>0.110023</td>\n",
       "      <td>0.021628</td>\n",
       "      <td>...</td>\n",
       "      <td>0.251298</td>\n",
       "      <td>67.346772</td>\n",
       "      <td>0.012697</td>\n",
       "      <td>9.200203</td>\n",
       "      <td>-2.986095</td>\n",
       "      <td>1.897396</td>\n",
       "      <td>84.523014</td>\n",
       "      <td>-30.168570</td>\n",
       "      <td>-1.348561</td>\n",
       "      <td>-0.005688</td>\n",
       "    </tr>\n",
       "    <tr>\n",
       "      <th>17890</th>\n",
       "      <td>0.122141</td>\n",
       "      <td>2.360784</td>\n",
       "      <td>1.540863</td>\n",
       "      <td>170.833289</td>\n",
       "      <td>-0.025370</td>\n",
       "      <td>48.537056</td>\n",
       "      <td>-0.009339</td>\n",
       "      <td>-0.000993</td>\n",
       "      <td>0.110023</td>\n",
       "      <td>0.011557</td>\n",
       "      <td>...</td>\n",
       "      <td>0.065130</td>\n",
       "      <td>54.753144</td>\n",
       "      <td>0.012987</td>\n",
       "      <td>9.072731</td>\n",
       "      <td>-2.986095</td>\n",
       "      <td>2.444188</td>\n",
       "      <td>82.112857</td>\n",
       "      <td>-28.508627</td>\n",
       "      <td>-0.982289</td>\n",
       "      <td>-0.005702</td>\n",
       "    </tr>\n",
       "    <tr>\n",
       "      <th>17891</th>\n",
       "      <td>0.068225</td>\n",
       "      <td>2.513360</td>\n",
       "      <td>1.259075</td>\n",
       "      <td>173.774878</td>\n",
       "      <td>-0.096919</td>\n",
       "      <td>51.046517</td>\n",
       "      <td>-0.009339</td>\n",
       "      <td>-0.000993</td>\n",
       "      <td>0.110023</td>\n",
       "      <td>0.011557</td>\n",
       "      <td>...</td>\n",
       "      <td>0.023382</td>\n",
       "      <td>58.629975</td>\n",
       "      <td>0.013277</td>\n",
       "      <td>8.391762</td>\n",
       "      <td>-2.986095</td>\n",
       "      <td>2.446941</td>\n",
       "      <td>75.939762</td>\n",
       "      <td>-20.985724</td>\n",
       "      <td>-1.165393</td>\n",
       "      <td>-0.005717</td>\n",
       "    </tr>\n",
       "    <tr>\n",
       "      <th>17892</th>\n",
       "      <td>0.193702</td>\n",
       "      <td>2.404968</td>\n",
       "      <td>1.115587</td>\n",
       "      <td>175.885504</td>\n",
       "      <td>-0.168452</td>\n",
       "      <td>52.827950</td>\n",
       "      <td>-0.009339</td>\n",
       "      <td>-0.000993</td>\n",
       "      <td>0.119788</td>\n",
       "      <td>0.011557</td>\n",
       "      <td>...</td>\n",
       "      <td>0.109628</td>\n",
       "      <td>57.240815</td>\n",
       "      <td>0.013567</td>\n",
       "      <td>7.710823</td>\n",
       "      <td>-2.986095</td>\n",
       "      <td>2.449692</td>\n",
       "      <td>71.452701</td>\n",
       "      <td>-20.228964</td>\n",
       "      <td>-0.664906</td>\n",
       "      <td>-0.005731</td>\n",
       "    </tr>\n",
       "    <tr>\n",
       "      <th>17893</th>\n",
       "      <td>0.075007</td>\n",
       "      <td>-13.796615</td>\n",
       "      <td>-16.995079</td>\n",
       "      <td>177.938849</td>\n",
       "      <td>-0.240000</td>\n",
       "      <td>57.281533</td>\n",
       "      <td>-0.009339</td>\n",
       "      <td>-0.000993</td>\n",
       "      <td>0.119788</td>\n",
       "      <td>0.011557</td>\n",
       "      <td>...</td>\n",
       "      <td>-0.264514</td>\n",
       "      <td>55.707185</td>\n",
       "      <td>0.013857</td>\n",
       "      <td>28.817513</td>\n",
       "      <td>-2.986095</td>\n",
       "      <td>2.452444</td>\n",
       "      <td>80.604312</td>\n",
       "      <td>-19.472189</td>\n",
       "      <td>-1.226490</td>\n",
       "      <td>-0.005746</td>\n",
       "    </tr>\n",
       "  </tbody>\n",
       "</table>\n",
       "<p>5 rows × 50 columns</p>\n",
       "</div>"
      ],
      "text/plain": [
       "             x1         x2         x3          x4        x5         x6  \\\n",
       "17889  0.051116   2.476604   1.527155  161.052222  0.046178  41.906197   \n",
       "17890  0.122141   2.360784   1.540863  170.833289 -0.025370  48.537056   \n",
       "17891  0.068225   2.513360   1.259075  173.774878 -0.096919  51.046517   \n",
       "17892  0.193702   2.404968   1.115587  175.885504 -0.168452  52.827950   \n",
       "17893  0.075007 -13.796615 -16.995079  177.938849 -0.240000  57.281533   \n",
       "\n",
       "             x7        x8        x9       x10  ...       x46        x47  \\\n",
       "17889 -0.009339 -0.000993  0.110023  0.021628  ...  0.251298  67.346772   \n",
       "17890 -0.009339 -0.000993  0.110023  0.011557  ...  0.065130  54.753144   \n",
       "17891 -0.009339 -0.000993  0.110023  0.011557  ...  0.023382  58.629975   \n",
       "17892 -0.009339 -0.000993  0.119788  0.011557  ...  0.109628  57.240815   \n",
       "17893 -0.009339 -0.000993  0.119788  0.011557  ... -0.264514  55.707185   \n",
       "\n",
       "            x48        x49       x50       x54        x55        x56  \\\n",
       "17889  0.012697   9.200203 -2.986095  1.897396  84.523014 -30.168570   \n",
       "17890  0.012987   9.072731 -2.986095  2.444188  82.112857 -28.508627   \n",
       "17891  0.013277   8.391762 -2.986095  2.446941  75.939762 -20.985724   \n",
       "17892  0.013567   7.710823 -2.986095  2.449692  71.452701 -20.228964   \n",
       "17893  0.013857  28.817513 -2.986095  2.452444  80.604312 -19.472189   \n",
       "\n",
       "            x57       x60  \n",
       "17889 -1.348561 -0.005688  \n",
       "17890 -0.982289 -0.005702  \n",
       "17891 -1.165393 -0.005717  \n",
       "17892 -0.664906 -0.005731  \n",
       "17893 -1.226490 -0.005746  \n",
       "\n",
       "[5 rows x 50 columns]"
      ]
     },
     "execution_count": 38,
     "metadata": {},
     "output_type": "execute_result"
    }
   ],
   "source": [
    "# Feature Selection\n",
    "# List of considered Features\n",
    "# Descartando o Grupo A (variáveis que caem abrubtamente)\n",
    "FEATURES = [\n",
    "    'x1','x2','x3','x4','x5','x6','x7','x8','x9','x10','x11','x13','x14','x15','x17','x18','x19','x20',\n",
    "    'x21','x22','x24','x26','x27','x28','x29','x30','x32','x33','x34','x35','x36','x37','x38','x39','x40',\n",
    "    'x41','x42','x43','x44','x45','x46','x47','x48','x49','x50','x54','x55','x56','x57','x60',\n",
    "    ]\n",
    "\n",
    "# Create the dataset with features and filter the data to the list of FEATURES\n",
    "pwbds_filtered = pwbds[FEATURES]\n",
    "\n",
    "# Print the tail of the dataframe\n",
    "pwbds_filtered.tail()"
   ]
  },
  {
   "cell_type": "code",
   "execution_count": 39,
   "id": "65250f0f",
   "metadata": {},
   "outputs": [
    {
     "name": "stdout",
     "output_type": "stream",
     "text": [
      "(17894, 50)\n"
     ]
    }
   ],
   "source": [
    "# This Scaler removes the median and scales the data according to the quantile range to normalize the price data \n",
    "from sklearn.preprocessing import RobustScaler, MinMaxScaler \n",
    "\n",
    "# Get the number of rows in the data\n",
    "nrows = pwbds_filtered.shape[0]\n",
    "\n",
    "# Convert the data to numpy values\n",
    "np_data_unscaled = np.array(pwbds_filtered)\n",
    "np_data = np.reshape(np_data_unscaled, (nrows, -1))\n",
    "print(np_data.shape)\n",
    "\n",
    "# Transform the data by scaling each feature to a range between 0 and 1\n",
    "scaler = MinMaxScaler()\n",
    "np_data_scaled = scaler.fit_transform(np_data_unscaled)\n",
    "pwbds_scaled = pd.DataFrame(\n",
    "    np_data_scaled,\n",
    "    columns=FEATURES\n",
    ")\n",
    "pwbds_scaled['NEXT_H'] = pwbds['NEXT_H']"
   ]
  },
  {
   "cell_type": "markdown",
   "id": "fd709b30",
   "metadata": {},
   "source": [
    "# Shaping & Splitting"
   ]
  },
  {
   "cell_type": "code",
   "execution_count": 40,
   "id": "8936176d",
   "metadata": {},
   "outputs": [],
   "source": [
    "def lstm_data_transform(x_data, y_data, num_steps=5):\n",
    "    \"\"\" Changes data to the format for LSTM training for sliding window approach \"\"\"\n",
    "    # Prepare the list for the transformed data\n",
    "    X, y = list(), list()\n",
    "    # Loop of the entire data set\n",
    "    for i in range(x_data.shape[0]):\n",
    "        # compute a new (sliding window) index\n",
    "        end_ix = i + num_steps\n",
    "        \n",
    "        # if index is larger than the size of the dataset, we stop\n",
    "        if end_ix >= x_data.shape[0]:\n",
    "            break\n",
    "        \n",
    "        # Get a sequence of data for x\n",
    "        seq_X = x_data[i:end_ix]\n",
    "        \n",
    "        # Get only the last element of the sequency for y\n",
    "        seq_y = y_data[end_ix-1]\n",
    "        \n",
    "        # Append the list with sequencies\n",
    "        X.append(seq_X)\n",
    "        y.append(seq_y)\n",
    "    \n",
    "    # Make final arrays\n",
    "    x_array = np.array(X)\n",
    "    y_array = np.array(y)\n",
    "    return x_array, y_array"
   ]
  },
  {
   "cell_type": "markdown",
   "id": "1ffe7672",
   "metadata": {},
   "source": [
    "# Modeling 2: Binary Classification - Break in the next hour"
   ]
  },
  {
   "cell_type": "markdown",
   "id": "d42d2271",
   "metadata": {},
   "source": [
    "## Dataset for model 2"
   ]
  },
  {
   "cell_type": "code",
   "execution_count": 41,
   "id": "907f9405",
   "metadata": {},
   "outputs": [],
   "source": [
    "pwbds_scaled_copy = pwbds_scaled"
   ]
  },
  {
   "cell_type": "code",
   "execution_count": 12,
   "id": "6481d239",
   "metadata": {},
   "outputs": [],
   "source": [
    "pwbds_m2 = pwbds_scaled\n",
    "yds_m2 = pwbds.pop('NEXT_H')"
   ]
  },
  {
   "cell_type": "code",
   "execution_count": 13,
   "id": "87961fff",
   "metadata": {},
   "outputs": [
    {
     "name": "stdout",
     "output_type": "stream",
     "text": [
      "The new shape of x is (17843, 51, 51)\n"
     ]
    }
   ],
   "source": [
    "num_steps = pwbds_m2.shape[1]\n",
    "x_new, y_new = lstm_data_transform(pwbds_m2, yds_m2, num_steps=num_steps)\n",
    "print (\"The new shape of x is\", x_new.shape)"
   ]
  },
  {
   "cell_type": "code",
   "execution_count": 14,
   "id": "8fa63af9",
   "metadata": {},
   "outputs": [
    {
     "data": {
      "text/plain": [
       "51"
      ]
     },
     "execution_count": 14,
     "metadata": {},
     "output_type": "execute_result"
    }
   ],
   "source": [
    "num_steps"
   ]
  },
  {
   "cell_type": "code",
   "execution_count": 16,
   "id": "95639f7e",
   "metadata": {},
   "outputs": [],
   "source": [
    "train_ind = int(0.8 * pwbds.shape[0])\n",
    "x_train = x_new[:train_ind]\n",
    "y_train = y_new[:train_ind]\n",
    "x_test = x_new[train_ind:]\n",
    "y_test = y_new[train_ind:]"
   ]
  },
  {
   "cell_type": "markdown",
   "id": "a3c5f876",
   "metadata": {},
   "source": [
    "# Model 2"
   ]
  },
  {
   "cell_type": "code",
   "execution_count": 17,
   "id": "5cb97343",
   "metadata": {},
   "outputs": [
    {
     "name": "stderr",
     "output_type": "stream",
     "text": [
      "C:\\Users\\hcord\\anaconda3\\envs\\paper3\\lib\\site-packages\\tensorflow\\python\\framework\\dtypes.py:516: FutureWarning: Passing (type, 1) or '1type' as a synonym of type is deprecated; in a future version of numpy, it will be understood as (type, (1,)) / '(1,)type'.\n",
      "  _np_qint8 = np.dtype([(\"qint8\", np.int8, 1)])\n",
      "C:\\Users\\hcord\\anaconda3\\envs\\paper3\\lib\\site-packages\\tensorflow\\python\\framework\\dtypes.py:517: FutureWarning: Passing (type, 1) or '1type' as a synonym of type is deprecated; in a future version of numpy, it will be understood as (type, (1,)) / '(1,)type'.\n",
      "  _np_quint8 = np.dtype([(\"quint8\", np.uint8, 1)])\n",
      "C:\\Users\\hcord\\anaconda3\\envs\\paper3\\lib\\site-packages\\tensorflow\\python\\framework\\dtypes.py:518: FutureWarning: Passing (type, 1) or '1type' as a synonym of type is deprecated; in a future version of numpy, it will be understood as (type, (1,)) / '(1,)type'.\n",
      "  _np_qint16 = np.dtype([(\"qint16\", np.int16, 1)])\n",
      "C:\\Users\\hcord\\anaconda3\\envs\\paper3\\lib\\site-packages\\tensorflow\\python\\framework\\dtypes.py:519: FutureWarning: Passing (type, 1) or '1type' as a synonym of type is deprecated; in a future version of numpy, it will be understood as (type, (1,)) / '(1,)type'.\n",
      "  _np_quint16 = np.dtype([(\"quint16\", np.uint16, 1)])\n",
      "C:\\Users\\hcord\\anaconda3\\envs\\paper3\\lib\\site-packages\\tensorflow\\python\\framework\\dtypes.py:520: FutureWarning: Passing (type, 1) or '1type' as a synonym of type is deprecated; in a future version of numpy, it will be understood as (type, (1,)) / '(1,)type'.\n",
      "  _np_qint32 = np.dtype([(\"qint32\", np.int32, 1)])\n",
      "C:\\Users\\hcord\\anaconda3\\envs\\paper3\\lib\\site-packages\\tensorflow\\python\\framework\\dtypes.py:525: FutureWarning: Passing (type, 1) or '1type' as a synonym of type is deprecated; in a future version of numpy, it will be understood as (type, (1,)) / '(1,)type'.\n",
      "  np_resource = np.dtype([(\"resource\", np.ubyte, 1)])\n",
      "C:\\Users\\hcord\\anaconda3\\envs\\paper3\\lib\\site-packages\\tensorboard\\compat\\tensorflow_stub\\dtypes.py:541: FutureWarning: Passing (type, 1) or '1type' as a synonym of type is deprecated; in a future version of numpy, it will be understood as (type, (1,)) / '(1,)type'.\n",
      "  _np_qint8 = np.dtype([(\"qint8\", np.int8, 1)])\n",
      "C:\\Users\\hcord\\anaconda3\\envs\\paper3\\lib\\site-packages\\tensorboard\\compat\\tensorflow_stub\\dtypes.py:542: FutureWarning: Passing (type, 1) or '1type' as a synonym of type is deprecated; in a future version of numpy, it will be understood as (type, (1,)) / '(1,)type'.\n",
      "  _np_quint8 = np.dtype([(\"quint8\", np.uint8, 1)])\n",
      "C:\\Users\\hcord\\anaconda3\\envs\\paper3\\lib\\site-packages\\tensorboard\\compat\\tensorflow_stub\\dtypes.py:543: FutureWarning: Passing (type, 1) or '1type' as a synonym of type is deprecated; in a future version of numpy, it will be understood as (type, (1,)) / '(1,)type'.\n",
      "  _np_qint16 = np.dtype([(\"qint16\", np.int16, 1)])\n",
      "C:\\Users\\hcord\\anaconda3\\envs\\paper3\\lib\\site-packages\\tensorboard\\compat\\tensorflow_stub\\dtypes.py:544: FutureWarning: Passing (type, 1) or '1type' as a synonym of type is deprecated; in a future version of numpy, it will be understood as (type, (1,)) / '(1,)type'.\n",
      "  _np_quint16 = np.dtype([(\"quint16\", np.uint16, 1)])\n",
      "C:\\Users\\hcord\\anaconda3\\envs\\paper3\\lib\\site-packages\\tensorboard\\compat\\tensorflow_stub\\dtypes.py:545: FutureWarning: Passing (type, 1) or '1type' as a synonym of type is deprecated; in a future version of numpy, it will be understood as (type, (1,)) / '(1,)type'.\n",
      "  _np_qint32 = np.dtype([(\"qint32\", np.int32, 1)])\n",
      "C:\\Users\\hcord\\anaconda3\\envs\\paper3\\lib\\site-packages\\tensorboard\\compat\\tensorflow_stub\\dtypes.py:550: FutureWarning: Passing (type, 1) or '1type' as a synonym of type is deprecated; in a future version of numpy, it will be understood as (type, (1,)) / '(1,)type'.\n",
      "  np_resource = np.dtype([(\"resource\", np.ubyte, 1)])\n",
      "Using TensorFlow backend.\n"
     ]
    }
   ],
   "source": [
    "import tensorflow as tf\n",
    "from keras.models import Sequential\n",
    "from keras.layers import Dense, Dropout, LSTM, Activation"
   ]
  },
  {
   "cell_type": "code",
   "execution_count": 18,
   "id": "28fc07bc",
   "metadata": {},
   "outputs": [
    {
     "name": "stdout",
     "output_type": "stream",
     "text": [
      "WARNING:tensorflow:From C:\\Users\\hcord\\anaconda3\\envs\\paper3\\lib\\site-packages\\tensorflow\\python\\ops\\nn_impl.py:180: add_dispatch_support.<locals>.wrapper (from tensorflow.python.ops.array_ops) is deprecated and will be removed in a future version.\n",
      "Instructions for updating:\n",
      "Use tf.where in 2.0, which has the same broadcast rule as np.where\n",
      "Model: \"sequential_1\"\n",
      "_________________________________________________________________\n",
      "Layer (type)                 Output Shape              Param #   \n",
      "=================================================================\n",
      "lstm_1 (LSTM)                (None, 51, 100)           60800     \n",
      "_________________________________________________________________\n",
      "dropout_1 (Dropout)          (None, 51, 100)           0         \n",
      "_________________________________________________________________\n",
      "lstm_2 (LSTM)                (None, 50)                30200     \n",
      "_________________________________________________________________\n",
      "dropout_2 (Dropout)          (None, 50)                0         \n",
      "_________________________________________________________________\n",
      "dense_1 (Dense)              (None, 1)                 51        \n",
      "=================================================================\n",
      "Total params: 91,051\n",
      "Trainable params: 91,051\n",
      "Non-trainable params: 0\n",
      "_________________________________________________________________\n",
      "None\n"
     ]
    }
   ],
   "source": [
    "# LSTM model\n",
    "model = Sequential()\n",
    "\n",
    "# The first layer\n",
    "model.add(LSTM(\n",
    "         input_shape=(num_steps, x_train.shape[2]),\n",
    "         units=100,\n",
    "         return_sequences=True))\n",
    "\n",
    "# Plus a 20% dropout rate\n",
    "model.add(Dropout(0.2))\n",
    "\n",
    "# The second layer\n",
    "model.add(LSTM(\n",
    "          units=50,\n",
    "          return_sequences=False))\n",
    "\n",
    "# Plus a 20% dropout rate\n",
    "model.add(Dropout(0.2))\n",
    "\n",
    "# Dense sigmoid layer\n",
    "model.add(Dense(units=1, activation='sigmoid'))\n",
    "\n",
    "# With adam optimizer and a binary crossentropy loss. We will opimize for model accuracy.\n",
    "model.compile(loss='binary_crossentropy', optimizer='adam', metrics=['accuracy'])\n",
    "\n",
    "# Verify the architecture \n",
    "print(model.summary())"
   ]
  },
  {
   "cell_type": "code",
   "execution_count": 19,
   "id": "cdb673ef",
   "metadata": {},
   "outputs": [],
   "source": [
    "# EarlyStopping Callback\n",
    "callback = tf.keras.callbacks.EarlyStopping(monitor='loss', patience=3)"
   ]
  },
  {
   "cell_type": "code",
   "execution_count": 20,
   "id": "5d33c57f",
   "metadata": {},
   "outputs": [
    {
     "data": {
      "text/plain": [
       "(array([0, 1]), array([12132,  2183], dtype=int64))"
      ]
     },
     "execution_count": 20,
     "metadata": {},
     "output_type": "execute_result"
    }
   ],
   "source": [
    "np.unique(y_train,return_counts=True)"
   ]
  },
  {
   "cell_type": "code",
   "execution_count": 21,
   "id": "90c5e130",
   "metadata": {},
   "outputs": [
    {
     "data": {
      "text/plain": [
       "(14315, 51, 51)"
      ]
     },
     "execution_count": 21,
     "metadata": {},
     "output_type": "execute_result"
    }
   ],
   "source": [
    "x_train.shape"
   ]
  },
  {
   "cell_type": "code",
   "execution_count": 22,
   "id": "04d389b3",
   "metadata": {},
   "outputs": [
    {
     "name": "stdout",
     "output_type": "stream",
     "text": [
      "WARNING:tensorflow:From C:\\Users\\hcord\\anaconda3\\envs\\paper3\\lib\\site-packages\\keras\\backend\\tensorflow_backend.py:422: The name tf.global_variables is deprecated. Please use tf.compat.v1.global_variables instead.\n",
      "\n",
      "Epoch 1/10\n",
      "14315/14315 [==============================] - 24s 2ms/step - loss: 0.0970 - accuracy: 0.9680\n",
      "Epoch 2/10\n",
      "14315/14315 [==============================] - 27s 2ms/step - loss: 0.0067 - accuracy: 0.9987\n",
      "Epoch 3/10\n",
      "14315/14315 [==============================] - 28s 2ms/step - loss: 0.0013 - accuracy: 0.9999\n",
      "Epoch 4/10\n",
      "14315/14315 [==============================] - 27s 2ms/step - loss: 6.0590e-04 - accuracy: 0.9999\n",
      "Epoch 5/10\n",
      "14315/14315 [==============================] - 27s 2ms/step - loss: 2.1340e-04 - accuracy: 1.0000\n",
      "Epoch 6/10\n",
      "14315/14315 [==============================] - 28s 2ms/step - loss: 1.0713e-04 - accuracy: 1.0000\n",
      "Epoch 7/10\n",
      "14315/14315 [==============================] - 28s 2ms/step - loss: 9.1020e-05 - accuracy: 1.0000\n",
      "Epoch 8/10\n",
      "14315/14315 [==============================] - 28s 2ms/step - loss: 6.1336e-05 - accuracy: 1.0000\n",
      "Epoch 9/10\n",
      "14315/14315 [==============================] - 28s 2ms/step - loss: 5.1569e-05 - accuracy: 1.0000\n",
      "Epoch 10/10\n",
      "14315/14315 [==============================] - 28s 2ms/step - loss: 3.1410e-05 - accuracy: 1.0000\n"
     ]
    }
   ],
   "source": [
    "history = model.fit(\n",
    "    x_train, \n",
    "    y_train, \n",
    "    epochs=10,\n",
    "#    batch_size=200,\n",
    "#    validation_split=0.10,\n",
    "    callbacks = [callback])"
   ]
  },
  {
   "cell_type": "code",
   "execution_count": 23,
   "id": "96e32bdc",
   "metadata": {},
   "outputs": [
    {
     "data": {
      "text/plain": [
       "Text(0.5, 0, 'epochs')"
      ]
     },
     "execution_count": 23,
     "metadata": {},
     "output_type": "execute_result"
    },
    {
     "data": {
      "image/png": "[encoded data removed]",
      "text/plain": [
       "<Figure size 432x288 with 1 Axes>"
      ]
     },
     "metadata": {
      "needs_background": "light"
     },
     "output_type": "display_data"
    }
   ],
   "source": [
    "# Plot History\n",
    "pd.DataFrame(history.history).plot()\n",
    "plt.ylabel('loss')\n",
    "plt.xlabel('epochs')"
   ]
  },
  {
   "cell_type": "code",
   "execution_count": 24,
   "id": "d8e521b1",
   "metadata": {},
   "outputs": [
    {
     "name": "stdout",
     "output_type": "stream",
     "text": [
      "3528/3528 [==============================] - 2s 494us/step\n",
      "Training Accurracy: 1.0\n"
     ]
    }
   ],
   "source": [
    "#scores_2 = model.evaluate(x_test, y_test, verbose=1, batch_size=200)\n",
    "scores_2 = model.evaluate(x_test, y_test, verbose=1)\n",
    "print('Training Accurracy: {}'.format(scores_2[1]))"
   ]
  },
  {
   "cell_type": "code",
   "execution_count": 25,
   "id": "e5bbdab9",
   "metadata": {},
   "outputs": [
    {
     "name": "stdout",
     "output_type": "stream",
     "text": [
      "3528/3528 [==============================] - 2s 480us/step\n",
      "Training Confusion matrix\n",
      "- x-axis is true labels.\n",
      "- y-axis is predicted labels\n"
     ]
    },
    {
     "data": {
      "text/plain": [
       "array([[2695,    0],\n",
       "       [   0,  833]], dtype=int64)"
      ]
     },
     "execution_count": 25,
     "metadata": {},
     "output_type": "execute_result"
    }
   ],
   "source": [
    "# make predictions and compute confusion matrix\n",
    "#y_pred = model.predict_classes(x_test,verbose=1, batch_size=200)\n",
    "y_pred = model.predict_classes(x_test,verbose=1)\n",
    "y_true = y_test\n",
    "print('Training Confusion matrix\\n- x-axis is true labels.\\n- y-axis is predicted labels')\n",
    "cm = confusion_matrix(y_true, y_pred)\n",
    "cm"
   ]
  },
  {
   "cell_type": "code",
   "execution_count": 26,
   "id": "ca0cac40",
   "metadata": {},
   "outputs": [
    {
     "name": "stdout",
     "output_type": "stream",
     "text": [
      "Test Precision:  1.0 \n",
      " Test Recall:  1.0 \n",
      " Test F1 Score: 1.0\n"
     ]
    }
   ],
   "source": [
    "# compute precision and recall\n",
    "precision_test = precision_score(y_true, y_pred)\n",
    "recall_test = recall_score(y_true, y_pred)\n",
    "f1_test = 2 * (precision_test * recall_test) / (precision_test + recall_test)\n",
    "print( 'Test Precision: ', precision_test, '\\n', 'Test Recall: ', recall_test, '\\n', 'Test F1 Score:', f1_test)"
   ]
  },
  {
   "cell_type": "code",
   "execution_count": 27,
   "id": "bcc2cbd3",
   "metadata": {},
   "outputs": [],
   "source": [
    "cm = confusion_matrix(y_true, y_pred)"
   ]
  },
  {
   "cell_type": "code",
   "execution_count": 28,
   "id": "a0f19946",
   "metadata": {},
   "outputs": [
    {
     "name": "stdout",
     "output_type": "stream",
     "text": [
      "        pred:0  pred:1\n",
      "true:0    2695       0\n",
      "true:1       0     833\n"
     ]
    }
   ],
   "source": [
    "cmtx = pd.DataFrame(\n",
    "    confusion_matrix(y_true, y_pred),\n",
    "    index=['true:0', 'true:1'], \n",
    "    columns=['pred:0', 'pred:1']\n",
    ")\n",
    "print(cmtx)"
   ]
  },
  {
   "cell_type": "code",
   "execution_count": null,
   "id": "0472b959",
   "metadata": {},
   "outputs": [],
   "source": [
    "np.unique(y_test,return_counts=True)"
   ]
  },
  {
   "cell_type": "markdown",
   "id": "5e4cbb13",
   "metadata": {},
   "source": [
    "# Random Forest"
   ]
  },
  {
   "cell_type": "code",
   "execution_count": 42,
   "id": "f63bcaf7",
   "metadata": {},
   "outputs": [
    {
     "data": {
      "text/html": [
       "<div>\n",
       "<style scoped>\n",
       "    .dataframe tbody tr th:only-of-type {\n",
       "        vertical-align: middle;\n",
       "    }\n",
       "\n",
       "    .dataframe tbody tr th {\n",
       "        vertical-align: top;\n",
       "    }\n",
       "\n",
       "    .dataframe thead th {\n",
       "        text-align: right;\n",
       "    }\n",
       "</style>\n",
       "<table border=\"1\" class=\"dataframe\">\n",
       "  <thead>\n",
       "    <tr style=\"text-align: right;\">\n",
       "      <th></th>\n",
       "      <th>x1</th>\n",
       "      <th>x2</th>\n",
       "      <th>x3</th>\n",
       "      <th>x4</th>\n",
       "      <th>x5</th>\n",
       "      <th>x6</th>\n",
       "      <th>x7</th>\n",
       "      <th>x8</th>\n",
       "      <th>x9</th>\n",
       "      <th>x10</th>\n",
       "      <th>...</th>\n",
       "      <th>x47</th>\n",
       "      <th>x48</th>\n",
       "      <th>x49</th>\n",
       "      <th>x50</th>\n",
       "      <th>x54</th>\n",
       "      <th>x55</th>\n",
       "      <th>x56</th>\n",
       "      <th>x57</th>\n",
       "      <th>x60</th>\n",
       "      <th>NEXT_H</th>\n",
       "    </tr>\n",
       "  </thead>\n",
       "  <tbody>\n",
       "    <tr>\n",
       "      <th>0</th>\n",
       "      <td>0.608636</td>\n",
       "      <td>0.373556</td>\n",
       "      <td>0.413587</td>\n",
       "      <td>0.511470</td>\n",
       "      <td>0.256705</td>\n",
       "      <td>0.689107</td>\n",
       "      <td>0.201421</td>\n",
       "      <td>0.314546</td>\n",
       "      <td>0.018072</td>\n",
       "      <td>0.019907</td>\n",
       "      <td>...</td>\n",
       "      <td>0.207222</td>\n",
       "      <td>0.587033</td>\n",
       "      <td>0.468376</td>\n",
       "      <td>0.841714</td>\n",
       "      <td>0.222937</td>\n",
       "      <td>0.397786</td>\n",
       "      <td>0.551731</td>\n",
       "      <td>0.823712</td>\n",
       "      <td>0.474630</td>\n",
       "      <td>0</td>\n",
       "    </tr>\n",
       "    <tr>\n",
       "      <th>1</th>\n",
       "      <td>0.623115</td>\n",
       "      <td>0.375140</td>\n",
       "      <td>0.415857</td>\n",
       "      <td>0.515627</td>\n",
       "      <td>0.255016</td>\n",
       "      <td>0.694199</td>\n",
       "      <td>0.201421</td>\n",
       "      <td>0.314546</td>\n",
       "      <td>0.018072</td>\n",
       "      <td>0.019907</td>\n",
       "      <td>...</td>\n",
       "      <td>0.206991</td>\n",
       "      <td>0.587064</td>\n",
       "      <td>0.470738</td>\n",
       "      <td>0.841608</td>\n",
       "      <td>0.222886</td>\n",
       "      <td>0.382678</td>\n",
       "      <td>0.559875</td>\n",
       "      <td>0.783305</td>\n",
       "      <td>0.474885</td>\n",
       "      <td>0</td>\n",
       "    </tr>\n",
       "    <tr>\n",
       "      <th>2</th>\n",
       "      <td>0.606763</td>\n",
       "      <td>0.371061</td>\n",
       "      <td>0.406039</td>\n",
       "      <td>0.512429</td>\n",
       "      <td>0.253327</td>\n",
       "      <td>0.696653</td>\n",
       "      <td>0.206138</td>\n",
       "      <td>0.314546</td>\n",
       "      <td>0.027062</td>\n",
       "      <td>0.026475</td>\n",
       "      <td>...</td>\n",
       "      <td>0.206237</td>\n",
       "      <td>0.587094</td>\n",
       "      <td>0.476883</td>\n",
       "      <td>0.841501</td>\n",
       "      <td>0.222835</td>\n",
       "      <td>0.379259</td>\n",
       "      <td>0.568019</td>\n",
       "      <td>0.826988</td>\n",
       "      <td>0.475140</td>\n",
       "      <td>0</td>\n",
       "    </tr>\n",
       "    <tr>\n",
       "      <th>3</th>\n",
       "      <td>0.597663</td>\n",
       "      <td>0.368784</td>\n",
       "      <td>0.415703</td>\n",
       "      <td>0.510959</td>\n",
       "      <td>0.251706</td>\n",
       "      <td>0.694840</td>\n",
       "      <td>0.202050</td>\n",
       "      <td>0.314546</td>\n",
       "      <td>0.030090</td>\n",
       "      <td>0.029810</td>\n",
       "      <td>...</td>\n",
       "      <td>0.204728</td>\n",
       "      <td>0.587125</td>\n",
       "      <td>0.476006</td>\n",
       "      <td>0.841395</td>\n",
       "      <td>0.222784</td>\n",
       "      <td>0.375840</td>\n",
       "      <td>0.557788</td>\n",
       "      <td>0.849920</td>\n",
       "      <td>0.475395</td>\n",
       "      <td>0</td>\n",
       "    </tr>\n",
       "    <tr>\n",
       "      <th>4</th>\n",
       "      <td>0.592399</td>\n",
       "      <td>0.369048</td>\n",
       "      <td>0.406625</td>\n",
       "      <td>0.514162</td>\n",
       "      <td>0.250483</td>\n",
       "      <td>0.697534</td>\n",
       "      <td>0.201421</td>\n",
       "      <td>0.314546</td>\n",
       "      <td>0.027062</td>\n",
       "      <td>0.029810</td>\n",
       "      <td>...</td>\n",
       "      <td>0.203219</td>\n",
       "      <td>0.587155</td>\n",
       "      <td>0.475128</td>\n",
       "      <td>0.841288</td>\n",
       "      <td>0.222734</td>\n",
       "      <td>0.372421</td>\n",
       "      <td>0.558239</td>\n",
       "      <td>0.830264</td>\n",
       "      <td>0.475686</td>\n",
       "      <td>0</td>\n",
       "    </tr>\n",
       "  </tbody>\n",
       "</table>\n",
       "<p>5 rows × 51 columns</p>\n",
       "</div>"
      ],
      "text/plain": [
       "         x1        x2        x3        x4        x5        x6        x7  \\\n",
       "0  0.608636  0.373556  0.413587  0.511470  0.256705  0.689107  0.201421   \n",
       "1  0.623115  0.375140  0.415857  0.515627  0.255016  0.694199  0.201421   \n",
       "2  0.606763  0.371061  0.406039  0.512429  0.253327  0.696653  0.206138   \n",
       "3  0.597663  0.368784  0.415703  0.510959  0.251706  0.694840  0.202050   \n",
       "4  0.592399  0.369048  0.406625  0.514162  0.250483  0.697534  0.201421   \n",
       "\n",
       "         x8        x9       x10  ...       x47       x48       x49       x50  \\\n",
       "0  0.314546  0.018072  0.019907  ...  0.207222  0.587033  0.468376  0.841714   \n",
       "1  0.314546  0.018072  0.019907  ...  0.206991  0.587064  0.470738  0.841608   \n",
       "2  0.314546  0.027062  0.026475  ...  0.206237  0.587094  0.476883  0.841501   \n",
       "3  0.314546  0.030090  0.029810  ...  0.204728  0.587125  0.476006  0.841395   \n",
       "4  0.314546  0.027062  0.029810  ...  0.203219  0.587155  0.475128  0.841288   \n",
       "\n",
       "        x54       x55       x56       x57       x60  NEXT_H  \n",
       "0  0.222937  0.397786  0.551731  0.823712  0.474630       0  \n",
       "1  0.222886  0.382678  0.559875  0.783305  0.474885       0  \n",
       "2  0.222835  0.379259  0.568019  0.826988  0.475140       0  \n",
       "3  0.222784  0.375840  0.557788  0.849920  0.475395       0  \n",
       "4  0.222734  0.372421  0.558239  0.830264  0.475686       0  \n",
       "\n",
       "[5 rows x 51 columns]"
      ]
     },
     "execution_count": 42,
     "metadata": {},
     "output_type": "execute_result"
    }
   ],
   "source": [
    "pwbds_scaled_copy.head()"
   ]
  },
  {
   "cell_type": "code",
   "execution_count": 43,
   "id": "b9210bc5",
   "metadata": {},
   "outputs": [],
   "source": [
    "train_ind = int(0.8 * pwbds_scaled_copy.shape[0])\n",
    "x_train = pwbds_scaled_copy[:train_ind]\n",
    "y_train = pwbds_scaled_copy.NEXT_H[:train_ind]\n",
    "x_test = pwbds_scaled_copy[train_ind:]\n",
    "y_test = pwbds_scaled_copy.NEXT_H[train_ind:]"
   ]
  },
  {
   "cell_type": "code",
   "execution_count": 44,
   "id": "6ac231ee",
   "metadata": {},
   "outputs": [],
   "source": [
    "from sklearn.ensemble import RandomForestClassifier as rfc\n",
    "clf_rf = rfc(random_state=0).fit(x_train, y_train)"
   ]
  },
  {
   "cell_type": "code",
   "execution_count": 45,
   "id": "1ad30894",
   "metadata": {},
   "outputs": [
    {
     "data": {
      "text/plain": [
       "1.0"
      ]
     },
     "execution_count": 45,
     "metadata": {},
     "output_type": "execute_result"
    }
   ],
   "source": [
    "clf_rf.score(x_test, y_test)"
   ]
  },
  {
   "cell_type": "code",
   "execution_count": 46,
   "id": "99c131f6",
   "metadata": {},
   "outputs": [],
   "source": [
    "y_pred = clf_rf.predict(x_test)"
   ]
  },
  {
   "cell_type": "code",
   "execution_count": 47,
   "id": "6f9072e1",
   "metadata": {},
   "outputs": [
    {
     "name": "stdout",
     "output_type": "stream",
     "text": [
      "Training Confusion matrix\n",
      "- x-axis is true labels.\n",
      "- y-axis is predicted labels\n"
     ]
    },
    {
     "data": {
      "text/plain": [
       "array([[2745,    0],\n",
       "       [   0,  834]], dtype=int64)"
      ]
     },
     "execution_count": 47,
     "metadata": {},
     "output_type": "execute_result"
    }
   ],
   "source": [
    "print('Training Confusion matrix\\n- x-axis is true labels.\\n- y-axis is predicted labels')\n",
    "cm = confusion_matrix(y_test, y_pred)\n",
    "cm"
   ]
  },
  {
   "cell_type": "code",
   "execution_count": null,
   "id": "cad7a326",
   "metadata": {},
   "outputs": [],
   "source": []
  }
 ],
 "metadata": {
  "kernelspec": {
   "display_name": "paper3",
   "language": "python",
   "name": "paper3"
  },
  "language_info": {
   "codemirror_mode": {
    "name": "ipython",
    "version": 3
   },
   "file_extension": ".py",
   "mimetype": "text/x-python",
   "name": "python",
   "nbconvert_exporter": "python",
   "pygments_lexer": "ipython3",
   "version": "3.6.9"
  }
 },
 "nbformat": 4,
 "nbformat_minor": 5
}

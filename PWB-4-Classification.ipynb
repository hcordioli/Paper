{
 "cells": [
  {
   "cell_type": "markdown",
   "id": "35cdb27f",
   "metadata": {},
   "source": [
    "# Versionamento"
   ]
  },
  {
   "cell_type": "markdown",
   "id": "a64b68d1",
   "metadata": {},
   "source": [
    "V2: \n",
    "<ul>\n",
    "    <li>Inclusão da variável categórica x28 que está relacionada com o tipo de papel em produção</li>\n",
    "    <li>Feature Selection</li>\n",
    "    <li>Feature Scalling</li>\n",
    "</ul>"
   ]
  },
  {
   "cell_type": "markdown",
   "id": "ab4d4236",
   "metadata": {},
   "source": [
    "V3:\n",
    "<ul>\n",
    "    <li>Ajuste de parâmetros dos modelos</li>\n",
    "    <li> V2: correção da função lstm_data_transform para pegar o target correto</li>\n",
    "</ul>"
   ]
  },
  {
   "cell_type": "markdown",
   "id": "b906e725",
   "metadata": {},
   "source": [
    "V4:\n",
    "<ul>\n",
    "    <li>Redução de feature usando resultado do PCA (notebook DimRedPCAOnTS) </li>\n",
    "</ul>"
   ]
  },
  {
   "cell_type": "markdown",
   "id": "8af147a2",
   "metadata": {},
   "source": [
    "# O problema"
   ]
  },
  {
   "cell_type": "markdown",
   "id": "a5640d24",
   "metadata": {},
   "source": [
    "Paper manufacturing can be viewed as a continuous rolling process. During this process, sometimes the paper breaks. If a break happens, the entire process is stopped, the reel is taken out, any found problem is fixed, and the production is resumed. The resumption can take more than an hour.\n",
    "\n",
    "The cost of this lost production time is significant for a mill. Even a 5% reduction in the break events will give a significant cost saving for a mill. The objective of the given problem is to predict such breaks in advance (early prediction) and identify the potential cause(s) to prevent the break. \n",
    "\n",
    "To build such a prediction model, we will use the data collected from the network of sensors in a mill."
   ]
  },
  {
   "cell_type": "markdown",
   "id": "da647642",
   "metadata": {},
   "source": [
    "This is a multivariate time series data with break as the response (a\n",
    "binary variable).\n",
    "The provided data has,\n",
    "<ul>\n",
    "    <li>18,398 records.</li>\n",
    "    <li>Columns:</li>\n",
    "        <ul>\n",
    "        <li>time: the timestamp of the row</li>\n",
    "        <li>y: the binary response variable. There are only 124 rows with y = 1, rest are y = 0.</li>\n",
    "        <li>x1-x61: predictor variables. All the predictors are continuous variables, except x28 and x61. x61 is a binary variable, and x28 is a\n",
    "        categorical variable. All the predictors are centered. Besides, the predictors are a mixture of raw materials and process variables. Their descriptions are omitted for data anonymity.\n",
    "            Several sensors are placed in different parts of the machine along its length\n",
    "and breadth. These sensors measure both raw materials (e.g. amount of pulp\n",
    "fiber, chemicals, etc.) and process variables (e.g. blade type, couch vacuum,\n",
    "rotor speed, etc.).</li>\n",
    "        </ul>\n",
    "</ul>"
   ]
  },
  {
   "cell_type": "markdown",
   "id": "b2e887af",
   "metadata": {},
   "source": [
    "# Setup"
   ]
  },
  {
   "cell_type": "code",
   "execution_count": 1,
   "id": "bc68ad8b",
   "metadata": {},
   "outputs": [],
   "source": [
    "import pandas as pd\n",
    "import numpy as np\n",
    "import seaborn as sns\n",
    "import matplotlib.pyplot as plt\n",
    "from matplotlib.pyplot import figure\n",
    "from sklearn.metrics import confusion_matrix, recall_score, precision_score\n",
    "import datetime"
   ]
  },
  {
   "cell_type": "markdown",
   "id": "fb011b14",
   "metadata": {},
   "source": [
    "# Load Data"
   ]
  },
  {
   "cell_type": "code",
   "execution_count": 2,
   "id": "6d0806f3",
   "metadata": {},
   "outputs": [],
   "source": [
    "pwbdatafile = '..\\\\data\\\\processminer-rare-event-mts-data.csv'\n",
    "pwbds = pd.read_csv(pwbdatafile)"
   ]
  },
  {
   "cell_type": "code",
   "execution_count": 3,
   "id": "bef4b2bb",
   "metadata": {},
   "outputs": [],
   "source": [
    "pwbds['time']= pd.to_datetime(pwbds['time'])"
   ]
  },
  {
   "cell_type": "markdown",
   "id": "c75c014a",
   "metadata": {},
   "source": [
    "## Cálculo do Remaining Usefull Lifecycle (RUL)"
   ]
  },
  {
   "cell_type": "code",
   "execution_count": 4,
   "id": "1ef667a8",
   "metadata": {},
   "outputs": [],
   "source": [
    "# Dates whith break\n",
    "df_sub = sorted(pwbds[pwbds['y'] == 1]['time'].tolist())"
   ]
  },
  {
   "cell_type": "code",
   "execution_count": 5,
   "id": "c87afe51",
   "metadata": {},
   "outputs": [],
   "source": [
    "# variable to store all days\n",
    "breakSubIdx=0\n",
    "breakLstIdx=0\n",
    "breakList = pwbds['y'].tolist()\n",
    "nextbreak = []\n",
    "for v1 in pwbds['time'].tolist():\n",
    "    if((breakList[breakLstIdx] == 1)):\n",
    "#        print ('1')\n",
    "        nextbreak.append(v1)\n",
    "        breakSubIdx = breakSubIdx+1\n",
    "    else:\n",
    "#        print('0')\n",
    "        if (breakSubIdx < len(df_sub)):\n",
    "            nextbreak.append(df_sub[breakSubIdx])\n",
    "        else:\n",
    "            nextbreak.append(df_sub[breakSubIdx-1])\n",
    "    breakLstIdx = breakLstIdx+1\n",
    "pwbds['nextbreaktime'] = pd.Series(nextbreak)"
   ]
  },
  {
   "cell_type": "code",
   "execution_count": 6,
   "id": "700b77e4",
   "metadata": {},
   "outputs": [],
   "source": [
    "pwbds['RUL']=round((pwbds['nextbreaktime']-pwbds['time']).dt.total_seconds()/60,2)\n",
    "pwbds.drop(pwbds[pwbds.RUL < 0].index, inplace=True)\n",
    "pwbds.drop(['time','nextbreaktime'], axis=1, inplace=True)"
   ]
  },
  {
   "cell_type": "markdown",
   "id": "386c0a62",
   "metadata": {},
   "source": [
    "## Marcação de falha no próximo período (próxima hora)"
   ]
  },
  {
   "cell_type": "markdown",
   "id": "11757518",
   "metadata": {},
   "source": [
    "Using RUL, we can create a label indicating time to failure. We define a boolean (True\\False) value for NEXT_H indicating the engine will fail within 60 minutes (RUL  <=60 ). \n",
    "\n",
    "We can also define a multiclass MULTI  ∈{0,1,2}  indicating {Healthy, RUL <=60, RUL <=120} minutes."
   ]
  },
  {
   "cell_type": "code",
   "execution_count": 7,
   "id": "4b70995b",
   "metadata": {},
   "outputs": [],
   "source": [
    "pwbds['NEXT_H'] = np.where(pwbds['RUL'] <= 60, 1, 0 )"
   ]
  },
  {
   "cell_type": "code",
   "execution_count": 8,
   "id": "bcfeb089",
   "metadata": {},
   "outputs": [
    {
     "data": {
      "text/plain": [
       "0    14962\n",
       "1     3048\n",
       "Name: NEXT_H, dtype: int64"
      ]
     },
     "execution_count": 8,
     "metadata": {},
     "output_type": "execute_result"
    }
   ],
   "source": [
    "pwbds['NEXT_H'].value_counts()"
   ]
  },
  {
   "cell_type": "markdown",
   "id": "4a1bb14a",
   "metadata": {},
   "source": [
    "# Feature Selection and Scaling"
   ]
  },
  {
   "cell_type": "code",
   "execution_count": 9,
   "id": "8183c485",
   "metadata": {},
   "outputs": [
    {
     "data": {
      "text/html": [
       "<div>\n",
       "<style scoped>\n",
       "    .dataframe tbody tr th:only-of-type {\n",
       "        vertical-align: middle;\n",
       "    }\n",
       "\n",
       "    .dataframe tbody tr th {\n",
       "        vertical-align: top;\n",
       "    }\n",
       "\n",
       "    .dataframe thead th {\n",
       "        text-align: right;\n",
       "    }\n",
       "</style>\n",
       "<table border=\"1\" class=\"dataframe\">\n",
       "  <thead>\n",
       "    <tr style=\"text-align: right;\">\n",
       "      <th></th>\n",
       "      <th>x1</th>\n",
       "      <th>x5</th>\n",
       "      <th>x8</th>\n",
       "      <th>x10</th>\n",
       "      <th>x13</th>\n",
       "      <th>x14</th>\n",
       "      <th>x15</th>\n",
       "      <th>x17</th>\n",
       "      <th>x18</th>\n",
       "      <th>x19</th>\n",
       "      <th>...</th>\n",
       "      <th>x41</th>\n",
       "      <th>x43</th>\n",
       "      <th>x46</th>\n",
       "      <th>x48</th>\n",
       "      <th>x49</th>\n",
       "      <th>x51</th>\n",
       "      <th>x53</th>\n",
       "      <th>x54</th>\n",
       "      <th>x55</th>\n",
       "      <th>x58</th>\n",
       "    </tr>\n",
       "  </thead>\n",
       "  <tbody>\n",
       "    <tr>\n",
       "      <th>18005</th>\n",
       "      <td>-0.842707</td>\n",
       "      <td>0.003973</td>\n",
       "      <td>0.183380</td>\n",
       "      <td>0.007243</td>\n",
       "      <td>-9.743207</td>\n",
       "      <td>-0.028775</td>\n",
       "      <td>0.026092</td>\n",
       "      <td>-0.527784</td>\n",
       "      <td>-0.274421</td>\n",
       "      <td>-3.926968</td>\n",
       "      <td>...</td>\n",
       "      <td>0.465982</td>\n",
       "      <td>-0.632727</td>\n",
       "      <td>-1.175627</td>\n",
       "      <td>0.050165</td>\n",
       "      <td>11.794289</td>\n",
       "      <td>29.902837</td>\n",
       "      <td>-2.502873</td>\n",
       "      <td>2.619979</td>\n",
       "      <td>23.443302</td>\n",
       "      <td>0.045492</td>\n",
       "    </tr>\n",
       "    <tr>\n",
       "      <th>18006</th>\n",
       "      <td>-0.814918</td>\n",
       "      <td>-0.025645</td>\n",
       "      <td>0.217521</td>\n",
       "      <td>-0.026898</td>\n",
       "      <td>-7.596631</td>\n",
       "      <td>-0.028775</td>\n",
       "      <td>0.024520</td>\n",
       "      <td>-0.527784</td>\n",
       "      <td>-0.278598</td>\n",
       "      <td>-3.926968</td>\n",
       "      <td>...</td>\n",
       "      <td>-2.062217</td>\n",
       "      <td>-0.632727</td>\n",
       "      <td>-0.434027</td>\n",
       "      <td>0.050547</td>\n",
       "      <td>3.630562</td>\n",
       "      <td>29.943120</td>\n",
       "      <td>-2.507268</td>\n",
       "      <td>2.594859</td>\n",
       "      <td>21.177799</td>\n",
       "      <td>0.040017</td>\n",
       "    </tr>\n",
       "    <tr>\n",
       "      <th>18007</th>\n",
       "      <td>-0.787129</td>\n",
       "      <td>-0.055247</td>\n",
       "      <td>0.251662</td>\n",
       "      <td>-0.061039</td>\n",
       "      <td>-17.685544</td>\n",
       "      <td>-0.028775</td>\n",
       "      <td>0.022946</td>\n",
       "      <td>-0.527784</td>\n",
       "      <td>-0.282775</td>\n",
       "      <td>-3.926968</td>\n",
       "      <td>...</td>\n",
       "      <td>-6.318808</td>\n",
       "      <td>-0.632727</td>\n",
       "      <td>0.814790</td>\n",
       "      <td>0.050920</td>\n",
       "      <td>-1.359215</td>\n",
       "      <td>29.983403</td>\n",
       "      <td>-2.511662</td>\n",
       "      <td>2.569741</td>\n",
       "      <td>15.235538</td>\n",
       "      <td>0.040017</td>\n",
       "    </tr>\n",
       "    <tr>\n",
       "      <th>18008</th>\n",
       "      <td>-0.759339</td>\n",
       "      <td>-0.084864</td>\n",
       "      <td>0.285803</td>\n",
       "      <td>-0.095180</td>\n",
       "      <td>-2.288175</td>\n",
       "      <td>-0.028775</td>\n",
       "      <td>0.021374</td>\n",
       "      <td>-0.527784</td>\n",
       "      <td>-0.286952</td>\n",
       "      <td>-3.926968</td>\n",
       "      <td>...</td>\n",
       "      <td>-6.521201</td>\n",
       "      <td>-0.632727</td>\n",
       "      <td>0.066965</td>\n",
       "      <td>0.051302</td>\n",
       "      <td>30.364784</td>\n",
       "      <td>29.984624</td>\n",
       "      <td>-2.516057</td>\n",
       "      <td>2.544622</td>\n",
       "      <td>24.041080</td>\n",
       "      <td>0.034558</td>\n",
       "    </tr>\n",
       "    <tr>\n",
       "      <th>18009</th>\n",
       "      <td>-0.717117</td>\n",
       "      <td>-0.114481</td>\n",
       "      <td>0.288933</td>\n",
       "      <td>-0.098310</td>\n",
       "      <td>-6.221113</td>\n",
       "      <td>-0.028775</td>\n",
       "      <td>0.019800</td>\n",
       "      <td>-0.508084</td>\n",
       "      <td>-0.291129</td>\n",
       "      <td>-3.926968</td>\n",
       "      <td>...</td>\n",
       "      <td>-6.723471</td>\n",
       "      <td>-0.632727</td>\n",
       "      <td>0.628019</td>\n",
       "      <td>0.051683</td>\n",
       "      <td>5.879768</td>\n",
       "      <td>29.984624</td>\n",
       "      <td>-2.520207</td>\n",
       "      <td>2.519503</td>\n",
       "      <td>18.840640</td>\n",
       "      <td>0.031466</td>\n",
       "    </tr>\n",
       "  </tbody>\n",
       "</table>\n",
       "<p>5 rows × 32 columns</p>\n",
       "</div>"
      ],
      "text/plain": [
       "             x1        x5        x8       x10        x13       x14       x15  \\\n",
       "18005 -0.842707  0.003973  0.183380  0.007243  -9.743207 -0.028775  0.026092   \n",
       "18006 -0.814918 -0.025645  0.217521 -0.026898  -7.596631 -0.028775  0.024520   \n",
       "18007 -0.787129 -0.055247  0.251662 -0.061039 -17.685544 -0.028775  0.022946   \n",
       "18008 -0.759339 -0.084864  0.285803 -0.095180  -2.288175 -0.028775  0.021374   \n",
       "18009 -0.717117 -0.114481  0.288933 -0.098310  -6.221113 -0.028775  0.019800   \n",
       "\n",
       "            x17       x18       x19  ...       x41       x43       x46  \\\n",
       "18005 -0.527784 -0.274421 -3.926968  ...  0.465982 -0.632727 -1.175627   \n",
       "18006 -0.527784 -0.278598 -3.926968  ... -2.062217 -0.632727 -0.434027   \n",
       "18007 -0.527784 -0.282775 -3.926968  ... -6.318808 -0.632727  0.814790   \n",
       "18008 -0.527784 -0.286952 -3.926968  ... -6.521201 -0.632727  0.066965   \n",
       "18009 -0.508084 -0.291129 -3.926968  ... -6.723471 -0.632727  0.628019   \n",
       "\n",
       "            x48        x49        x51       x53       x54        x55       x58  \n",
       "18005  0.050165  11.794289  29.902837 -2.502873  2.619979  23.443302  0.045492  \n",
       "18006  0.050547   3.630562  29.943120 -2.507268  2.594859  21.177799  0.040017  \n",
       "18007  0.050920  -1.359215  29.983403 -2.511662  2.569741  15.235538  0.040017  \n",
       "18008  0.051302  30.364784  29.984624 -2.516057  2.544622  24.041080  0.034558  \n",
       "18009  0.051683   5.879768  29.984624 -2.520207  2.519503  18.840640  0.031466  \n",
       "\n",
       "[5 rows x 32 columns]"
      ]
     },
     "execution_count": 9,
     "metadata": {},
     "output_type": "execute_result"
    }
   ],
   "source": [
    "# Feature Selection\n",
    "# List of considered Features\n",
    "# Redução de feature usando resultado do PCA (notebook DimRedPCAOnTS)\n",
    "FEATURES = [\n",
    "#    'x1','x2','x3','x4','x5','x6','x7','x8','x9','x10','x11','x13','x14','x15','x17','x18','x19','x20',\n",
    "#    'x21','x22','x24','x26','x27','x28','x29','x30','x32','x33','x34','x35','x36','x37','x38','x39','x40',\n",
    "#    'x41','x42','x43','x44','x45','x46','x47','x48','x49','x50','x54','x55','x56','x57','x60',\n",
    "    'x1','x5','x8','x10','x13','x14','x15','x17','x18','x19','x20','x21','x22','x26','x28','x30','x31','x34',\n",
    "    'x35','x37','x38','x40','x41','x43','x46','x48','x49','x51','x53','x54','x55','x58'\n",
    "]\n",
    "\n",
    "# Create the dataset with features and filter the data to the list of FEATURES\n",
    "pwbds_filtered = pwbds[FEATURES]\n",
    "\n",
    "# Print the tail of the dataframe\n",
    "pwbds_filtered.tail()"
   ]
  },
  {
   "cell_type": "code",
   "execution_count": 10,
   "id": "65250f0f",
   "metadata": {},
   "outputs": [
    {
     "name": "stdout",
     "output_type": "stream",
     "text": [
      "(18010, 32)\n"
     ]
    }
   ],
   "source": [
    "# This Scaler removes the median and scales the data according to the quantile range to normalize the price data \n",
    "from sklearn.preprocessing import RobustScaler, MinMaxScaler \n",
    "\n",
    "# Get the number of rows in the data\n",
    "nrows = pwbds_filtered.shape[0]\n",
    "\n",
    "# Convert the data to numpy values\n",
    "np_data_unscaled = np.array(pwbds_filtered)\n",
    "np_data = np.reshape(np_data_unscaled, (nrows, -1))\n",
    "print(np_data.shape)\n",
    "\n",
    "# Transform the data by scaling each feature to a range between 0 and 1\n",
    "scaler = MinMaxScaler()\n",
    "np_data_scaled = scaler.fit_transform(np_data_unscaled)\n",
    "pwbds_scaled = pd.DataFrame(\n",
    "    np_data_scaled,\n",
    "    columns=FEATURES\n",
    ")\n",
    "pwbds_scaled['NEXT_H'] = pwbds['NEXT_H']"
   ]
  },
  {
   "cell_type": "markdown",
   "id": "fd709b30",
   "metadata": {},
   "source": [
    "# Shaping & Splitting"
   ]
  },
  {
   "cell_type": "code",
   "execution_count": 11,
   "id": "8936176d",
   "metadata": {},
   "outputs": [],
   "source": [
    "def lstm_data_transform(x_data, y_data, num_steps=5):\n",
    "    \"\"\" Changes data to the format for LSTM training for sliding window approach \"\"\"\n",
    "    # Prepare the list for the transformed data\n",
    "    X, y = list(), list()\n",
    "    # Loop of the entire data set\n",
    "    for i in range(x_data.shape[0]):\n",
    "        # compute a new (sliding window) index\n",
    "        end_ix = i + num_steps\n",
    "        \n",
    "        # if index is larger than the size of the dataset, we stop\n",
    "        if end_ix > x_data.shape[0]:\n",
    "            break\n",
    "        \n",
    "        # Get a sequence of data for x\n",
    "        seq_X = x_data[i:end_ix]\n",
    "        \n",
    "        # Get only the last element of the sequency for y\n",
    "        seq_y = y_data[end_ix-1]\n",
    "        \n",
    "        # Append the list with sequencies\n",
    "        X.append(seq_X)\n",
    "        y.append(seq_y)\n",
    "    \n",
    "    # Make final arrays\n",
    "    x_array = np.array(X)\n",
    "    y_array = np.array(y)\n",
    "    return x_array, y_array"
   ]
  },
  {
   "cell_type": "markdown",
   "id": "1ffe7672",
   "metadata": {},
   "source": [
    "# Modeling 2: Binary Classification - Break in the next hour"
   ]
  },
  {
   "cell_type": "markdown",
   "id": "d42d2271",
   "metadata": {},
   "source": [
    "## Dataset for model 2"
   ]
  },
  {
   "cell_type": "code",
   "execution_count": 12,
   "id": "907f9405",
   "metadata": {},
   "outputs": [],
   "source": [
    "pwbds_scaled_copy = pwbds_scaled"
   ]
  },
  {
   "cell_type": "code",
   "execution_count": 13,
   "id": "6481d239",
   "metadata": {},
   "outputs": [],
   "source": [
    "pwbds_m2 = pwbds_scaled\n",
    "yds_m2 = pwbds.pop('NEXT_H')"
   ]
  },
  {
   "cell_type": "code",
   "execution_count": 14,
   "id": "87961fff",
   "metadata": {},
   "outputs": [
    {
     "name": "stdout",
     "output_type": "stream",
     "text": [
      "The new shape of x is (17981, 30, 33)\n"
     ]
    }
   ],
   "source": [
    "num_steps = 30\n",
    "x_new, y_new = lstm_data_transform(pwbds_m2, yds_m2, num_steps=num_steps)\n",
    "print (\"The new shape of x is\", x_new.shape)"
   ]
  },
  {
   "cell_type": "code",
   "execution_count": 15,
   "id": "95639f7e",
   "metadata": {},
   "outputs": [],
   "source": [
    "train_ind = int(0.9 * pwbds.shape[0])\n",
    "x_train = x_new[:train_ind]\n",
    "y_train = y_new[:train_ind]\n",
    "x_test = x_new[train_ind:]\n",
    "y_test = y_new[train_ind:]"
   ]
  },
  {
   "cell_type": "code",
   "execution_count": 17,
   "id": "cfcb25c1",
   "metadata": {},
   "outputs": [
    {
     "data": {
      "text/plain": [
       "(1772, 30, 33)"
      ]
     },
     "execution_count": 17,
     "metadata": {},
     "output_type": "execute_result"
    }
   ],
   "source": [
    "x_test.shape"
   ]
  },
  {
   "cell_type": "markdown",
   "id": "a3c5f876",
   "metadata": {},
   "source": [
    "# Model 2"
   ]
  },
  {
   "cell_type": "code",
   "execution_count": 18,
   "id": "5cb97343",
   "metadata": {},
   "outputs": [
    {
     "name": "stderr",
     "output_type": "stream",
     "text": [
      "C:\\Users\\hcord\\anaconda3\\envs\\paper3\\lib\\site-packages\\tensorflow\\python\\framework\\dtypes.py:516: FutureWarning: Passing (type, 1) or '1type' as a synonym of type is deprecated; in a future version of numpy, it will be understood as (type, (1,)) / '(1,)type'.\n",
      "  _np_qint8 = np.dtype([(\"qint8\", np.int8, 1)])\n",
      "C:\\Users\\hcord\\anaconda3\\envs\\paper3\\lib\\site-packages\\tensorflow\\python\\framework\\dtypes.py:517: FutureWarning: Passing (type, 1) or '1type' as a synonym of type is deprecated; in a future version of numpy, it will be understood as (type, (1,)) / '(1,)type'.\n",
      "  _np_quint8 = np.dtype([(\"quint8\", np.uint8, 1)])\n",
      "C:\\Users\\hcord\\anaconda3\\envs\\paper3\\lib\\site-packages\\tensorflow\\python\\framework\\dtypes.py:518: FutureWarning: Passing (type, 1) or '1type' as a synonym of type is deprecated; in a future version of numpy, it will be understood as (type, (1,)) / '(1,)type'.\n",
      "  _np_qint16 = np.dtype([(\"qint16\", np.int16, 1)])\n",
      "C:\\Users\\hcord\\anaconda3\\envs\\paper3\\lib\\site-packages\\tensorflow\\python\\framework\\dtypes.py:519: FutureWarning: Passing (type, 1) or '1type' as a synonym of type is deprecated; in a future version of numpy, it will be understood as (type, (1,)) / '(1,)type'.\n",
      "  _np_quint16 = np.dtype([(\"quint16\", np.uint16, 1)])\n",
      "C:\\Users\\hcord\\anaconda3\\envs\\paper3\\lib\\site-packages\\tensorflow\\python\\framework\\dtypes.py:520: FutureWarning: Passing (type, 1) or '1type' as a synonym of type is deprecated; in a future version of numpy, it will be understood as (type, (1,)) / '(1,)type'.\n",
      "  _np_qint32 = np.dtype([(\"qint32\", np.int32, 1)])\n",
      "C:\\Users\\hcord\\anaconda3\\envs\\paper3\\lib\\site-packages\\tensorflow\\python\\framework\\dtypes.py:525: FutureWarning: Passing (type, 1) or '1type' as a synonym of type is deprecated; in a future version of numpy, it will be understood as (type, (1,)) / '(1,)type'.\n",
      "  np_resource = np.dtype([(\"resource\", np.ubyte, 1)])\n",
      "C:\\Users\\hcord\\anaconda3\\envs\\paper3\\lib\\site-packages\\tensorboard\\compat\\tensorflow_stub\\dtypes.py:541: FutureWarning: Passing (type, 1) or '1type' as a synonym of type is deprecated; in a future version of numpy, it will be understood as (type, (1,)) / '(1,)type'.\n",
      "  _np_qint8 = np.dtype([(\"qint8\", np.int8, 1)])\n",
      "C:\\Users\\hcord\\anaconda3\\envs\\paper3\\lib\\site-packages\\tensorboard\\compat\\tensorflow_stub\\dtypes.py:542: FutureWarning: Passing (type, 1) or '1type' as a synonym of type is deprecated; in a future version of numpy, it will be understood as (type, (1,)) / '(1,)type'.\n",
      "  _np_quint8 = np.dtype([(\"quint8\", np.uint8, 1)])\n",
      "C:\\Users\\hcord\\anaconda3\\envs\\paper3\\lib\\site-packages\\tensorboard\\compat\\tensorflow_stub\\dtypes.py:543: FutureWarning: Passing (type, 1) or '1type' as a synonym of type is deprecated; in a future version of numpy, it will be understood as (type, (1,)) / '(1,)type'.\n",
      "  _np_qint16 = np.dtype([(\"qint16\", np.int16, 1)])\n",
      "C:\\Users\\hcord\\anaconda3\\envs\\paper3\\lib\\site-packages\\tensorboard\\compat\\tensorflow_stub\\dtypes.py:544: FutureWarning: Passing (type, 1) or '1type' as a synonym of type is deprecated; in a future version of numpy, it will be understood as (type, (1,)) / '(1,)type'.\n",
      "  _np_quint16 = np.dtype([(\"quint16\", np.uint16, 1)])\n",
      "C:\\Users\\hcord\\anaconda3\\envs\\paper3\\lib\\site-packages\\tensorboard\\compat\\tensorflow_stub\\dtypes.py:545: FutureWarning: Passing (type, 1) or '1type' as a synonym of type is deprecated; in a future version of numpy, it will be understood as (type, (1,)) / '(1,)type'.\n",
      "  _np_qint32 = np.dtype([(\"qint32\", np.int32, 1)])\n",
      "C:\\Users\\hcord\\anaconda3\\envs\\paper3\\lib\\site-packages\\tensorboard\\compat\\tensorflow_stub\\dtypes.py:550: FutureWarning: Passing (type, 1) or '1type' as a synonym of type is deprecated; in a future version of numpy, it will be understood as (type, (1,)) / '(1,)type'.\n",
      "  np_resource = np.dtype([(\"resource\", np.ubyte, 1)])\n",
      "Using TensorFlow backend.\n"
     ]
    }
   ],
   "source": [
    "import tensorflow as tf\n",
    "from keras.models import Sequential\n",
    "from tensorflow import keras\n",
    "from keras.layers import Dense, Dropout, LSTM, Activation\n",
    "from tensorflow.keras import layers\n"
   ]
  },
  {
   "cell_type": "code",
   "execution_count": 19,
   "id": "b2909e82",
   "metadata": {},
   "outputs": [
    {
     "name": "stdout",
     "output_type": "stream",
     "text": [
      "1.14.0\n",
      "1.19.5\n",
      "3.6.9\n"
     ]
    }
   ],
   "source": [
    "print(tf. __version__)\n",
    "print(np. __version__)\n",
    "from platform import python_version\n",
    "\n",
    "print(python_version())"
   ]
  },
  {
   "cell_type": "code",
   "execution_count": 20,
   "id": "28fc07bc",
   "metadata": {},
   "outputs": [
    {
     "name": "stdout",
     "output_type": "stream",
     "text": [
      "WARNING:tensorflow:From C:\\Users\\hcord\\anaconda3\\envs\\paper3\\lib\\site-packages\\tensorflow\\python\\ops\\init_ops.py:1251: calling VarianceScaling.__init__ (from tensorflow.python.ops.init_ops) with dtype is deprecated and will be removed in a future version.\n",
      "Instructions for updating:\n",
      "Call initializer instance with the dtype argument instead of passing it to the constructor\n",
      "WARNING:tensorflow:From C:\\Users\\hcord\\anaconda3\\envs\\paper3\\lib\\site-packages\\tensorflow\\python\\ops\\nn_impl.py:180: add_dispatch_support.<locals>.wrapper (from tensorflow.python.ops.array_ops) is deprecated and will be removed in a future version.\n",
      "Instructions for updating:\n",
      "Use tf.where in 2.0, which has the same broadcast rule as np.where\n",
      "Model: \"sequential\"\n",
      "_________________________________________________________________\n",
      "Layer (type)                 Output Shape              Param #   \n",
      "=================================================================\n",
      "lstm (LSTM)                  (None, 30, 100)           53600     \n",
      "_________________________________________________________________\n",
      "dropout (Dropout)            (None, 30, 100)           0         \n",
      "_________________________________________________________________\n",
      "lstm_1 (LSTM)                (None, 50)                30200     \n",
      "_________________________________________________________________\n",
      "dropout_1 (Dropout)          (None, 50)                0         \n",
      "_________________________________________________________________\n",
      "dense (Dense)                (None, 1)                 51        \n",
      "=================================================================\n",
      "Total params: 83,851\n",
      "Trainable params: 83,851\n",
      "Non-trainable params: 0\n",
      "_________________________________________________________________\n",
      "None\n"
     ]
    }
   ],
   "source": [
    "# LSTM model\n",
    "model = keras.Sequential()\n",
    "\n",
    "# The first layer\n",
    "model.add(layers.LSTM(\n",
    "         input_shape=(num_steps, x_train.shape[2]),\n",
    "         units=100,\n",
    "         return_sequences=True))\n",
    "\n",
    "# Plus a 20% dropout rate\n",
    "model.add(layers.Dropout(0.2))\n",
    "\n",
    "# The second layer\n",
    "model.add(layers.LSTM(\n",
    "          units=50,\n",
    "          return_sequences=False))\n",
    "\n",
    "# Plus a 20% dropout rate\n",
    "model.add(layers.Dropout(0.2))\n",
    "\n",
    "# Dense sigmoid layer\n",
    "model.add(layers.Dense(units=1, activation='sigmoid'))\n",
    "\n",
    "# With adam optimizer and a binary crossentropy loss. We will opimize for model accuracy.\n",
    "adam = keras.optimizers.Adam(lr=0.0001)\n",
    "#model_1.compile(optimizer=adam, loss='mse')\n",
    "model.compile(loss='binary_crossentropy', optimizer=adam, metrics=['accuracy'])\n",
    "\n",
    "# Verify the architecture \n",
    "print(model.summary())"
   ]
  },
  {
   "cell_type": "code",
   "execution_count": 21,
   "id": "cdb673ef",
   "metadata": {},
   "outputs": [],
   "source": [
    "# EarlyStopping Callback\n",
    "callback = tf.keras.callbacks.EarlyStopping(monitor='loss', patience=3)"
   ]
  },
  {
   "cell_type": "code",
   "execution_count": 22,
   "id": "248cf860",
   "metadata": {},
   "outputs": [
    {
     "data": {
      "text/plain": [
       "(1772, 30, 33)"
      ]
     },
     "execution_count": 22,
     "metadata": {},
     "output_type": "execute_result"
    }
   ],
   "source": [
    "x_test.shape"
   ]
  },
  {
   "cell_type": "code",
   "execution_count": 23,
   "id": "04d389b3",
   "metadata": {},
   "outputs": [
    {
     "name": "stdout",
     "output_type": "stream",
     "text": [
      "Epoch 1/10\n",
      "16209/16209 [==============================] - 19s 1ms/sample - loss: 0.2432 - acc: 0.9086\n",
      "Epoch 2/10\n",
      "16209/16209 [==============================] - 21s 1ms/sample - loss: 0.0999 - acc: 0.9706\n",
      "Epoch 3/10\n",
      "16209/16209 [==============================] - 22s 1ms/sample - loss: 0.0660 - acc: 0.9812\n",
      "Epoch 4/10\n",
      "16209/16209 [==============================] - 23s 1ms/sample - loss: 0.0486 - acc: 0.9870\n",
      "Epoch 5/10\n",
      "16209/16209 [==============================] - 23s 1ms/sample - loss: 0.0376 - acc: 0.9907\n",
      "Epoch 6/10\n",
      "16209/16209 [==============================] - 23s 1ms/sample - loss: 0.0295 - acc: 0.9920\n",
      "Epoch 7/10\n",
      "16209/16209 [==============================] - 23s 1ms/sample - loss: 0.0231 - acc: 0.9932\n",
      "Epoch 8/10\n",
      "16209/16209 [==============================] - 27s 2ms/sample - loss: 0.0182 - acc: 0.9942\n",
      "Epoch 9/10\n",
      "16209/16209 [==============================] - 25s 2ms/sample - loss: 0.0135 - acc: 0.99560s - loss: 0.0135 - acc: \n",
      "Epoch 10/10\n",
      "16209/16209 [==============================] - 24s 1ms/sample - loss: 0.0095 - acc: 0.9972\n"
     ]
    }
   ],
   "source": [
    "history = model.fit(\n",
    "    x_train, \n",
    "    y_train, \n",
    "    epochs=10,\n",
    "#    batch_size=60,\n",
    "#    validation_split=0.10,\n",
    "    callbacks = [callback])"
   ]
  },
  {
   "cell_type": "code",
   "execution_count": 25,
   "id": "8ae529d6",
   "metadata": {},
   "outputs": [
    {
     "data": {
      "text/plain": [
       "(1772, 30, 33)"
      ]
     },
     "execution_count": 25,
     "metadata": {},
     "output_type": "execute_result"
    }
   ],
   "source": [
    "x_test.shape"
   ]
  },
  {
   "cell_type": "code",
   "execution_count": 26,
   "id": "96e32bdc",
   "metadata": {},
   "outputs": [
    {
     "data": {
      "text/plain": [
       "Text(0.5, 0, 'epochs')"
      ]
     },
     "execution_count": 26,
     "metadata": {},
     "output_type": "execute_result"
    },
    {
     "data": {
      "image/png": "[encoded data removed]",
      "text/plain": [
       "<Figure size 432x288 with 1 Axes>"
      ]
     },
     "metadata": {
      "needs_background": "light"
     },
     "output_type": "display_data"
    }
   ],
   "source": [
    "# Plot History\n",
    "pd.DataFrame(history.history).plot()\n",
    "plt.ylabel('loss')\n",
    "plt.xlabel('epochs')"
   ]
  },
  {
   "cell_type": "code",
   "execution_count": 27,
   "id": "d8e521b1",
   "metadata": {},
   "outputs": [
    {
     "name": "stdout",
     "output_type": "stream",
     "text": [
      "1772/1772 [==============================] - 1s 318us/sample - loss: 0.0059 - acc: 1.0000\n",
      "Training Accurracy: 1.0\n"
     ]
    }
   ],
   "source": [
    "#scores_2 = model.evaluate(x_test, y_test, verbose=1, batch_size=200)\n",
    "scores_2 = model.evaluate(x_test, y_test, verbose=1)\n",
    "print('Training Accurracy: {}'.format(scores_2[1]))"
   ]
  },
  {
   "cell_type": "code",
   "execution_count": 28,
   "id": "68172399",
   "metadata": {},
   "outputs": [
    {
     "data": {
      "text/plain": [
       "(1772, 30, 33)"
      ]
     },
     "execution_count": 28,
     "metadata": {},
     "output_type": "execute_result"
    }
   ],
   "source": [
    "x_test.shape"
   ]
  },
  {
   "cell_type": "code",
   "execution_count": 29,
   "id": "e5bbdab9",
   "metadata": {},
   "outputs": [
    {
     "name": "stdout",
     "output_type": "stream",
     "text": [
      "1772/1772 [==============================] - 1s 291us/sample\n",
      "Training Confusion matrix\n",
      "- x-axis is true labels.\n",
      "- y-axis is predicted labels\n"
     ]
    },
    {
     "data": {
      "text/plain": [
       "array([[1421,    0],\n",
       "       [   0,  351]], dtype=int64)"
      ]
     },
     "execution_count": 29,
     "metadata": {},
     "output_type": "execute_result"
    }
   ],
   "source": [
    "# make predictions and compute confusion matrix\n",
    "#y_pred = model.predict_classes(x_test,verbose=1, batch_size=200)\n",
    "y_pred = model.predict_classes(x_test,verbose=1)\n",
    "y_true = y_test\n",
    "print('Training Confusion matrix\\n- x-axis is true labels.\\n- y-axis is predicted labels')\n",
    "cm = confusion_matrix(y_true, y_pred)\n",
    "cm"
   ]
  },
  {
   "cell_type": "code",
   "execution_count": 30,
   "id": "ca0cac40",
   "metadata": {},
   "outputs": [
    {
     "name": "stdout",
     "output_type": "stream",
     "text": [
      "Test Precision:  1.0 \n",
      " Test Recall:  1.0 \n",
      " Test F1 Score: 1.0\n"
     ]
    }
   ],
   "source": [
    "# compute precision and recall\n",
    "precision_test = precision_score(y_true, y_pred)\n",
    "recall_test = recall_score(y_true, y_pred)\n",
    "f1_test = 2 * (precision_test * recall_test) / (precision_test + recall_test)\n",
    "print( 'Test Precision: ', precision_test, '\\n', 'Test Recall: ', recall_test, '\\n', 'Test F1 Score:', f1_test)"
   ]
  },
  {
   "cell_type": "code",
   "execution_count": 31,
   "id": "bcc2cbd3",
   "metadata": {},
   "outputs": [],
   "source": [
    "cm = confusion_matrix(y_true, y_pred)"
   ]
  },
  {
   "cell_type": "code",
   "execution_count": 32,
   "id": "a0f19946",
   "metadata": {},
   "outputs": [
    {
     "name": "stdout",
     "output_type": "stream",
     "text": [
      "        pred:0  pred:1\n",
      "true:0    1421       0\n",
      "true:1       0     351\n"
     ]
    }
   ],
   "source": [
    "cmtx = pd.DataFrame(\n",
    "    confusion_matrix(y_true, y_pred),\n",
    "    index=['true:0', 'true:1'], \n",
    "    columns=['pred:0', 'pred:1']\n",
    ")\n",
    "print(cmtx)"
   ]
  },
  {
   "cell_type": "code",
   "execution_count": 33,
   "id": "0472b959",
   "metadata": {},
   "outputs": [
    {
     "data": {
      "text/plain": [
       "(array([0, 1]), array([1421,  351], dtype=int64))"
      ]
     },
     "execution_count": 33,
     "metadata": {},
     "output_type": "execute_result"
    }
   ],
   "source": [
    "np.unique(y_test,return_counts=True)"
   ]
  },
  {
   "cell_type": "code",
   "execution_count": 34,
   "id": "b425f9a3",
   "metadata": {},
   "outputs": [],
   "source": [
    "import shap  # package used to calculate Shap values\n",
    "\n",
    "# use Deep SHAP to explain test set predictions\n",
    "#k_explainer = shap.KernelExplainer(model_1.predict_proba, x_test)\n",
    "#k_shap_values = k_explainer.shap_values(x_test.reshape(14315*30,32))\n",
    "#shap.force_plot(k_explainer.expected_value[1], k_shap_values[1], x_test)"
   ]
  },
  {
   "cell_type": "markdown",
   "id": "91d3fca7",
   "metadata": {},
   "source": [
    "# Salvando o modelo"
   ]
  },
  {
   "cell_type": "code",
   "execution_count": 35,
   "id": "8119934a",
   "metadata": {},
   "outputs": [],
   "source": [
    "model.save('../data/pwb_classification')"
   ]
  },
  {
   "cell_type": "markdown",
   "id": "5e4cbb13",
   "metadata": {},
   "source": [
    "# Random Forest"
   ]
  },
  {
   "cell_type": "code",
   "execution_count": null,
   "id": "f63bcaf7",
   "metadata": {},
   "outputs": [],
   "source": [
    "pwbds_scaled_copy.head()"
   ]
  },
  {
   "cell_type": "code",
   "execution_count": null,
   "id": "b9210bc5",
   "metadata": {},
   "outputs": [],
   "source": [
    "train_ind = int(0.9 * pwbds_scaled_copy.shape[0])\n",
    "x_train = pwbds_scaled_copy[:train_ind]\n",
    "y_train = pwbds_scaled_copy.NEXT_H[:train_ind]\n",
    "x_test = pwbds_scaled_copy[train_ind:]\n",
    "y_test = pwbds_scaled_copy.NEXT_H[train_ind:]"
   ]
  },
  {
   "cell_type": "code",
   "execution_count": null,
   "id": "6ac231ee",
   "metadata": {},
   "outputs": [],
   "source": [
    "from sklearn.ensemble import RandomForestClassifier as rfc\n",
    "clf_rf = rfc(random_state=0).fit(x_train, y_train)"
   ]
  },
  {
   "cell_type": "code",
   "execution_count": null,
   "id": "1ad30894",
   "metadata": {},
   "outputs": [],
   "source": [
    "clf_rf.score(x_test, y_test)"
   ]
  },
  {
   "cell_type": "code",
   "execution_count": null,
   "id": "99c131f6",
   "metadata": {},
   "outputs": [],
   "source": [
    "y_pred = clf_rf.predict(x_test)"
   ]
  },
  {
   "cell_type": "code",
   "execution_count": null,
   "id": "6f9072e1",
   "metadata": {},
   "outputs": [],
   "source": [
    "print('Training Confusion matrix\\n- x-axis is true labels.\\n- y-axis is predicted labels')\n",
    "cm = confusion_matrix(y_test, y_pred)\n",
    "cm"
   ]
  },
  {
   "cell_type": "code",
   "execution_count": null,
   "id": "cad7a326",
   "metadata": {},
   "outputs": [],
   "source": [
    "import shap  # package used to calculate Shap values\n",
    "\n",
    "# Create object that can calculate shap values\n",
    "#explainer = shap.TreeExplainer(clf_rf)\n",
    "\n",
    "# Calculate Shap values\n",
    "#shap_values = explainer.shap_values(x_test)\n",
    "\n",
    "#shap.initjs()\n",
    "#shap.force_plot(explainer.expected_value[1], shap_values[1], x_test)\n"
   ]
  },
  {
   "cell_type": "code",
   "execution_count": null,
   "id": "d0e2c788",
   "metadata": {},
   "outputs": [],
   "source": []
  }
 ],
 "metadata": {
  "kernelspec": {
   "display_name": "paper3",
   "language": "python",
   "name": "paper3"
  },
  "language_info": {
   "codemirror_mode": {
    "name": "ipython",
    "version": 3
   },
   "file_extension": ".py",
   "mimetype": "text/x-python",
   "name": "python",
   "nbconvert_exporter": "python",
   "pygments_lexer": "ipython3",
   "version": "3.6.9"
  }
 },
 "nbformat": 4,
 "nbformat_minor": 5
}

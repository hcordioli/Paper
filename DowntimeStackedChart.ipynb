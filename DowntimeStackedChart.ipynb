{
 "cells": [
  {
   "cell_type": "code",
   "execution_count": 61,
   "id": "25b32429",
   "metadata": {},
   "outputs": [],
   "source": [
    "import matplotlib.pyplot as plt\n",
    "from matplotlib.pyplot import figure\n",
    "import pandas as pd\n",
    "import numpy as np"
   ]
  },
  {
   "cell_type": "code",
   "execution_count": 114,
   "id": "d319f817",
   "metadata": {},
   "outputs": [],
   "source": [
    "plotdata = pd.DataFrame({\n",
    "    \"dt1\":[11, 21, 31, 41, 51, 61, 71, 81],\n",
    "    \"dt2\":[0,  22,  0, 42,  0,  0,  0, 82],\n",
    "    \"dt3\":[0,  23,  0, 43,  0,  0,  0, 83],\n",
    "    \"dt4\":[0,   0,  0, 44,  0,  0,  0, 84],\n",
    "    }, \n",
    "    index=[\"1999-05-01\", \"1999-05-02\", \"1999-05-03\", \"1999-05-04\", \"1999-05-05\",\"1999-05-06\", \"1999-05-07\", \"1999-05-08\"]\n",
    ")\n"
   ]
  },
  {
   "cell_type": "code",
   "execution_count": 115,
   "id": "66aa21fd",
   "metadata": {},
   "outputs": [
    {
     "data": {
      "text/html": [
       "<div>\n",
       "<style scoped>\n",
       "    .dataframe tbody tr th:only-of-type {\n",
       "        vertical-align: middle;\n",
       "    }\n",
       "\n",
       "    .dataframe tbody tr th {\n",
       "        vertical-align: top;\n",
       "    }\n",
       "\n",
       "    .dataframe thead th {\n",
       "        text-align: right;\n",
       "    }\n",
       "</style>\n",
       "<table border=\"1\" class=\"dataframe\">\n",
       "  <thead>\n",
       "    <tr style=\"text-align: right;\">\n",
       "      <th></th>\n",
       "      <th>dt1</th>\n",
       "      <th>dt2</th>\n",
       "      <th>dt3</th>\n",
       "      <th>dt4</th>\n",
       "    </tr>\n",
       "  </thead>\n",
       "  <tbody>\n",
       "    <tr>\n",
       "      <th>1999-05-01</th>\n",
       "      <td>11</td>\n",
       "      <td>0</td>\n",
       "      <td>0</td>\n",
       "      <td>0</td>\n",
       "    </tr>\n",
       "    <tr>\n",
       "      <th>1999-05-02</th>\n",
       "      <td>21</td>\n",
       "      <td>22</td>\n",
       "      <td>23</td>\n",
       "      <td>0</td>\n",
       "    </tr>\n",
       "    <tr>\n",
       "      <th>1999-05-03</th>\n",
       "      <td>31</td>\n",
       "      <td>0</td>\n",
       "      <td>0</td>\n",
       "      <td>0</td>\n",
       "    </tr>\n",
       "    <tr>\n",
       "      <th>1999-05-04</th>\n",
       "      <td>41</td>\n",
       "      <td>42</td>\n",
       "      <td>43</td>\n",
       "      <td>44</td>\n",
       "    </tr>\n",
       "    <tr>\n",
       "      <th>1999-05-05</th>\n",
       "      <td>51</td>\n",
       "      <td>0</td>\n",
       "      <td>0</td>\n",
       "      <td>0</td>\n",
       "    </tr>\n",
       "    <tr>\n",
       "      <th>1999-05-06</th>\n",
       "      <td>61</td>\n",
       "      <td>0</td>\n",
       "      <td>0</td>\n",
       "      <td>0</td>\n",
       "    </tr>\n",
       "    <tr>\n",
       "      <th>1999-05-07</th>\n",
       "      <td>71</td>\n",
       "      <td>0</td>\n",
       "      <td>0</td>\n",
       "      <td>0</td>\n",
       "    </tr>\n",
       "    <tr>\n",
       "      <th>1999-05-08</th>\n",
       "      <td>81</td>\n",
       "      <td>82</td>\n",
       "      <td>83</td>\n",
       "      <td>84</td>\n",
       "    </tr>\n",
       "  </tbody>\n",
       "</table>\n",
       "</div>"
      ],
      "text/plain": [
       "            dt1  dt2  dt3  dt4\n",
       "1999-05-01   11    0    0    0\n",
       "1999-05-02   21   22   23    0\n",
       "1999-05-03   31    0    0    0\n",
       "1999-05-04   41   42   43   44\n",
       "1999-05-05   51    0    0    0\n",
       "1999-05-06   61    0    0    0\n",
       "1999-05-07   71    0    0    0\n",
       "1999-05-08   81   82   83   84"
      ]
     },
     "execution_count": 115,
     "metadata": {},
     "output_type": "execute_result"
    }
   ],
   "source": [
    "plotdata"
   ]
  },
  {
   "cell_type": "code",
   "execution_count": 116,
   "id": "d866c74b",
   "metadata": {},
   "outputs": [
    {
     "data": {
      "text/plain": [
       "Text(0, 0.5, 'Downtime minutes')"
      ]
     },
     "execution_count": 116,
     "metadata": {},
     "output_type": "execute_result"
    },
    {
     "data": {
      "image/png": "[encoded data removed]",
      "text/plain": [
       "<Figure size 720x360 with 1 Axes>"
      ]
     },
     "metadata": {
      "needs_background": "light"
     },
     "output_type": "display_data"
    }
   ],
   "source": [
    "plotdata.plot(kind=\"bar\",stacked=True, legend=None,figsize=(10, 5))\n",
    "plt.title(\"Downtime Occurencies\")\n",
    "plt.xlabel(\"Day\")\n",
    "plt.ylabel(\"Downtime minutes\")"
   ]
  },
  {
   "cell_type": "code",
   "execution_count": 154,
   "id": "6e7ace78",
   "metadata": {},
   "outputs": [],
   "source": [
    "dtds = pd.DataFrame([\n",
    "    ['1999-05-01',11],\n",
    "    ['1999-05-02',21],\n",
    "    ['1999-05-02',22],\n",
    "    ['1999-05-02',23],\n",
    "    ['1999-05-03',31],\n",
    "    ['1999-05-04',41],\n",
    "    ['1999-05-04',42],\n",
    "    ['1999-05-04',43],\n",
    "    ['1999-05-04',44],\n",
    "    ['1999-05-05',51],\n",
    "    ['1999-05-06',61],\n",
    "    ['1999-05-07',71],\n",
    "    ['1999-05-08',81],\n",
    "    ['1999-05-08',82],\n",
    "    ['1999-05-08',83],\n",
    "    ['1999-05-08',84]],\n",
    "    columns=['time','downtime'])\n",
    "#dtds = dtds.set_index('time')"
   ]
  },
  {
   "cell_type": "code",
   "execution_count": 155,
   "id": "42cf9d01",
   "metadata": {},
   "outputs": [
    {
     "data": {
      "text/html": [
       "<div>\n",
       "<style scoped>\n",
       "    .dataframe tbody tr th:only-of-type {\n",
       "        vertical-align: middle;\n",
       "    }\n",
       "\n",
       "    .dataframe tbody tr th {\n",
       "        vertical-align: top;\n",
       "    }\n",
       "\n",
       "    .dataframe thead th {\n",
       "        text-align: right;\n",
       "    }\n",
       "</style>\n",
       "<table border=\"1\" class=\"dataframe\">\n",
       "  <thead>\n",
       "    <tr style=\"text-align: right;\">\n",
       "      <th></th>\n",
       "      <th>time</th>\n",
       "      <th>downtime</th>\n",
       "    </tr>\n",
       "  </thead>\n",
       "  <tbody>\n",
       "    <tr>\n",
       "      <th>0</th>\n",
       "      <td>1999-05-01</td>\n",
       "      <td>11</td>\n",
       "    </tr>\n",
       "    <tr>\n",
       "      <th>1</th>\n",
       "      <td>1999-05-02</td>\n",
       "      <td>21</td>\n",
       "    </tr>\n",
       "    <tr>\n",
       "      <th>2</th>\n",
       "      <td>1999-05-02</td>\n",
       "      <td>22</td>\n",
       "    </tr>\n",
       "    <tr>\n",
       "      <th>3</th>\n",
       "      <td>1999-05-02</td>\n",
       "      <td>23</td>\n",
       "    </tr>\n",
       "    <tr>\n",
       "      <th>4</th>\n",
       "      <td>1999-05-03</td>\n",
       "      <td>31</td>\n",
       "    </tr>\n",
       "    <tr>\n",
       "      <th>5</th>\n",
       "      <td>1999-05-04</td>\n",
       "      <td>41</td>\n",
       "    </tr>\n",
       "    <tr>\n",
       "      <th>6</th>\n",
       "      <td>1999-05-04</td>\n",
       "      <td>42</td>\n",
       "    </tr>\n",
       "    <tr>\n",
       "      <th>7</th>\n",
       "      <td>1999-05-04</td>\n",
       "      <td>43</td>\n",
       "    </tr>\n",
       "    <tr>\n",
       "      <th>8</th>\n",
       "      <td>1999-05-04</td>\n",
       "      <td>44</td>\n",
       "    </tr>\n",
       "    <tr>\n",
       "      <th>9</th>\n",
       "      <td>1999-05-05</td>\n",
       "      <td>51</td>\n",
       "    </tr>\n",
       "    <tr>\n",
       "      <th>10</th>\n",
       "      <td>1999-05-06</td>\n",
       "      <td>61</td>\n",
       "    </tr>\n",
       "    <tr>\n",
       "      <th>11</th>\n",
       "      <td>1999-05-07</td>\n",
       "      <td>71</td>\n",
       "    </tr>\n",
       "    <tr>\n",
       "      <th>12</th>\n",
       "      <td>1999-05-08</td>\n",
       "      <td>81</td>\n",
       "    </tr>\n",
       "    <tr>\n",
       "      <th>13</th>\n",
       "      <td>1999-05-08</td>\n",
       "      <td>82</td>\n",
       "    </tr>\n",
       "    <tr>\n",
       "      <th>14</th>\n",
       "      <td>1999-05-08</td>\n",
       "      <td>83</td>\n",
       "    </tr>\n",
       "    <tr>\n",
       "      <th>15</th>\n",
       "      <td>1999-05-08</td>\n",
       "      <td>84</td>\n",
       "    </tr>\n",
       "  </tbody>\n",
       "</table>\n",
       "</div>"
      ],
      "text/plain": [
       "          time  downtime\n",
       "0   1999-05-01        11\n",
       "1   1999-05-02        21\n",
       "2   1999-05-02        22\n",
       "3   1999-05-02        23\n",
       "4   1999-05-03        31\n",
       "5   1999-05-04        41\n",
       "6   1999-05-04        42\n",
       "7   1999-05-04        43\n",
       "8   1999-05-04        44\n",
       "9   1999-05-05        51\n",
       "10  1999-05-06        61\n",
       "11  1999-05-07        71\n",
       "12  1999-05-08        81\n",
       "13  1999-05-08        82\n",
       "14  1999-05-08        83\n",
       "15  1999-05-08        84"
      ]
     },
     "execution_count": 155,
     "metadata": {},
     "output_type": "execute_result"
    }
   ],
   "source": [
    "dtds"
   ]
  },
  {
   "cell_type": "code",
   "execution_count": 157,
   "id": "def8a78f",
   "metadata": {},
   "outputs": [],
   "source": [
    "# Determine max_slots\n",
    "max_slots = dtds.time.value_counts().max()\n",
    "slot_size = len(dtds.time.value_counts()) "
   ]
  },
  {
   "cell_type": "code",
   "execution_count": 160,
   "id": "aca4bba4",
   "metadata": {},
   "outputs": [
    {
     "name": "stdout",
     "output_type": "stream",
     "text": [
      "mesmo dia\n",
      "mudou dia\n",
      "mesmo dia\n",
      "mesmo dia\n",
      "mudou dia\n",
      "mudou dia\n",
      "mesmo dia\n",
      "mesmo dia\n",
      "mesmo dia\n",
      "mudou dia\n",
      "mudou dia\n",
      "mudou dia\n",
      "mudou dia\n",
      "mesmo dia\n",
      "mesmo dia\n",
      "mesmo dia\n"
     ]
    }
   ],
   "source": [
    "# Monta numero de listas correspondentes à max_slots, de tamanho correspondente ao número de dias\n",
    "downtime_matrix = np.zeros([max_slots,slot_size])\n",
    "day_idx=0\n",
    "reg_idx=0\n",
    "lista_idx=-1\n",
    "last_day = dtds['time'].iloc[0,]\n",
    "for day in dtds['time'].tolist():\n",
    "    if (day != last_day):\n",
    "        print ('mudou dia')\n",
    "        lista_idx=0\n",
    "        last_day = day\n",
    "        day_idx+=1\n",
    "    else:\n",
    "        print ('mesmo dia')\n",
    "        lista_idx+=1\n",
    "    downtime_matrix[lista_idx,day_idx]=dtds.downtime.iloc[reg_idx,]\n",
    "    reg_idx+=1"
   ]
  },
  {
   "cell_type": "code",
   "execution_count": 181,
   "id": "6b8f13bb",
   "metadata": {},
   "outputs": [
    {
     "data": {
      "text/plain": [
       "array([[11.,  0.,  0.,  0.],\n",
       "       [21., 22., 23.,  0.],\n",
       "       [31.,  0.,  0.,  0.],\n",
       "       [41., 42., 43., 44.],\n",
       "       [51.,  0.,  0.,  0.],\n",
       "       [61.,  0.,  0.,  0.],\n",
       "       [71.,  0.,  0.,  0.],\n",
       "       [81., 82., 83., 84.]])"
      ]
     },
     "execution_count": 181,
     "metadata": {},
     "output_type": "execute_result"
    }
   ],
   "source": [
    "downtime_matrix.T"
   ]
  },
  {
   "cell_type": "code",
   "execution_count": 182,
   "id": "5809a36f",
   "metadata": {},
   "outputs": [],
   "source": [
    "downtimedf = pd.DataFrame (downtime_matrix.T)"
   ]
  },
  {
   "cell_type": "code",
   "execution_count": 185,
   "id": "211d0fcc",
   "metadata": {},
   "outputs": [
    {
     "data": {
      "text/plain": [
       "Index(['1999-05-01', '1999-05-02', '1999-05-03', '1999-05-04', '1999-05-05',\n",
       "       '1999-05-06', '1999-05-07', '1999-05-08'],\n",
       "      dtype='object')"
      ]
     },
     "execution_count": 185,
     "metadata": {},
     "output_type": "execute_result"
    }
   ],
   "source": [
    "dtds.time.value_counts().sort_index().index"
   ]
  },
  {
   "cell_type": "code",
   "execution_count": 186,
   "id": "c33d5b4d",
   "metadata": {},
   "outputs": [],
   "source": [
    "downtimedf['day'] = dtds.time.value_counts().sort_index().index"
   ]
  },
  {
   "cell_type": "code",
   "execution_count": 187,
   "id": "c6531a5a",
   "metadata": {},
   "outputs": [
    {
     "data": {
      "text/html": [
       "<div>\n",
       "<style scoped>\n",
       "    .dataframe tbody tr th:only-of-type {\n",
       "        vertical-align: middle;\n",
       "    }\n",
       "\n",
       "    .dataframe tbody tr th {\n",
       "        vertical-align: top;\n",
       "    }\n",
       "\n",
       "    .dataframe thead th {\n",
       "        text-align: right;\n",
       "    }\n",
       "</style>\n",
       "<table border=\"1\" class=\"dataframe\">\n",
       "  <thead>\n",
       "    <tr style=\"text-align: right;\">\n",
       "      <th></th>\n",
       "      <th>0</th>\n",
       "      <th>1</th>\n",
       "      <th>2</th>\n",
       "      <th>3</th>\n",
       "      <th>day</th>\n",
       "    </tr>\n",
       "  </thead>\n",
       "  <tbody>\n",
       "    <tr>\n",
       "      <th>0</th>\n",
       "      <td>11.0</td>\n",
       "      <td>0.0</td>\n",
       "      <td>0.0</td>\n",
       "      <td>0.0</td>\n",
       "      <td>1999-05-01</td>\n",
       "    </tr>\n",
       "    <tr>\n",
       "      <th>1</th>\n",
       "      <td>21.0</td>\n",
       "      <td>22.0</td>\n",
       "      <td>23.0</td>\n",
       "      <td>0.0</td>\n",
       "      <td>1999-05-02</td>\n",
       "    </tr>\n",
       "    <tr>\n",
       "      <th>2</th>\n",
       "      <td>31.0</td>\n",
       "      <td>0.0</td>\n",
       "      <td>0.0</td>\n",
       "      <td>0.0</td>\n",
       "      <td>1999-05-03</td>\n",
       "    </tr>\n",
       "    <tr>\n",
       "      <th>3</th>\n",
       "      <td>41.0</td>\n",
       "      <td>42.0</td>\n",
       "      <td>43.0</td>\n",
       "      <td>44.0</td>\n",
       "      <td>1999-05-04</td>\n",
       "    </tr>\n",
       "    <tr>\n",
       "      <th>4</th>\n",
       "      <td>51.0</td>\n",
       "      <td>0.0</td>\n",
       "      <td>0.0</td>\n",
       "      <td>0.0</td>\n",
       "      <td>1999-05-05</td>\n",
       "    </tr>\n",
       "    <tr>\n",
       "      <th>5</th>\n",
       "      <td>61.0</td>\n",
       "      <td>0.0</td>\n",
       "      <td>0.0</td>\n",
       "      <td>0.0</td>\n",
       "      <td>1999-05-06</td>\n",
       "    </tr>\n",
       "    <tr>\n",
       "      <th>6</th>\n",
       "      <td>71.0</td>\n",
       "      <td>0.0</td>\n",
       "      <td>0.0</td>\n",
       "      <td>0.0</td>\n",
       "      <td>1999-05-07</td>\n",
       "    </tr>\n",
       "    <tr>\n",
       "      <th>7</th>\n",
       "      <td>81.0</td>\n",
       "      <td>82.0</td>\n",
       "      <td>83.0</td>\n",
       "      <td>84.0</td>\n",
       "      <td>1999-05-08</td>\n",
       "    </tr>\n",
       "  </tbody>\n",
       "</table>\n",
       "</div>"
      ],
      "text/plain": [
       "      0     1     2     3         day\n",
       "0  11.0   0.0   0.0   0.0  1999-05-01\n",
       "1  21.0  22.0  23.0   0.0  1999-05-02\n",
       "2  31.0   0.0   0.0   0.0  1999-05-03\n",
       "3  41.0  42.0  43.0  44.0  1999-05-04\n",
       "4  51.0   0.0   0.0   0.0  1999-05-05\n",
       "5  61.0   0.0   0.0   0.0  1999-05-06\n",
       "6  71.0   0.0   0.0   0.0  1999-05-07\n",
       "7  81.0  82.0  83.0  84.0  1999-05-08"
      ]
     },
     "execution_count": 187,
     "metadata": {},
     "output_type": "execute_result"
    }
   ],
   "source": [
    "downtimedf"
   ]
  },
  {
   "cell_type": "code",
   "execution_count": 189,
   "id": "9138e73d",
   "metadata": {},
   "outputs": [],
   "source": [
    "downtimedf = downtimedf.set_index('day')"
   ]
  },
  {
   "cell_type": "code",
   "execution_count": 190,
   "id": "447203eb",
   "metadata": {},
   "outputs": [
    {
     "data": {
      "text/html": [
       "<div>\n",
       "<style scoped>\n",
       "    .dataframe tbody tr th:only-of-type {\n",
       "        vertical-align: middle;\n",
       "    }\n",
       "\n",
       "    .dataframe tbody tr th {\n",
       "        vertical-align: top;\n",
       "    }\n",
       "\n",
       "    .dataframe thead th {\n",
       "        text-align: right;\n",
       "    }\n",
       "</style>\n",
       "<table border=\"1\" class=\"dataframe\">\n",
       "  <thead>\n",
       "    <tr style=\"text-align: right;\">\n",
       "      <th></th>\n",
       "      <th>0</th>\n",
       "      <th>1</th>\n",
       "      <th>2</th>\n",
       "      <th>3</th>\n",
       "    </tr>\n",
       "    <tr>\n",
       "      <th>day</th>\n",
       "      <th></th>\n",
       "      <th></th>\n",
       "      <th></th>\n",
       "      <th></th>\n",
       "    </tr>\n",
       "  </thead>\n",
       "  <tbody>\n",
       "    <tr>\n",
       "      <th>1999-05-01</th>\n",
       "      <td>11.0</td>\n",
       "      <td>0.0</td>\n",
       "      <td>0.0</td>\n",
       "      <td>0.0</td>\n",
       "    </tr>\n",
       "    <tr>\n",
       "      <th>1999-05-02</th>\n",
       "      <td>21.0</td>\n",
       "      <td>22.0</td>\n",
       "      <td>23.0</td>\n",
       "      <td>0.0</td>\n",
       "    </tr>\n",
       "    <tr>\n",
       "      <th>1999-05-03</th>\n",
       "      <td>31.0</td>\n",
       "      <td>0.0</td>\n",
       "      <td>0.0</td>\n",
       "      <td>0.0</td>\n",
       "    </tr>\n",
       "    <tr>\n",
       "      <th>1999-05-04</th>\n",
       "      <td>41.0</td>\n",
       "      <td>42.0</td>\n",
       "      <td>43.0</td>\n",
       "      <td>44.0</td>\n",
       "    </tr>\n",
       "    <tr>\n",
       "      <th>1999-05-05</th>\n",
       "      <td>51.0</td>\n",
       "      <td>0.0</td>\n",
       "      <td>0.0</td>\n",
       "      <td>0.0</td>\n",
       "    </tr>\n",
       "    <tr>\n",
       "      <th>1999-05-06</th>\n",
       "      <td>61.0</td>\n",
       "      <td>0.0</td>\n",
       "      <td>0.0</td>\n",
       "      <td>0.0</td>\n",
       "    </tr>\n",
       "    <tr>\n",
       "      <th>1999-05-07</th>\n",
       "      <td>71.0</td>\n",
       "      <td>0.0</td>\n",
       "      <td>0.0</td>\n",
       "      <td>0.0</td>\n",
       "    </tr>\n",
       "    <tr>\n",
       "      <th>1999-05-08</th>\n",
       "      <td>81.0</td>\n",
       "      <td>82.0</td>\n",
       "      <td>83.0</td>\n",
       "      <td>84.0</td>\n",
       "    </tr>\n",
       "  </tbody>\n",
       "</table>\n",
       "</div>"
      ],
      "text/plain": [
       "               0     1     2     3\n",
       "day                               \n",
       "1999-05-01  11.0   0.0   0.0   0.0\n",
       "1999-05-02  21.0  22.0  23.0   0.0\n",
       "1999-05-03  31.0   0.0   0.0   0.0\n",
       "1999-05-04  41.0  42.0  43.0  44.0\n",
       "1999-05-05  51.0   0.0   0.0   0.0\n",
       "1999-05-06  61.0   0.0   0.0   0.0\n",
       "1999-05-07  71.0   0.0   0.0   0.0\n",
       "1999-05-08  81.0  82.0  83.0  84.0"
      ]
     },
     "execution_count": 190,
     "metadata": {},
     "output_type": "execute_result"
    }
   ],
   "source": [
    "downtimedf"
   ]
  },
  {
   "cell_type": "code",
   "execution_count": 191,
   "id": "b0189e90",
   "metadata": {},
   "outputs": [
    {
     "data": {
      "text/plain": [
       "Text(0, 0.5, 'Downtime minutes')"
      ]
     },
     "execution_count": 191,
     "metadata": {},
     "output_type": "execute_result"
    },
    {
     "data": {
      "image/png": "[encoded data removed]",
      "text/plain": [
       "<Figure size 720x360 with 1 Axes>"
      ]
     },
     "metadata": {
      "needs_background": "light"
     },
     "output_type": "display_data"
    }
   ],
   "source": [
    "downtimedf.plot(kind=\"bar\",stacked=True, legend=None,figsize=(10, 5))\n",
    "plt.title(\"Downtime Occurencies\")\n",
    "plt.xlabel(\"Day\")\n",
    "plt.ylabel(\"Downtime minutes\")"
   ]
  },
  {
   "cell_type": "code",
   "execution_count": null,
   "id": "7952d5b2",
   "metadata": {},
   "outputs": [],
   "source": []
  }
 ],
 "metadata": {
  "kernelspec": {
   "display_name": "base",
   "language": "python",
   "name": "base"
  },
  "language_info": {
   "codemirror_mode": {
    "name": "ipython",
    "version": 3
   },
   "file_extension": ".py",
   "mimetype": "text/x-python",
   "name": "python",
   "nbconvert_exporter": "python",
   "pygments_lexer": "ipython3",
   "version": "3.8.8"
  }
 },
 "nbformat": 4,
 "nbformat_minor": 5
}
